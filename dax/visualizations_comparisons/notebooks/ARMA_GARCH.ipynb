{
 "cells": [
  {
   "cell_type": "markdown",
   "metadata": {},
   "source": [
    "## Covering all model components\n",
    "* mean model --> so far: Zero mean, try out new models: Constant mean and ARX\n",
    "* volatility model --> GARCH(1,1)\n",
    "* distribution --> normal distributed"
   ]
  },
  {
   "cell_type": "code",
   "execution_count": 47,
   "metadata": {},
   "outputs": [
    {
     "data": {
      "text/html": [
       "<div>\n",
       "<style scoped>\n",
       "    .dataframe tbody tr th:only-of-type {\n",
       "        vertical-align: middle;\n",
       "    }\n",
       "\n",
       "    .dataframe tbody tr th {\n",
       "        vertical-align: top;\n",
       "    }\n",
       "\n",
       "    .dataframe thead th {\n",
       "        text-align: right;\n",
       "    }\n",
       "</style>\n",
       "<table border=\"1\" class=\"dataframe\">\n",
       "  <thead>\n",
       "    <tr style=\"text-align: right;\">\n",
       "      <th></th>\n",
       "      <th>Close</th>\n",
       "      <th>LogRetLag1</th>\n",
       "      <th>LogRetLag2</th>\n",
       "      <th>LogRetLag3</th>\n",
       "      <th>LogRetLag4</th>\n",
       "      <th>LogRetLag5</th>\n",
       "    </tr>\n",
       "  </thead>\n",
       "  <tbody>\n",
       "    <tr>\n",
       "      <th>2019-09-10</th>\n",
       "      <td>12268.709961</td>\n",
       "      <td>0.347914</td>\n",
       "      <td>0.629422</td>\n",
       "      <td>1.163586</td>\n",
       "      <td>2.006097</td>\n",
       "      <td>2.960150</td>\n",
       "    </tr>\n",
       "    <tr>\n",
       "      <th>2019-09-11</th>\n",
       "      <td>12359.070312</td>\n",
       "      <td>0.733812</td>\n",
       "      <td>1.081725</td>\n",
       "      <td>1.363234</td>\n",
       "      <td>1.897398</td>\n",
       "      <td>2.739909</td>\n",
       "    </tr>\n",
       "    <tr>\n",
       "      <th>2019-09-12</th>\n",
       "      <td>12410.250000</td>\n",
       "      <td>0.413251</td>\n",
       "      <td>1.147063</td>\n",
       "      <td>1.494977</td>\n",
       "      <td>1.776485</td>\n",
       "      <td>2.310649</td>\n",
       "    </tr>\n",
       "    <tr>\n",
       "      <th>2019-09-13</th>\n",
       "      <td>12468.530273</td>\n",
       "      <td>0.468515</td>\n",
       "      <td>0.881766</td>\n",
       "      <td>1.615578</td>\n",
       "      <td>1.963491</td>\n",
       "      <td>2.245000</td>\n",
       "    </tr>\n",
       "    <tr>\n",
       "      <th>2019-09-16</th>\n",
       "      <td>12380.309570</td>\n",
       "      <td>-0.710062</td>\n",
       "      <td>-0.241547</td>\n",
       "      <td>0.171704</td>\n",
       "      <td>0.905516</td>\n",
       "      <td>1.253429</td>\n",
       "    </tr>\n",
       "    <tr>\n",
       "      <th>...</th>\n",
       "      <td>...</td>\n",
       "      <td>...</td>\n",
       "      <td>...</td>\n",
       "      <td>...</td>\n",
       "      <td>...</td>\n",
       "      <td>...</td>\n",
       "    </tr>\n",
       "    <tr>\n",
       "      <th>2023-11-16</th>\n",
       "      <td>15786.610352</td>\n",
       "      <td>0.243797</td>\n",
       "      <td>1.096667</td>\n",
       "      <td>2.837245</td>\n",
       "      <td>3.560679</td>\n",
       "      <td>2.788120</td>\n",
       "    </tr>\n",
       "    <tr>\n",
       "      <th>2023-11-17</th>\n",
       "      <td>15919.160156</td>\n",
       "      <td>0.836129</td>\n",
       "      <td>1.079926</td>\n",
       "      <td>1.932796</td>\n",
       "      <td>3.673374</td>\n",
       "      <td>4.396808</td>\n",
       "    </tr>\n",
       "    <tr>\n",
       "      <th>2023-11-20</th>\n",
       "      <td>15901.330078</td>\n",
       "      <td>-0.112067</td>\n",
       "      <td>0.724062</td>\n",
       "      <td>0.967860</td>\n",
       "      <td>1.820729</td>\n",
       "      <td>3.561307</td>\n",
       "    </tr>\n",
       "    <tr>\n",
       "      <th>2023-11-21</th>\n",
       "      <td>15900.530273</td>\n",
       "      <td>-0.005030</td>\n",
       "      <td>-0.117097</td>\n",
       "      <td>0.719032</td>\n",
       "      <td>0.962830</td>\n",
       "      <td>1.815699</td>\n",
       "    </tr>\n",
       "    <tr>\n",
       "      <th>2023-11-22</th>\n",
       "      <td>15957.820312</td>\n",
       "      <td>0.359655</td>\n",
       "      <td>0.354625</td>\n",
       "      <td>0.242559</td>\n",
       "      <td>1.078688</td>\n",
       "      <td>1.322485</td>\n",
       "    </tr>\n",
       "  </tbody>\n",
       "</table>\n",
       "<p>1072 rows × 6 columns</p>\n",
       "</div>"
      ],
      "text/plain": [
       "                   Close  LogRetLag1  LogRetLag2  LogRetLag3  LogRetLag4  \\\n",
       "2019-09-10  12268.709961    0.347914    0.629422    1.163586    2.006097   \n",
       "2019-09-11  12359.070312    0.733812    1.081725    1.363234    1.897398   \n",
       "2019-09-12  12410.250000    0.413251    1.147063    1.494977    1.776485   \n",
       "2019-09-13  12468.530273    0.468515    0.881766    1.615578    1.963491   \n",
       "2019-09-16  12380.309570   -0.710062   -0.241547    0.171704    0.905516   \n",
       "...                  ...         ...         ...         ...         ...   \n",
       "2023-11-16  15786.610352    0.243797    1.096667    2.837245    3.560679   \n",
       "2023-11-17  15919.160156    0.836129    1.079926    1.932796    3.673374   \n",
       "2023-11-20  15901.330078   -0.112067    0.724062    0.967860    1.820729   \n",
       "2023-11-21  15900.530273   -0.005030   -0.117097    0.719032    0.962830   \n",
       "2023-11-22  15957.820312    0.359655    0.354625    0.242559    1.078688   \n",
       "\n",
       "            LogRetLag5  \n",
       "2019-09-10    2.960150  \n",
       "2019-09-11    2.739909  \n",
       "2019-09-12    2.310649  \n",
       "2019-09-13    2.245000  \n",
       "2019-09-16    1.253429  \n",
       "...                ...  \n",
       "2023-11-16    2.788120  \n",
       "2023-11-17    4.396808  \n",
       "2023-11-20    3.561307  \n",
       "2023-11-21    1.815699  \n",
       "2023-11-22    1.322485  \n",
       "\n",
       "[1072 rows x 6 columns]"
      ]
     },
     "execution_count": 47,
     "metadata": {},
     "output_type": "execute_result"
    }
   ],
   "source": [
    "from arch import arch_model\n",
    "from datetime import timedelta\n",
    "import pandas as pd\n",
    "import numpy as np\n",
    "\n",
    "from evaluation.help_functions.prepare_data import most_recent_thursday, next_working_days\n",
    "from dax.help_functions.calculate_returns import calculate_returns\n",
    "from dax.help_functions.get_quantiles import get_norm_quantiles\n",
    "from dax.help_functions.get_dax_data import get_data\n",
    "\n",
    "\n",
    "daxdata = get_data().iloc[8000:,]\n",
    "start_date_excl = most_recent_thursday(daxdata) - timedelta(days=1)\n",
    "daxdata = daxdata.loc[daxdata.index <= start_date_excl]\n",
    "date_st = start_date_excl.strftime('%Y-%m-%d')\n",
    "\n",
    "daxdata = calculate_returns(daxdata, 5)\n",
    "daxdata.index = daxdata.index.date\n",
    "daxdata = daxdata.dropna()\n",
    "daxdata = daxdata[['Close', 'LogRetLag1',\n",
    "                   'LogRetLag2', 'LogRetLag3', 'LogRetLag4', 'LogRetLag5']]\n",
    "daxdata"
   ]
  },
  {
   "cell_type": "code",
   "execution_count": 48,
   "metadata": {},
   "outputs": [
    {
     "data": {
      "text/plain": [
       "(0, 0, 0)"
      ]
     },
     "execution_count": 48,
     "metadata": {},
     "output_type": "execute_result"
    }
   ],
   "source": [
    "import pmdarima\n",
    "import statsmodels as sm\n",
    "import arch\n",
    "\n",
    "# fit ARIMA on returns\n",
    "arima_model_fitted = pmdarima.auto_arima(daxdata['LogRetLag1'])\n",
    "arima_model_fitted.order"
   ]
  },
  {
   "cell_type": "markdown",
   "metadata": {},
   "source": [
    "Auto ARIMA model tells us that best mean is 0 mean --> try out ARMA(1,1) nevertheless"
   ]
  },
  {
   "cell_type": "code",
   "execution_count": 65,
   "metadata": {},
   "outputs": [
    {
     "name": "stdout",
     "output_type": "stream",
     "text": [
      "Iteration:      1,   Func. Count:      6,   Neg. LLF: 20221.713671609155\n",
      "Iteration:      2,   Func. Count:     15,   Neg. LLF: 425705458476.4596\n",
      "Iteration:      3,   Func. Count:     23,   Neg. LLF: 2121.3041844436784\n",
      "Iteration:      4,   Func. Count:     30,   Neg. LLF: 2123.8542260892054\n",
      "Iteration:      5,   Func. Count:     36,   Neg. LLF: 1685.4298317703115\n",
      "Iteration:      6,   Func. Count:     42,   Neg. LLF: 1682.7014064906982\n",
      "Iteration:      7,   Func. Count:     47,   Neg. LLF: 1682.6865026658477\n",
      "Iteration:      8,   Func. Count:     52,   Neg. LLF: 1682.6858515030933\n",
      "Iteration:      9,   Func. Count:     57,   Neg. LLF: 1682.685794492621\n",
      "Iteration:     10,   Func. Count:     62,   Neg. LLF: 1682.6857597398964\n",
      "Iteration:     11,   Func. Count:     66,   Neg. LLF: 1682.6857597394705\n",
      "Optimization terminated successfully    (Exit mode 0)\n",
      "            Current function value: 1682.6857597398964\n",
      "            Iterations: 11\n",
      "            Function evaluations: 66\n",
      "            Gradient evaluations: 11\n"
     ]
    },
    {
     "data": {
      "text/plain": [
       "0.06225480277754374"
      ]
     },
     "execution_count": 65,
     "metadata": {},
     "output_type": "execute_result"
    }
   ],
   "source": [
    "model = arch_model(daxdata['LogRetLag1'], mean='AR', p=1, q=1)\n",
    "model_fit = model.fit()\n",
    "\n",
    "predictions = model_fit.forecast(horizon=5)\n",
    "np.array(predictions.mean)[0][-1]\n",
    "#predictions.variance.values"
   ]
  },
  {
   "cell_type": "code",
   "execution_count": 56,
   "metadata": {},
   "outputs": [
    {
     "name": "stderr",
     "output_type": "stream",
     "text": [
      "c:\\Users\\Maria\\Documents\\Setups\\Lib\\site-packages\\statsmodels\\tsa\\base\\tsa_model.py:473: ValueWarning: A date index has been provided, but it has no associated frequency information and so will be ignored when e.g. forecasting.\n",
      "  self._init_dates(dates, freq)\n",
      "c:\\Users\\Maria\\Documents\\Setups\\Lib\\site-packages\\statsmodels\\tsa\\base\\tsa_model.py:473: ValueWarning: A date index has been provided, but it has no associated frequency information and so will be ignored when e.g. forecasting.\n",
      "  self._init_dates(dates, freq)\n"
     ]
    },
    {
     "name": "stdout",
     "output_type": "stream",
     "text": [
      "Iteration:      1,   Func. Count:      6,   Neg. LLF: 20221.713671609155\n",
      "Iteration:      2,   Func. Count:     15,   Neg. LLF: 425705458476.4596\n",
      "Iteration:      3,   Func. Count:     23,   Neg. LLF: 2121.3041844436784\n",
      "Iteration:      4,   Func. Count:     30,   Neg. LLF: 2123.8542260892054\n",
      "Iteration:      5,   Func. Count:     36,   Neg. LLF: 1685.4298317703115\n",
      "Iteration:      6,   Func. Count:     42,   Neg. LLF: 1682.7014064906982\n",
      "Iteration:      7,   Func. Count:     47,   Neg. LLF: 1682.6865026658477\n",
      "Iteration:      8,   Func. Count:     52,   Neg. LLF: 1682.6858515030933\n",
      "Iteration:      9,   Func. Count:     57,   Neg. LLF: 1682.685794492621\n",
      "Iteration:     10,   Func. Count:     62,   Neg. LLF: 1682.6857597398964\n",
      "Iteration:     11,   Func. Count:     66,   Neg. LLF: 1682.6857597394705\n",
      "Optimization terminated successfully    (Exit mode 0)\n",
      "            Current function value: 1682.6857597398964\n",
      "            Iterations: 11\n",
      "            Function evaluations: 66\n",
      "            Gradient evaluations: 11\n"
     ]
    },
    {
     "name": "stderr",
     "output_type": "stream",
     "text": [
      "c:\\Users\\Maria\\Documents\\Setups\\Lib\\site-packages\\statsmodels\\tsa\\base\\tsa_model.py:836: ValueWarning: No supported index is available. Prediction results will be given with an integer index beginning at `start`.\n",
      "  return get_prediction_index(\n",
      "c:\\Users\\Maria\\Documents\\Setups\\Lib\\site-packages\\statsmodels\\tsa\\base\\tsa_model.py:836: FutureWarning: No supported index is available. In the next version, calling this method in a model without a supported index will result in an exception.\n",
      "  return get_prediction_index(\n"
     ]
    },
    {
     "ename": "AttributeError",
     "evalue": "'ARCHModelResult' object has no attribute 'predict'",
     "output_type": "error",
     "traceback": [
      "\u001b[1;31m---------------------------------------------------------------------------\u001b[0m",
      "\u001b[1;31mAttributeError\u001b[0m                            Traceback (most recent call last)",
      "\u001b[1;32mc:\\Users\\Maria\\Documents\\Studium\\Pyhton Projekte\\PTSFC\\dax\\models\\ARMA_GARCH.ipynb Cell 5\u001b[0m line \u001b[0;36m1\n\u001b[0;32m      <a href='vscode-notebook-cell:/c%3A/Users/Maria/Documents/Studium/Pyhton%20Projekte/PTSFC/dax/models/ARMA_GARCH.ipynb#X12sZmlsZQ%3D%3D?line=6'>7</a>\u001b[0m garch_results \u001b[39m=\u001b[39m garch_model\u001b[39m.\u001b[39mfit()\n\u001b[0;32m      <a href='vscode-notebook-cell:/c%3A/Users/Maria/Documents/Studium/Pyhton%20Projekte/PTSFC/dax/models/ARMA_GARCH.ipynb#X12sZmlsZQ%3D%3D?line=8'>9</a>\u001b[0m arma_results\u001b[39m.\u001b[39mpredict(\u001b[39m5\u001b[39m)\n\u001b[1;32m---> <a href='vscode-notebook-cell:/c%3A/Users/Maria/Documents/Studium/Pyhton%20Projekte/PTSFC/dax/models/ARMA_GARCH.ipynb#X12sZmlsZQ%3D%3D?line=9'>10</a>\u001b[0m garch_results\u001b[39m.\u001b[39mpredict(\u001b[39m5\u001b[39m)\n",
      "\u001b[1;31mAttributeError\u001b[0m: 'ARCHModelResult' object has no attribute 'predict'"
     ]
    }
   ],
   "source": [
    "# ARMA(1,1) model using statsmodels\n",
    "arma_model = pmdarima.arima.ARIMA(order=(1, 0, 1))\n",
    "arma_results = arma_model.fit(daxdata['LogRetLag1'])\n",
    "\n",
    "# GARCH(1,1) model using arch\n",
    "garch_model = arch_model(daxdata['LogRetLag1'],p=1, q=1)\n",
    "garch_results = garch_model.fit()\n",
    "\n",
    "arma_results.predict(5)\n",
    "garch_results.predict(5)"
   ]
  },
  {
   "cell_type": "code",
   "execution_count": 40,
   "metadata": {},
   "outputs": [
    {
     "name": "stderr",
     "output_type": "stream",
     "text": [
      "c:\\Users\\Maria\\Documents\\Setups\\Lib\\site-packages\\statsmodels\\tsa\\base\\tsa_model.py:473: ValueWarning: A date index has been provided, but it has no associated frequency information and so will be ignored when e.g. forecasting.\n",
      "  self._init_dates(dates, freq)\n",
      "c:\\Users\\Maria\\Documents\\Setups\\Lib\\site-packages\\statsmodels\\tsa\\base\\tsa_model.py:473: ValueWarning: A date index has been provided, but it has no associated frequency information and so will be ignored when e.g. forecasting.\n",
      "  self._init_dates(dates, freq)\n"
     ]
    },
    {
     "name": "stdout",
     "output_type": "stream",
     "text": [
      "Iteration:      1,   Func. Count:      6,   Neg. LLF: 21329.154582094467\n",
      "Iteration:      2,   Func. Count:     15,   Neg. LLF: 401485083641.05475\n",
      "Iteration:      3,   Func. Count:     23,   Neg. LLF: 2118.9392873926745\n",
      "Iteration:      4,   Func. Count:     30,   Neg. LLF: 2151.5869944546585\n",
      "Iteration:      5,   Func. Count:     36,   Neg. LLF: 1683.724922313428\n",
      "Iteration:      6,   Func. Count:     42,   Neg. LLF: 1681.7348762545657\n",
      "Iteration:      7,   Func. Count:     47,   Neg. LLF: 1681.7196036188511\n",
      "Iteration:      8,   Func. Count:     52,   Neg. LLF: 1681.719385786248\n",
      "Iteration:      9,   Func. Count:     57,   Neg. LLF: 1681.719354752845\n",
      "Iteration:     10,   Func. Count:     62,   Neg. LLF: 1681.719340292042\n",
      "Iteration:     11,   Func. Count:     66,   Neg. LLF: 1681.7193402909604\n",
      "Optimization terminated successfully    (Exit mode 0)\n",
      "            Current function value: 1681.719340292042\n",
      "            Iterations: 11\n",
      "            Function evaluations: 66\n",
      "            Gradient evaluations: 11\n",
      "<arch.univariate.base.ARCHModelForecast object at 0x000001CF0A1CAB10>\n",
      "1072    0.052642\n",
      "dtype: float64\n"
     ]
    },
    {
     "name": "stderr",
     "output_type": "stream",
     "text": [
      "c:\\Users\\Maria\\Documents\\Setups\\Lib\\site-packages\\statsmodels\\tsa\\base\\tsa_model.py:836: ValueWarning: No supported index is available. Prediction results will be given with an integer index beginning at `start`.\n",
      "  return get_prediction_index(\n",
      "c:\\Users\\Maria\\Documents\\Setups\\Lib\\site-packages\\statsmodels\\tsa\\base\\tsa_model.py:836: FutureWarning: No supported index is available. In the next version, calling this method in a model without a supported index will result in an exception.\n",
      "  return get_prediction_index(\n"
     ]
    }
   ],
   "source": [
    "arma_model = pmdarima.arima.ARIMA(order=(1,0,1))\n",
    "arma_model.fit(daxdata['LogRetLag1'])\n",
    "\n",
    "\n",
    "# Use ARMA to predict mu --> mean component\n",
    "predicted_mu = arma_model.predict(n_periods=1)\n",
    "\n",
    "# fit a GARCH(1,1) model on the residuals of the ARMA model\n",
    "garch = arch.arch_model(arma_residuals, p=1, q=1)\n",
    "garch_fitted = garch.fit()\n",
    "\n",
    "# Use GARCH to predict the residual --> variance component \n",
    "garch_variance = garch_fitted.forecast(horizon=1)\n",
    "predicted_et = garch_variance.mean['h.1'].iloc[-1]\n",
    "\n",
    "print(garch_variance)\n",
    "# Combine both models' output: yt = mu + et\n",
    "prediction = predicted_mu + predicted_et\n",
    "print(prediction)"
   ]
  },
  {
   "cell_type": "code",
   "execution_count": 23,
   "metadata": {},
   "outputs": [
    {
     "ename": "TypeError",
     "evalue": "ARIMA.fit() missing 1 required positional argument: 'y'",
     "output_type": "error",
     "traceback": [
      "\u001b[1;31m---------------------------------------------------------------------------\u001b[0m",
      "\u001b[1;31mTypeError\u001b[0m                                 Traceback (most recent call last)",
      "\u001b[1;32mc:\\Users\\Maria\\Documents\\Studium\\Pyhton Projekte\\PTSFC\\dax\\models\\ARMA_GARCH.ipynb Cell 3\u001b[0m line \u001b[0;36m5\n\u001b[0;32m      <a href='vscode-notebook-cell:/c%3A/Users/Maria/Documents/Studium/Pyhton%20Projekte/PTSFC/dax/models/ARMA_GARCH.ipynb#W5sZmlsZQ%3D%3D?line=2'>3</a>\u001b[0m \u001b[39m# automatically fit the optimal ARIMA model for given time series\u001b[39;00m\n\u001b[0;32m      <a href='vscode-notebook-cell:/c%3A/Users/Maria/Documents/Studium/Pyhton%20Projekte/PTSFC/dax/models/ARMA_GARCH.ipynb#W5sZmlsZQ%3D%3D?line=3'>4</a>\u001b[0m arima_model \u001b[39m=\u001b[39m pmdarima\u001b[39m.\u001b[39mauto_arima(daxdata[\u001b[39m'\u001b[39m\u001b[39mLogRetLag1\u001b[39m\u001b[39m'\u001b[39m])\n\u001b[1;32m----> <a href='vscode-notebook-cell:/c%3A/Users/Maria/Documents/Studium/Pyhton%20Projekte/PTSFC/dax/models/ARMA_GARCH.ipynb#W5sZmlsZQ%3D%3D?line=4'>5</a>\u001b[0m arima_model\u001b[39m.\u001b[39mfit()\n\u001b[0;32m      <a href='vscode-notebook-cell:/c%3A/Users/Maria/Documents/Studium/Pyhton%20Projekte/PTSFC/dax/models/ARMA_GARCH.ipynb#W5sZmlsZQ%3D%3D?line=5'>6</a>\u001b[0m \u001b[39m# one-step out-of sample forecast\u001b[39;00m\n\u001b[0;32m      <a href='vscode-notebook-cell:/c%3A/Users/Maria/Documents/Studium/Pyhton%20Projekte/PTSFC/dax/models/ARMA_GARCH.ipynb#W5sZmlsZQ%3D%3D?line=6'>7</a>\u001b[0m forecast \u001b[39m=\u001b[39m arima_model\u001b[39m.\u001b[39mpredict(n_periods\u001b[39m=\u001b[39m\u001b[39m1\u001b[39m)\n",
      "\u001b[1;31mTypeError\u001b[0m: ARIMA.fit() missing 1 required positional argument: 'y'"
     ]
    }
   ],
   "source": [
    "\n",
    "arima_residuals = arima_model.arima_res_.resid\n",
    "\n",
    "# fit a GARCH(1,1) model on the residuals of the ARIMA model\n",
    "garch = arch.arch_model(arima_residuals, p=1, q=1)\n",
    "garch_fitted = garch.fit()\n",
    "\n",
    "# Use ARIMA to predict mu\n",
    "predicted_mu = arima_model.predict(n_periods=1)[0]\n",
    "# Use GARCH to predict the residual\n",
    "garch_forecast = garch_model.forecast(horizon=1)\n",
    "predicted_et = garch_forecast.mean['h.1'].iloc[-1]\n",
    "# Combine both models' output: yt = mu + et\n",
    "prediction = predicted_mu + predicted_et"
   ]
  },
  {
   "cell_type": "markdown",
   "metadata": {},
   "source": [
    "AR(2) passt noch am besten, aber alle Modelle schlecht --> trotzdem mal ausprobieren"
   ]
  },
  {
   "cell_type": "code",
   "execution_count": 19,
   "metadata": {},
   "outputs": [
    {
     "data": {
      "text/html": [
       "<div>\n",
       "<style scoped>\n",
       "    .dataframe tbody tr th:only-of-type {\n",
       "        vertical-align: middle;\n",
       "    }\n",
       "\n",
       "    .dataframe tbody tr th {\n",
       "        vertical-align: top;\n",
       "    }\n",
       "\n",
       "    .dataframe thead th {\n",
       "        text-align: right;\n",
       "    }\n",
       "</style>\n",
       "<table border=\"1\" class=\"dataframe\">\n",
       "  <thead>\n",
       "    <tr style=\"text-align: right;\">\n",
       "      <th></th>\n",
       "      <th>h.1</th>\n",
       "    </tr>\n",
       "  </thead>\n",
       "  <tbody>\n",
       "    <tr>\n",
       "      <th>2023-11-22</th>\n",
       "      <td>0.717912</td>\n",
       "    </tr>\n",
       "  </tbody>\n",
       "</table>\n",
       "</div>"
      ],
      "text/plain": [
       "                 h.1\n",
       "2023-11-22  0.717912"
      ]
     },
     "execution_count": 19,
     "metadata": {},
     "output_type": "execute_result"
    }
   ],
   "source": [
    "from arch.univariate import ARX, GARCH\n",
    "\n",
    "# mean component \n",
    "mean_model_ar2 = ARX(daxdata['LogRetLag1'], lags=[2])\n",
    "\n",
    "# volatility component \n",
    "mean_model_ar2.volatility = GARCH(p=1, q=1)\n",
    "\n",
    "result = mean_model_ar2.fit(update_freq=0, disp=\"off\")\n",
    "\n",
    "forecast = result.forecast(horizon=1, reindex=False)\n",
    "forecast.variance"
   ]
  }
 ],
 "metadata": {
  "kernelspec": {
   "display_name": "base",
   "language": "python",
   "name": "python3"
  },
  "language_info": {
   "codemirror_mode": {
    "name": "ipython",
    "version": 3
   },
   "file_extension": ".py",
   "mimetype": "text/x-python",
   "name": "python",
   "nbconvert_exporter": "python",
   "pygments_lexer": "ipython3",
   "version": "3.11.5"
  }
 },
 "nbformat": 4,
 "nbformat_minor": 2
}
