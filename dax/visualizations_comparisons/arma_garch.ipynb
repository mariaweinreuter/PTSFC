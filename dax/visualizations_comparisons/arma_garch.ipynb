{
 "cells": [
  {
   "cell_type": "markdown",
   "metadata": {},
   "source": [
    "## Covering all model components\n",
    "* mean model --> so far: Zero mean, try out ARIMA\n",
    "* volatility model --> GARCH\n",
    "* distribution --> normal distributed\n",
    "\n",
    "Followed this article:\n",
    "https://medium.com/analytics-vidhya/arima-garch-forecasting-with-python-7a3f797de3ff"
   ]
  },
  {
   "cell_type": "code",
   "execution_count": 24,
   "metadata": {},
   "outputs": [],
   "source": [
    "from arch import arch_model\n",
    "from datetime import timedelta\n",
    "import pandas as pd\n",
    "import numpy as np\n",
    "\n",
    "from evaluation.help_functions.prepare_data import most_recent_thursday, next_working_days\n",
    "from dax.help_functions.get_dax_data import get_prepared_data\n",
    "from dax.help_functions.get_quantiles import get_norm_quantiles\n",
    "from dax.help_functions.get_dax_data import get_data"
   ]
  },
  {
   "cell_type": "code",
   "execution_count": 25,
   "metadata": {},
   "outputs": [
    {
     "data": {
      "text/html": [
       "<div>\n",
       "<style scoped>\n",
       "    .dataframe tbody tr th:only-of-type {\n",
       "        vertical-align: middle;\n",
       "    }\n",
       "\n",
       "    .dataframe tbody tr th {\n",
       "        vertical-align: top;\n",
       "    }\n",
       "\n",
       "    .dataframe thead th {\n",
       "        text-align: right;\n",
       "    }\n",
       "</style>\n",
       "<table border=\"1\" class=\"dataframe\">\n",
       "  <thead>\n",
       "    <tr style=\"text-align: right;\">\n",
       "      <th></th>\n",
       "      <th>Close</th>\n",
       "      <th>LogRetLag1</th>\n",
       "      <th>LogRetLag2</th>\n",
       "      <th>LogRetLag3</th>\n",
       "      <th>LogRetLag4</th>\n",
       "      <th>LogRetLag5</th>\n",
       "    </tr>\n",
       "    <tr>\n",
       "      <th>Date</th>\n",
       "      <th></th>\n",
       "      <th></th>\n",
       "      <th></th>\n",
       "      <th></th>\n",
       "      <th></th>\n",
       "      <th></th>\n",
       "    </tr>\n",
       "  </thead>\n",
       "  <tbody>\n",
       "    <tr>\n",
       "      <th>2019-09-10 00:00:00+02:00</th>\n",
       "      <td>12268.709961</td>\n",
       "      <td>0.347914</td>\n",
       "      <td>0.629422</td>\n",
       "      <td>1.163586</td>\n",
       "      <td>2.006097</td>\n",
       "      <td>2.960150</td>\n",
       "    </tr>\n",
       "    <tr>\n",
       "      <th>2019-09-11 00:00:00+02:00</th>\n",
       "      <td>12359.070312</td>\n",
       "      <td>0.733812</td>\n",
       "      <td>1.081725</td>\n",
       "      <td>1.363234</td>\n",
       "      <td>1.897398</td>\n",
       "      <td>2.739909</td>\n",
       "    </tr>\n",
       "    <tr>\n",
       "      <th>2019-09-12 00:00:00+02:00</th>\n",
       "      <td>12410.250000</td>\n",
       "      <td>0.413251</td>\n",
       "      <td>1.147063</td>\n",
       "      <td>1.494977</td>\n",
       "      <td>1.776485</td>\n",
       "      <td>2.310649</td>\n",
       "    </tr>\n",
       "    <tr>\n",
       "      <th>2019-09-13 00:00:00+02:00</th>\n",
       "      <td>12468.530273</td>\n",
       "      <td>0.468515</td>\n",
       "      <td>0.881766</td>\n",
       "      <td>1.615578</td>\n",
       "      <td>1.963491</td>\n",
       "      <td>2.245000</td>\n",
       "    </tr>\n",
       "    <tr>\n",
       "      <th>2019-09-16 00:00:00+02:00</th>\n",
       "      <td>12380.309570</td>\n",
       "      <td>-0.710062</td>\n",
       "      <td>-0.241547</td>\n",
       "      <td>0.171704</td>\n",
       "      <td>0.905516</td>\n",
       "      <td>1.253429</td>\n",
       "    </tr>\n",
       "    <tr>\n",
       "      <th>...</th>\n",
       "      <td>...</td>\n",
       "      <td>...</td>\n",
       "      <td>...</td>\n",
       "      <td>...</td>\n",
       "      <td>...</td>\n",
       "      <td>...</td>\n",
       "    </tr>\n",
       "    <tr>\n",
       "      <th>2024-01-04 00:00:00+01:00</th>\n",
       "      <td>16617.289062</td>\n",
       "      <td>0.475928</td>\n",
       "      <td>-0.910971</td>\n",
       "      <td>-0.805254</td>\n",
       "      <td>-0.505791</td>\n",
       "      <td>-0.748107</td>\n",
       "    </tr>\n",
       "    <tr>\n",
       "      <th>2024-01-05 00:00:00+01:00</th>\n",
       "      <td>16594.210938</td>\n",
       "      <td>-0.138977</td>\n",
       "      <td>0.336951</td>\n",
       "      <td>-1.049948</td>\n",
       "      <td>-0.944231</td>\n",
       "      <td>-0.644768</td>\n",
       "    </tr>\n",
       "    <tr>\n",
       "      <th>2024-01-08 00:00:00+01:00</th>\n",
       "      <td>16716.470703</td>\n",
       "      <td>0.734061</td>\n",
       "      <td>0.595084</td>\n",
       "      <td>1.071012</td>\n",
       "      <td>-0.315887</td>\n",
       "      <td>-0.210170</td>\n",
       "    </tr>\n",
       "    <tr>\n",
       "      <th>2024-01-09 00:00:00+01:00</th>\n",
       "      <td>16688.359375</td>\n",
       "      <td>-0.168307</td>\n",
       "      <td>0.565754</td>\n",
       "      <td>0.426777</td>\n",
       "      <td>0.902705</td>\n",
       "      <td>-0.484194</td>\n",
       "    </tr>\n",
       "    <tr>\n",
       "      <th>2024-01-10 00:00:00+01:00</th>\n",
       "      <td>16689.810547</td>\n",
       "      <td>0.008695</td>\n",
       "      <td>-0.159612</td>\n",
       "      <td>0.574449</td>\n",
       "      <td>0.435472</td>\n",
       "      <td>0.911400</td>\n",
       "    </tr>\n",
       "  </tbody>\n",
       "</table>\n",
       "<p>1104 rows × 6 columns</p>\n",
       "</div>"
      ],
      "text/plain": [
       "                                  Close  LogRetLag1  LogRetLag2  LogRetLag3  \\\n",
       "Date                                                                          \n",
       "2019-09-10 00:00:00+02:00  12268.709961    0.347914    0.629422    1.163586   \n",
       "2019-09-11 00:00:00+02:00  12359.070312    0.733812    1.081725    1.363234   \n",
       "2019-09-12 00:00:00+02:00  12410.250000    0.413251    1.147063    1.494977   \n",
       "2019-09-13 00:00:00+02:00  12468.530273    0.468515    0.881766    1.615578   \n",
       "2019-09-16 00:00:00+02:00  12380.309570   -0.710062   -0.241547    0.171704   \n",
       "...                                 ...         ...         ...         ...   \n",
       "2024-01-04 00:00:00+01:00  16617.289062    0.475928   -0.910971   -0.805254   \n",
       "2024-01-05 00:00:00+01:00  16594.210938   -0.138977    0.336951   -1.049948   \n",
       "2024-01-08 00:00:00+01:00  16716.470703    0.734061    0.595084    1.071012   \n",
       "2024-01-09 00:00:00+01:00  16688.359375   -0.168307    0.565754    0.426777   \n",
       "2024-01-10 00:00:00+01:00  16689.810547    0.008695   -0.159612    0.574449   \n",
       "\n",
       "                           LogRetLag4  LogRetLag5  \n",
       "Date                                               \n",
       "2019-09-10 00:00:00+02:00    2.006097    2.960150  \n",
       "2019-09-11 00:00:00+02:00    1.897398    2.739909  \n",
       "2019-09-12 00:00:00+02:00    1.776485    2.310649  \n",
       "2019-09-13 00:00:00+02:00    1.963491    2.245000  \n",
       "2019-09-16 00:00:00+02:00    0.905516    1.253429  \n",
       "...                               ...         ...  \n",
       "2024-01-04 00:00:00+01:00   -0.505791   -0.748107  \n",
       "2024-01-05 00:00:00+01:00   -0.944231   -0.644768  \n",
       "2024-01-08 00:00:00+01:00   -0.315887   -0.210170  \n",
       "2024-01-09 00:00:00+01:00    0.902705   -0.484194  \n",
       "2024-01-10 00:00:00+01:00    0.435472    0.911400  \n",
       "\n",
       "[1104 rows x 6 columns]"
      ]
     },
     "execution_count": 25,
     "metadata": {},
     "output_type": "execute_result"
    }
   ],
   "source": [
    "daxdata = get_prepared_data()\n",
    "daxdata.loc['2019-09-10 00:00:00+02:0':]"
   ]
  },
  {
   "cell_type": "markdown",
   "metadata": {},
   "source": [
    "LogRetLag1 ---> 1. Prediction at t\n",
    "LogRegLag2 --> 2. Prediction at t\n",
    "LogRetLag3 --> 3. Prediction at t"
   ]
  },
  {
   "cell_type": "markdown",
   "metadata": {},
   "source": [
    "## Mean Component \n",
    "* Find ARIMA-order for each Horizon\n",
    "* Use Library PMDARIMA, IC = AIC, BIC\n",
    "* Unter beiden Kriterien folgende Order: \n",
    "{'LogRetLag1': (0, 0, 0),\n",
    " 'LogRetLag2': (5, 0, 0),\n",
    " 'LogRetLag3': (5, 0, 1),\n",
    " 'LogRetLag4': (5, 0, 0),\n",
    " 'LogRetLag5': (5, 0, 2)}\n"
   ]
  },
  {
   "cell_type": "code",
   "execution_count": 26,
   "metadata": {},
   "outputs": [
    {
     "name": "stdout",
     "output_type": "stream",
     "text": [
      "ADF Statistic: -8.074532544987864\n",
      "p-value: 1.5179612772993655e-12\n",
      "Critical Values: {'1%': -3.436402509014354, '5%': -2.8642124318084456, '10%': -2.568192893555997}\n",
      "Die Zeitreihe der Log-Renditen ist stationär.\n"
     ]
    }
   ],
   "source": [
    "import yfinance as yf\n",
    "from statsmodels.tsa.stattools import adfuller\n",
    "import numpy as np\n",
    "\n",
    "def test_stationarity(daxdata):\n",
    "    # Berechnung der Log-Renditen\n",
    "\n",
    "    # Durchführung des Augmented Dickey-Fuller-Tests\n",
    "    result = adfuller(daxdata['LogRetLag1'], autolag='AIC')\n",
    "\n",
    "    print('ADF Statistic:', result[0])\n",
    "    print('p-value:', result[1])\n",
    "    print('Critical Values:', result[4])\n",
    "\n",
    "    # Überprüfung des p-Werts\n",
    "    if result[1] <= 0.05:\n",
    "        print(\"Die Zeitreihe der Log-Renditen ist stationär.\")\n",
    "    else:\n",
    "        print(\"Die Zeitreihe der Log-Renditen ist nicht stationär.\")\n",
    "\n",
    "# Stationaritätstest durchführen\n",
    "test_stationarity(daxdata)"
   ]
  },
  {
   "cell_type": "code",
   "execution_count": 27,
   "metadata": {},
   "outputs": [
    {
     "data": {
      "text/plain": [
       "{'LogRetLag1': (0, 0, 0),\n",
       " 'LogRetLag2': (5, 0, 0),\n",
       " 'LogRetLag3': (5, 0, 1),\n",
       " 'LogRetLag4': (5, 0, 0),\n",
       " 'LogRetLag5': (5, 0, 2)}"
      ]
     },
     "execution_count": 27,
     "metadata": {},
     "output_type": "execute_result"
    }
   ],
   "source": [
    "import pmdarima\n",
    "import statsmodels as sm\n",
    "\n",
    "order_dict_aic = {}\n",
    "for h in ['LogRetLag1', 'LogRetLag2', 'LogRetLag3', 'LogRetLag4','LogRetLag5']:\n",
    "    # fit ARIMA on returns\n",
    "    arima_model_fitted = pmdarima.auto_arima(daxdata[h], stationary=True)\n",
    "    order_dict_aic.update({h: arima_model_fitted.order})\n",
    "\n",
    "order_dict_aic"
   ]
  },
  {
   "cell_type": "code",
   "execution_count": 28,
   "metadata": {},
   "outputs": [
    {
     "data": {
      "text/plain": [
       "{'LogRetLag1': (0, 0, 0),\n",
       " 'LogRetLag2': (5, 0, 0),\n",
       " 'LogRetLag3': (5, 0, 1),\n",
       " 'LogRetLag4': (5, 0, 0),\n",
       " 'LogRetLag5': (5, 0, 2)}"
      ]
     },
     "execution_count": 28,
     "metadata": {},
     "output_type": "execute_result"
    }
   ],
   "source": [
    "order_dict_bic = {}\n",
    "for h in ['LogRetLag1', 'LogRetLag2', 'LogRetLag3', 'LogRetLag4', 'LogRetLag5']:\n",
    "    # fit ARIMA on returns\n",
    "    arima_model_fitted = pmdarima.auto_arima(daxdata[h], stationary=True)\n",
    "    order_dict_bic.update({h: arima_model_fitted.order})\n",
    "\n",
    "order_dict_bic"
   ]
  },
  {
   "cell_type": "markdown",
   "metadata": {},
   "source": [
    "Glücklicherweise selbe order bei beiden Kriterien --> Nutze diese!  "
   ]
  },
  {
   "cell_type": "markdown",
   "metadata": {},
   "source": [
    "## Volatility Component \n",
    "Find best p and q "
   ]
  },
  {
   "cell_type": "code",
   "execution_count": 66,
   "metadata": {},
   "outputs": [
    {
     "name": "stderr",
     "output_type": "stream",
     "text": [
      "c:\\Users\\Maria\\Documents\\Setups\\Lib\\site-packages\\statsmodels\\tsa\\base\\tsa_model.py:836: ValueWarning: No supported index is available. Prediction results will be given with an integer index beginning at `start`.\n",
      "  return get_prediction_index(\n",
      "c:\\Users\\Maria\\Documents\\Setups\\Lib\\site-packages\\statsmodels\\tsa\\base\\tsa_model.py:836: FutureWarning: No supported index is available. In the next version, calling this method in a model without a supported index will result in an exception.\n",
      "  return get_prediction_index(\n"
     ]
    },
    {
     "name": "stdout",
     "output_type": "stream",
     "text": [
      "1 - ARIMA Order: (0, 0, 0), GARCH Order: (1, 1)\n",
      "Final Prediction: 0.09044223109790384\n"
     ]
    },
    {
     "name": "stderr",
     "output_type": "stream",
     "text": [
      "c:\\Users\\Maria\\Documents\\Setups\\Lib\\site-packages\\statsmodels\\tsa\\base\\tsa_model.py:836: ValueWarning: No supported index is available. Prediction results will be given with an integer index beginning at `start`.\n",
      "  return get_prediction_index(\n",
      "c:\\Users\\Maria\\Documents\\Setups\\Lib\\site-packages\\statsmodels\\tsa\\base\\tsa_model.py:836: FutureWarning: No supported index is available. In the next version, calling this method in a model without a supported index will result in an exception.\n",
      "  return get_prediction_index(\n"
     ]
    },
    {
     "name": "stdout",
     "output_type": "stream",
     "text": [
      "2 - ARIMA Order: (5, 0, 0), GARCH Order: (1, 1)\n",
      "Final Prediction: 0.029662790098789985\n"
     ]
    },
    {
     "name": "stderr",
     "output_type": "stream",
     "text": [
      "c:\\Users\\Maria\\Documents\\Setups\\Lib\\site-packages\\statsmodels\\tsa\\base\\tsa_model.py:836: ValueWarning: No supported index is available. Prediction results will be given with an integer index beginning at `start`.\n",
      "  return get_prediction_index(\n",
      "c:\\Users\\Maria\\Documents\\Setups\\Lib\\site-packages\\statsmodels\\tsa\\base\\tsa_model.py:836: FutureWarning: No supported index is available. In the next version, calling this method in a model without a supported index will result in an exception.\n",
      "  return get_prediction_index(\n"
     ]
    },
    {
     "name": "stdout",
     "output_type": "stream",
     "text": [
      "3 - ARIMA Order: (5, 0, 1), GARCH Order: (1, 1)\n",
      "Final Prediction: -0.10087012353997829\n"
     ]
    },
    {
     "name": "stderr",
     "output_type": "stream",
     "text": [
      "c:\\Users\\Maria\\Documents\\Setups\\Lib\\site-packages\\statsmodels\\tsa\\base\\tsa_model.py:836: ValueWarning: No supported index is available. Prediction results will be given with an integer index beginning at `start`.\n",
      "  return get_prediction_index(\n",
      "c:\\Users\\Maria\\Documents\\Setups\\Lib\\site-packages\\statsmodels\\tsa\\base\\tsa_model.py:836: FutureWarning: No supported index is available. In the next version, calling this method in a model without a supported index will result in an exception.\n",
      "  return get_prediction_index(\n"
     ]
    },
    {
     "name": "stdout",
     "output_type": "stream",
     "text": [
      "4 - ARIMA Order: (5, 0, 0), GARCH Order: (1, 1)\n",
      "Final Prediction: 0.07400974046221918\n",
      "5 - ARIMA Order: (5, 0, 2), GARCH Order: (1, 1)\n",
      "Final Prediction: 0.35043469800250454\n"
     ]
    },
    {
     "name": "stderr",
     "output_type": "stream",
     "text": [
      "c:\\Users\\Maria\\Documents\\Setups\\Lib\\site-packages\\statsmodels\\tsa\\base\\tsa_model.py:836: ValueWarning: No supported index is available. Prediction results will be given with an integer index beginning at `start`.\n",
      "  return get_prediction_index(\n",
      "c:\\Users\\Maria\\Documents\\Setups\\Lib\\site-packages\\statsmodels\\tsa\\base\\tsa_model.py:836: FutureWarning: No supported index is available. In the next version, calling this method in a model without a supported index will result in an exception.\n",
      "  return get_prediction_index(\n"
     ]
    }
   ],
   "source": [
    "import pmdarima\n",
    "import numpy as np\n",
    "import arch\n",
    "\n",
    "# Define a range for GARCH orders\n",
    "p_values = range(1, 5)  # adjust as needed\n",
    "q_values = range(1, 5)  # adjust as needed\n",
    "\n",
    "best_orders_aic = {}\n",
    "best_orders_bic = {}\n",
    "\n",
    "for h in [1,2,3,4,5]:\n",
    "    # ARIMA model\n",
    "    temp_model = pmdarima.auto_arima(daxdata.iloc[:,h], suppress_warnings=True)\n",
    "    temp_residuals = temp_model.arima_res_.resid\n",
    "\n",
    "    # GARCH model\n",
    "    garch_temp = arch.arch_model( \n",
    "        temp_residuals, p=1, q=1, dist='t')\n",
    "    garch_fitted = garch_temp.fit(disp='off')\n",
    "\n",
    "    # Forecasting\n",
    "    predicted_mu = temp_model.predict(n_periods=h).iloc[-1]\n",
    "    garch_forecast = garch_fitted.forecast(horizon=h)\n",
    "    horizon_name = f'h.{h}'\n",
    "    predicted_et = garch_forecast.mean[horizon_name].iloc[-1]\n",
    "\n",
    "    # Final prediction\n",
    "    prediction = predicted_mu + predicted_et\n",
    "\n",
    "    print(f\"{h} - ARIMA Order: {temp_model.order}, GARCH Order: (1, 1)\")\n",
    "    print(\"Final Prediction:\", prediction)"
   ]
  },
  {
   "cell_type": "code",
   "execution_count": 64,
   "metadata": {},
   "outputs": [
    {
     "name": "stderr",
     "output_type": "stream",
     "text": [
      "c:\\Users\\Maria\\Documents\\Setups\\Lib\\site-packages\\statsmodels\\tsa\\base\\tsa_model.py:836: ValueWarning: No supported index is available. Prediction results will be given with an integer index beginning at `start`.\n",
      "  return get_prediction_index(\n",
      "c:\\Users\\Maria\\Documents\\Setups\\Lib\\site-packages\\statsmodels\\tsa\\base\\tsa_model.py:836: FutureWarning: No supported index is available. In the next version, calling this method in a model without a supported index will result in an exception.\n",
      "  return get_prediction_index(\n"
     ]
    },
    {
     "data": {
      "text/plain": [
       "1104    0.783102\n",
       "1105    0.718666\n",
       "1106    0.665614\n",
       "1107    0.817193\n",
       "1108    0.244860\n",
       "dtype: float64"
      ]
     },
     "execution_count": 64,
     "metadata": {},
     "output_type": "execute_result"
    }
   ],
   "source": [
    "temp_model.predict(n_periods=h)"
   ]
  },
  {
   "cell_type": "markdown",
   "metadata": {},
   "source": [
    "Alternative GARCH Model with optimized GARCH Parameters und mean=zero"
   ]
  },
  {
   "cell_type": "code",
   "execution_count": 81,
   "metadata": {},
   "outputs": [],
   "source": [
    "import arch\n",
    "# Define a range for GARCH orders\n",
    "p_values = range(1, 5)  # adjust as needed\n",
    "q_values = range(1, 5)  # adjust as needed\n",
    "lag_values = range(0,5)\n",
    "\n",
    "best_orders_aic={}\n",
    "best_orders_bic={}\n",
    "\n",
    "for h in ['LogRetLag1', 'LogRetLag2', 'LogRetLag3', 'LogRetLag4','LogRetLag5']:\n",
    "    # Grid search for best GARCH orders using AIC\n",
    "   \n",
    "    best_aic = float(\"inf\")\n",
    "    best_order = None\n",
    "\n",
    "    for p in p_values:\n",
    "        for q in q_values:\n",
    "            for lag in lag_values: \n",
    "                model = arch.arch_model(daxdata[h], mean='AR', lags = lag, vol='Garch', p=p, q=q, dist='t')\n",
    "                result = model.fit(disp='off')\n",
    "                aic = result.aic\n",
    "                if aic < best_aic:\n",
    "                    best_aic = aic\n",
    "                    best_order = (p, q)\n",
    "                    best_lag = lag\n",
    "    best_orders_aic.update({h: [best_aic, best_order, lag]})\n",
    "\n",
    "    best_bic = float(\"inf\")\n",
    "    best_order = None\n",
    "\n",
    "    for p in p_values:\n",
    "        for q in q_values:\n",
    "            for lag in lag_values: \n",
    "                model = arch.arch_model(daxdata[h], mean='AR', lags = lag, vol='Garch', p=p, q=q, dist='t')\n",
    "                result = model.fit(disp='off')\n",
    "                bic = result.bic\n",
    "                if bic < best_bic:\n",
    "                    best_bic = bic\n",
    "                    best_order = (p, q)\n",
    "                    best_lag = lag\n",
    "    best_orders_bic.update({h: [best_bic, best_order, lag]})"
   ]
  },
  {
   "cell_type": "code",
   "execution_count": 80,
   "metadata": {},
   "outputs": [
    {
     "data": {
      "text/plain": [
       "{'LogRetLag1': [3299.0289013353513, (1, 1), 4],\n",
       " 'LogRetLag2': [3518.310435423856, (1, 1), 4],\n",
       " 'LogRetLag3': [3677.9638894156005, (2, 1), 4],\n",
       " 'LogRetLag4': [3842.902122610829, (4, 1), 4],\n",
       " 'LogRetLag5': [3877.574033527474, (4, 1), 4]}"
      ]
     },
     "execution_count": 80,
     "metadata": {},
     "output_type": "execute_result"
    }
   ],
   "source": [
    "best_orders_aic"
   ]
  },
  {
   "cell_type": "code",
   "execution_count": 82,
   "metadata": {},
   "outputs": [
    {
     "data": {
      "text/plain": [
       "{'LogRetLag1': [3335.835347361089, (1, 1), 4],\n",
       " 'LogRetLag2': [3563.338024552934, (1, 1), 4],\n",
       " 'LogRetLag3': [3724.33194858793, (1, 1), 4],\n",
       " 'LogRetLag4': [3899.342676846499, (2, 1), 4],\n",
       " 'LogRetLag5': [3929.615072402873, (1, 1), 4]}"
      ]
     },
     "execution_count": 82,
     "metadata": {},
     "output_type": "execute_result"
    }
   ],
   "source": [
    "best_orders_bic"
   ]
  },
  {
   "cell_type": "code",
   "execution_count": 13,
   "metadata": {},
   "outputs": [
    {
     "data": {
      "text/plain": [
       "{'LogRetLag1': [28525.96408653065, (2, 1)],\n",
       " 'LogRetLag2': [34446.041667757985, (1, 4)],\n",
       " 'LogRetLag3': [37501.865788263414, (1, 4)],\n",
       " 'LogRetLag4': [39473.77774045375, (1, 4)],\n",
       " 'LogRetLag5': [41160.60766632941, (1, 4)]}"
      ]
     },
     "execution_count": 13,
     "metadata": {},
     "output_type": "execute_result"
    }
   ],
   "source": [
    "best_orders_aic # with mean zero"
   ]
  },
  {
   "cell_type": "code",
   "execution_count": 14,
   "metadata": {},
   "outputs": [
    {
     "data": {
      "text/plain": [
       "{'LogRetLag1': [28488.880522565232, (3, 4)],\n",
       " 'LogRetLag2': [34396.22638366342, (1, 4)],\n",
       " 'LogRetLag3': [37452.05050416885, (1, 4)],\n",
       " 'LogRetLag4': [39423.962456359186, (1, 4)],\n",
       " 'LogRetLag5': [41110.792382234846, (1, 4)]}"
      ]
     },
     "execution_count": 14,
     "metadata": {},
     "output_type": "execute_result"
    }
   ],
   "source": [
    "best_orders_aic"
   ]
  },
  {
   "cell_type": "code",
   "execution_count": 75,
   "metadata": {},
   "outputs": [
    {
     "data": {
      "text/html": [
       "<div>\n",
       "<style scoped>\n",
       "    .dataframe tbody tr th:only-of-type {\n",
       "        vertical-align: middle;\n",
       "    }\n",
       "\n",
       "    .dataframe tbody tr th {\n",
       "        vertical-align: top;\n",
       "    }\n",
       "\n",
       "    .dataframe thead th {\n",
       "        text-align: right;\n",
       "    }\n",
       "</style>\n",
       "<table border=\"1\" class=\"dataframe\">\n",
       "  <thead>\n",
       "    <tr style=\"text-align: right;\">\n",
       "      <th></th>\n",
       "      <th>q0.025</th>\n",
       "      <th>q0.25</th>\n",
       "      <th>q0.5</th>\n",
       "      <th>q0.75</th>\n",
       "      <th>q0.975</th>\n",
       "    </tr>\n",
       "    <tr>\n",
       "      <th>date_time</th>\n",
       "      <th></th>\n",
       "      <th></th>\n",
       "      <th></th>\n",
       "      <th></th>\n",
       "      <th></th>\n",
       "    </tr>\n",
       "  </thead>\n",
       "  <tbody>\n",
       "    <tr>\n",
       "      <th>2024-01-11</th>\n",
       "      <td>-2.044406</td>\n",
       "      <td>-0.545404</td>\n",
       "      <td>5.199669e-17</td>\n",
       "      <td>0.545404</td>\n",
       "      <td>2.044406</td>\n",
       "    </tr>\n",
       "    <tr>\n",
       "      <th>2024-01-12</th>\n",
       "      <td>-2.448383</td>\n",
       "      <td>-0.736331</td>\n",
       "      <td>7.122157e-17</td>\n",
       "      <td>0.736331</td>\n",
       "      <td>2.448383</td>\n",
       "    </tr>\n",
       "    <tr>\n",
       "      <th>2024-01-15</th>\n",
       "      <td>-3.767726</td>\n",
       "      <td>-1.104888</td>\n",
       "      <td>1.065392e-16</td>\n",
       "      <td>1.104888</td>\n",
       "      <td>3.767726</td>\n",
       "    </tr>\n",
       "    <tr>\n",
       "      <th>2024-01-16</th>\n",
       "      <td>-4.255448</td>\n",
       "      <td>-1.303550</td>\n",
       "      <td>1.263741e-16</td>\n",
       "      <td>1.303550</td>\n",
       "      <td>4.255448</td>\n",
       "    </tr>\n",
       "    <tr>\n",
       "      <th>2024-01-17</th>\n",
       "      <td>-4.322703</td>\n",
       "      <td>-1.412060</td>\n",
       "      <td>1.380163e-16</td>\n",
       "      <td>1.412060</td>\n",
       "      <td>4.322703</td>\n",
       "    </tr>\n",
       "  </tbody>\n",
       "</table>\n",
       "</div>"
      ],
      "text/plain": [
       "              q0.025     q0.25          q0.5     q0.75    q0.975\n",
       "date_time                                                       \n",
       "2024-01-11 -2.044406 -0.545404  5.199669e-17  0.545404  2.044406\n",
       "2024-01-12 -2.448383 -0.736331  7.122157e-17  0.736331  2.448383\n",
       "2024-01-15 -3.767726 -1.104888  1.065392e-16  1.104888  3.767726\n",
       "2024-01-16 -4.255448 -1.303550  1.263741e-16  1.303550  4.255448\n",
       "2024-01-17 -4.322703 -1.412060  1.380163e-16  1.412060  4.322703"
      ]
     },
     "execution_count": 75,
     "metadata": {},
     "output_type": "execute_result"
    }
   ],
   "source": [
    "# Prediction with GARCH(1,1) and mean zero \n",
    "import arch\n",
    "from dax.help_functions.get_quantiles import get_t_quantiles\n",
    "\n",
    "horizon_estimates ={}\n",
    "\n",
    "for h in [1,2,3,4,5]:\n",
    "    # Grid search for best GARCH orders using AIC\n",
    "    model = arch.arch_model(\n",
    "        daxdata.iloc[:,h], mean='zero', vol='Garch', p=1, q=1, dist='t')\n",
    "    result = model.fit(disp='off')\n",
    "\n",
    "    # predict variance\n",
    "    garch_forecast = result.forecast(horizon=h)\n",
    "    horizon_name = f'h.{h}'\n",
    "    variance_prediction = garch_forecast.variance[horizon_name].iloc[-1]\n",
    "    df = int(result.params['nu'])\n",
    "\n",
    "    # store data\n",
    "    horizon_estimates[h] = (df,variance_prediction)\n",
    "\n",
    "# get quantiles\n",
    "quantiles = [get_t_quantiles(pair) for pair in horizon_estimates.values()]\n",
    "\n",
    "# create submission frame\n",
    "column_names = [f'q{q}' for q in [0.025, 0.25, 0.5, 0.75, 0.975]]\n",
    "dates = next_working_days(max(daxdata.index), 5)\n",
    "quantile_df = pd.DataFrame(quantiles, columns=column_names)\n",
    "quantile_df['date_time'] = dates\n",
    "quantile_df.set_index('date_time', inplace=True)\n",
    "quantile_df\n",
    "\n",
    "\n"
   ]
  },
  {
   "cell_type": "code",
   "execution_count": 93,
   "metadata": {},
   "outputs": [],
   "source": [
    "import pandas as pd\n",
    "import numpy as np\n",
    "\n",
    "import arch\n",
    "\n",
    "from dax.models.combination.ARMA_GARCH.get_quantiles import get_t_quantiles\n",
    "from evaluation.help_functions.prepare_data import next_working_days\n",
    "from dax.help_functions.get_dax_data import get_prepared_data\n",
    "\n",
    "# decided for BIC since models have less parameters (simplicity)\n",
    "par_opt_zero_mean = {\n",
    "    1: [2, 1],  # criterion: BIC\n",
    "    2: [1, 4],  # criterion: AIC, BIC\n",
    "    3: [1, 4],  # criterion: AIC, BIC\n",
    "    4: [1, 4],  # criterion: AIC, BIC\n",
    "    5: [1, 4],  # criterion: AIC, BIC\n",
    "}\n",
    "\n",
    "par_opt_ar_mean = {\n",
    "    1: [1, 1, 4],  # criterion: AIC, BIC\n",
    "    2: [1, 1, 4],  # criterion: AIC, BIC\n",
    "    3: [1, 1, 4],  # criterion: BIC\n",
    "    4: [2, 1, 4],  # criterion: BIC\n",
    "    5: [1, 1, 4]   # criterion: BIC\n",
    "}\n",
    "\n",
    "\n",
    "def get_arma_garch_forecasts(daxdata=pd.DataFrame, quantiles=[0.025, 0.25, 0.5, 0.75, 0.975], basic=False, opt_pq=False, opt_lag_pq=False, submission=True):\n",
    "    ''' ARMA-GARCH Models:\n",
    "        * basic --> GARCH(1,1) with zero mean\n",
    "        * opt_pq --> GARCH (p,q) with zero mean and opt. p,q values \n",
    "        * opt_lag_pq --> AR(lag)-GARCH (p,q) model with opt. values\n",
    "    '''\n",
    "\n",
    "    if daxdata.empty:\n",
    "        daxdata = get_prepared_data()\n",
    "    date_st = daxdata.index[-1].strftime('%Y-%m-%d')\n",
    "\n",
    "    horizon_estimates = {}\n",
    "    for h in [1, 2, 3, 4, 5]:\n",
    "\n",
    "        if basic == True:\n",
    "            model = arch.arch_model(\n",
    "                daxdata.iloc[:, h], mean='zero', vol='Garch', p=1, q=1, dist='t')\n",
    "            result = model.fit(disp='off')\n",
    "\n",
    "        elif opt_pq == True:\n",
    "            p, q = par_opt_zero_mean[h][0], par_opt_zero_mean[h][1]\n",
    "            model = arch.arch_model(\n",
    "                daxdata.iloc[:, h], mean='zero', vol='Garch', p=p, q=q, dist='t')\n",
    "            result = model.fit(disp='off')\n",
    "\n",
    "        elif opt_lag_pq == True:\n",
    "            p, q, lag = par_opt_ar_mean[h][0], par_opt_ar_mean[h][1], par_opt_ar_mean[h][2]\n",
    "            model = arch.arch_model(\n",
    "                daxdata.iloc[:, h], mean='AR', lags=lag, vol='Garch', p=p, q=q, dist='t')\n",
    "            result = model.fit(disp='off')\n",
    "\n",
    "        # predict mean, variance and df\n",
    "        garch_forecast = result.forecast(horizon=h)\n",
    "        horizon_name = f'h.{h}'\n",
    "        variance_prediction = garch_forecast.variance[horizon_name].iloc[-1]\n",
    "        mean_prediction = garch_forecast.mean[horizon_name].iloc[-1]\n",
    "        df = int(result.params['nu'])\n",
    "\n",
    "        # store data\n",
    "        horizon_estimates[h] = (df, variance_prediction, mean_prediction)\n",
    "\n",
    "    # get quantiles\n",
    "    quantiles_calc = [get_t_quantiles(tuple)\n",
    "                 for tuple in horizon_estimates.values()]\n",
    "\n",
    "    # create quantile frame\n",
    "    column_names = [f'q{q}' for q in quantiles]\n",
    "    dates = next_working_days(max(daxdata.index), 5)\n",
    "    quantile_df = pd.DataFrame(quantiles_calc, columns=column_names)\n",
    "    quantile_df['date_time'] = dates\n",
    "    quantile_df.set_index('date_time', inplace=True)\n",
    "\n",
    "    # create submission frame\n",
    "    if submission == True:\n",
    "        quantile_df.insert(0, 'forecast_date', date_st)\n",
    "        quantile_df.insert(1, 'target', 'DAX')\n",
    "        quantile_df.insert(\n",
    "            2, \"horizon\", [str(i) + \" day\" for i in (1, 2, 5, 6, 7)])\n",
    "\n",
    "    return quantile_df"
   ]
  },
  {
   "cell_type": "code",
   "execution_count": 94,
   "metadata": {},
   "outputs": [
    {
     "data": {
      "text/html": [
       "<div>\n",
       "<style scoped>\n",
       "    .dataframe tbody tr th:only-of-type {\n",
       "        vertical-align: middle;\n",
       "    }\n",
       "\n",
       "    .dataframe tbody tr th {\n",
       "        vertical-align: top;\n",
       "    }\n",
       "\n",
       "    .dataframe thead th {\n",
       "        text-align: right;\n",
       "    }\n",
       "</style>\n",
       "<table border=\"1\" class=\"dataframe\">\n",
       "  <thead>\n",
       "    <tr style=\"text-align: right;\">\n",
       "      <th></th>\n",
       "      <th>forecast_date</th>\n",
       "      <th>target</th>\n",
       "      <th>horizon</th>\n",
       "      <th>q0.025</th>\n",
       "      <th>q0.25</th>\n",
       "      <th>q0.5</th>\n",
       "      <th>q0.75</th>\n",
       "      <th>q0.975</th>\n",
       "    </tr>\n",
       "    <tr>\n",
       "      <th>date_time</th>\n",
       "      <th></th>\n",
       "      <th></th>\n",
       "      <th></th>\n",
       "      <th></th>\n",
       "      <th></th>\n",
       "      <th></th>\n",
       "      <th></th>\n",
       "      <th></th>\n",
       "    </tr>\n",
       "  </thead>\n",
       "  <tbody>\n",
       "    <tr>\n",
       "      <th>2024-01-11</th>\n",
       "      <td>2024-01-10</td>\n",
       "      <td>DAX</td>\n",
       "      <td>1 day</td>\n",
       "      <td>-2.044406</td>\n",
       "      <td>-0.545404</td>\n",
       "      <td>5.199669e-17</td>\n",
       "      <td>0.545404</td>\n",
       "      <td>2.044406</td>\n",
       "    </tr>\n",
       "    <tr>\n",
       "      <th>2024-01-12</th>\n",
       "      <td>2024-01-10</td>\n",
       "      <td>DAX</td>\n",
       "      <td>2 day</td>\n",
       "      <td>-2.448383</td>\n",
       "      <td>-0.736331</td>\n",
       "      <td>7.122157e-17</td>\n",
       "      <td>0.736331</td>\n",
       "      <td>2.448383</td>\n",
       "    </tr>\n",
       "    <tr>\n",
       "      <th>2024-01-15</th>\n",
       "      <td>2024-01-10</td>\n",
       "      <td>DAX</td>\n",
       "      <td>5 day</td>\n",
       "      <td>-3.767726</td>\n",
       "      <td>-1.104888</td>\n",
       "      <td>1.065392e-16</td>\n",
       "      <td>1.104888</td>\n",
       "      <td>3.767726</td>\n",
       "    </tr>\n",
       "    <tr>\n",
       "      <th>2024-01-16</th>\n",
       "      <td>2024-01-10</td>\n",
       "      <td>DAX</td>\n",
       "      <td>6 day</td>\n",
       "      <td>-4.255448</td>\n",
       "      <td>-1.303550</td>\n",
       "      <td>1.263741e-16</td>\n",
       "      <td>1.303550</td>\n",
       "      <td>4.255448</td>\n",
       "    </tr>\n",
       "    <tr>\n",
       "      <th>2024-01-17</th>\n",
       "      <td>2024-01-10</td>\n",
       "      <td>DAX</td>\n",
       "      <td>7 day</td>\n",
       "      <td>-4.322703</td>\n",
       "      <td>-1.412060</td>\n",
       "      <td>1.380163e-16</td>\n",
       "      <td>1.412060</td>\n",
       "      <td>4.322703</td>\n",
       "    </tr>\n",
       "  </tbody>\n",
       "</table>\n",
       "</div>"
      ],
      "text/plain": [
       "           forecast_date target horizon    q0.025     q0.25          q0.5  \\\n",
       "date_time                                                                   \n",
       "2024-01-11    2024-01-10    DAX   1 day -2.044406 -0.545404  5.199669e-17   \n",
       "2024-01-12    2024-01-10    DAX   2 day -2.448383 -0.736331  7.122157e-17   \n",
       "2024-01-15    2024-01-10    DAX   5 day -3.767726 -1.104888  1.065392e-16   \n",
       "2024-01-16    2024-01-10    DAX   6 day -4.255448 -1.303550  1.263741e-16   \n",
       "2024-01-17    2024-01-10    DAX   7 day -4.322703 -1.412060  1.380163e-16   \n",
       "\n",
       "               q0.75    q0.975  \n",
       "date_time                       \n",
       "2024-01-11  0.545404  2.044406  \n",
       "2024-01-12  0.736331  2.448383  \n",
       "2024-01-15  1.104888  3.767726  \n",
       "2024-01-16  1.303550  4.255448  \n",
       "2024-01-17  1.412060  4.322703  "
      ]
     },
     "execution_count": 94,
     "metadata": {},
     "output_type": "execute_result"
    }
   ],
   "source": [
    "get_arma_garch_forecasts(basic=True)"
   ]
  },
  {
   "cell_type": "code",
   "execution_count": 95,
   "metadata": {},
   "outputs": [
    {
     "data": {
      "text/html": [
       "<div>\n",
       "<style scoped>\n",
       "    .dataframe tbody tr th:only-of-type {\n",
       "        vertical-align: middle;\n",
       "    }\n",
       "\n",
       "    .dataframe tbody tr th {\n",
       "        vertical-align: top;\n",
       "    }\n",
       "\n",
       "    .dataframe thead th {\n",
       "        text-align: right;\n",
       "    }\n",
       "</style>\n",
       "<table border=\"1\" class=\"dataframe\">\n",
       "  <thead>\n",
       "    <tr style=\"text-align: right;\">\n",
       "      <th></th>\n",
       "      <th>forecast_date</th>\n",
       "      <th>target</th>\n",
       "      <th>horizon</th>\n",
       "      <th>q0.025</th>\n",
       "      <th>q0.25</th>\n",
       "      <th>q0.5</th>\n",
       "      <th>q0.75</th>\n",
       "      <th>q0.975</th>\n",
       "    </tr>\n",
       "    <tr>\n",
       "      <th>date_time</th>\n",
       "      <th></th>\n",
       "      <th></th>\n",
       "      <th></th>\n",
       "      <th></th>\n",
       "      <th></th>\n",
       "      <th></th>\n",
       "      <th></th>\n",
       "      <th></th>\n",
       "    </tr>\n",
       "  </thead>\n",
       "  <tbody>\n",
       "    <tr>\n",
       "      <th>2024-01-11</th>\n",
       "      <td>2024-01-10</td>\n",
       "      <td>DAX</td>\n",
       "      <td>1 day</td>\n",
       "      <td>-2.304876</td>\n",
       "      <td>-0.521275</td>\n",
       "      <td>0.043040</td>\n",
       "      <td>0.607355</td>\n",
       "      <td>2.390955</td>\n",
       "    </tr>\n",
       "    <tr>\n",
       "      <th>2024-01-12</th>\n",
       "      <td>2024-01-10</td>\n",
       "      <td>DAX</td>\n",
       "      <td>2 day</td>\n",
       "      <td>-2.651404</td>\n",
       "      <td>-0.608537</td>\n",
       "      <td>0.134750</td>\n",
       "      <td>0.878037</td>\n",
       "      <td>2.920904</td>\n",
       "    </tr>\n",
       "    <tr>\n",
       "      <th>2024-01-15</th>\n",
       "      <td>2024-01-10</td>\n",
       "      <td>DAX</td>\n",
       "      <td>5 day</td>\n",
       "      <td>-3.666530</td>\n",
       "      <td>-1.056335</td>\n",
       "      <td>-0.106629</td>\n",
       "      <td>0.843078</td>\n",
       "      <td>3.453272</td>\n",
       "    </tr>\n",
       "    <tr>\n",
       "      <th>2024-01-16</th>\n",
       "      <td>2024-01-10</td>\n",
       "      <td>DAX</td>\n",
       "      <td>6 day</td>\n",
       "      <td>-3.151653</td>\n",
       "      <td>-0.677367</td>\n",
       "      <td>0.349285</td>\n",
       "      <td>1.375936</td>\n",
       "      <td>3.850222</td>\n",
       "    </tr>\n",
       "    <tr>\n",
       "      <th>2024-01-17</th>\n",
       "      <td>2024-01-10</td>\n",
       "      <td>DAX</td>\n",
       "      <td>7 day</td>\n",
       "      <td>-3.703519</td>\n",
       "      <td>-0.615234</td>\n",
       "      <td>0.601871</td>\n",
       "      <td>1.818977</td>\n",
       "      <td>4.907262</td>\n",
       "    </tr>\n",
       "  </tbody>\n",
       "</table>\n",
       "</div>"
      ],
      "text/plain": [
       "           forecast_date target horizon    q0.025     q0.25      q0.5  \\\n",
       "date_time                                                               \n",
       "2024-01-11    2024-01-10    DAX   1 day -2.304876 -0.521275  0.043040   \n",
       "2024-01-12    2024-01-10    DAX   2 day -2.651404 -0.608537  0.134750   \n",
       "2024-01-15    2024-01-10    DAX   5 day -3.666530 -1.056335 -0.106629   \n",
       "2024-01-16    2024-01-10    DAX   6 day -3.151653 -0.677367  0.349285   \n",
       "2024-01-17    2024-01-10    DAX   7 day -3.703519 -0.615234  0.601871   \n",
       "\n",
       "               q0.75    q0.975  \n",
       "date_time                       \n",
       "2024-01-11  0.607355  2.390955  \n",
       "2024-01-12  0.878037  2.920904  \n",
       "2024-01-15  0.843078  3.453272  \n",
       "2024-01-16  1.375936  3.850222  \n",
       "2024-01-17  1.818977  4.907262  "
      ]
     },
     "execution_count": 95,
     "metadata": {},
     "output_type": "execute_result"
    }
   ],
   "source": [
    "get_arma_garch_forecasts(opt_lag_pq=True)"
   ]
  },
  {
   "cell_type": "code",
   "execution_count": 96,
   "metadata": {},
   "outputs": [
    {
     "data": {
      "text/html": [
       "<div>\n",
       "<style scoped>\n",
       "    .dataframe tbody tr th:only-of-type {\n",
       "        vertical-align: middle;\n",
       "    }\n",
       "\n",
       "    .dataframe tbody tr th {\n",
       "        vertical-align: top;\n",
       "    }\n",
       "\n",
       "    .dataframe thead th {\n",
       "        text-align: right;\n",
       "    }\n",
       "</style>\n",
       "<table border=\"1\" class=\"dataframe\">\n",
       "  <thead>\n",
       "    <tr style=\"text-align: right;\">\n",
       "      <th></th>\n",
       "      <th>forecast_date</th>\n",
       "      <th>target</th>\n",
       "      <th>horizon</th>\n",
       "      <th>q0.025</th>\n",
       "      <th>q0.25</th>\n",
       "      <th>q0.5</th>\n",
       "      <th>q0.75</th>\n",
       "      <th>q0.975</th>\n",
       "    </tr>\n",
       "    <tr>\n",
       "      <th>date_time</th>\n",
       "      <th></th>\n",
       "      <th></th>\n",
       "      <th></th>\n",
       "      <th></th>\n",
       "      <th></th>\n",
       "      <th></th>\n",
       "      <th></th>\n",
       "      <th></th>\n",
       "    </tr>\n",
       "  </thead>\n",
       "  <tbody>\n",
       "    <tr>\n",
       "      <th>2024-01-11</th>\n",
       "      <td>2024-01-10</td>\n",
       "      <td>DAX</td>\n",
       "      <td>1 day</td>\n",
       "      <td>-2.061167</td>\n",
       "      <td>-0.549876</td>\n",
       "      <td>5.242299e-17</td>\n",
       "      <td>0.549876</td>\n",
       "      <td>2.061167</td>\n",
       "    </tr>\n",
       "    <tr>\n",
       "      <th>2024-01-12</th>\n",
       "      <td>2024-01-10</td>\n",
       "      <td>DAX</td>\n",
       "      <td>2 day</td>\n",
       "      <td>-2.341367</td>\n",
       "      <td>-0.704147</td>\n",
       "      <td>6.810857e-17</td>\n",
       "      <td>0.704147</td>\n",
       "      <td>2.341367</td>\n",
       "    </tr>\n",
       "    <tr>\n",
       "      <th>2024-01-15</th>\n",
       "      <td>2024-01-10</td>\n",
       "      <td>DAX</td>\n",
       "      <td>5 day</td>\n",
       "      <td>-3.347284</td>\n",
       "      <td>-1.006669</td>\n",
       "      <td>9.736991e-17</td>\n",
       "      <td>1.006669</td>\n",
       "      <td>3.347284</td>\n",
       "    </tr>\n",
       "    <tr>\n",
       "      <th>2024-01-16</th>\n",
       "      <td>2024-01-10</td>\n",
       "      <td>DAX</td>\n",
       "      <td>6 day</td>\n",
       "      <td>-3.527705</td>\n",
       "      <td>-1.126053</td>\n",
       "      <td>1.097353e-16</td>\n",
       "      <td>1.126053</td>\n",
       "      <td>3.527705</td>\n",
       "    </tr>\n",
       "    <tr>\n",
       "      <th>2024-01-17</th>\n",
       "      <td>2024-01-10</td>\n",
       "      <td>DAX</td>\n",
       "      <td>7 day</td>\n",
       "      <td>-4.040315</td>\n",
       "      <td>-1.319815</td>\n",
       "      <td>1.290002e-16</td>\n",
       "      <td>1.319815</td>\n",
       "      <td>4.040315</td>\n",
       "    </tr>\n",
       "  </tbody>\n",
       "</table>\n",
       "</div>"
      ],
      "text/plain": [
       "           forecast_date target horizon    q0.025     q0.25          q0.5  \\\n",
       "date_time                                                                   \n",
       "2024-01-11    2024-01-10    DAX   1 day -2.061167 -0.549876  5.242299e-17   \n",
       "2024-01-12    2024-01-10    DAX   2 day -2.341367 -0.704147  6.810857e-17   \n",
       "2024-01-15    2024-01-10    DAX   5 day -3.347284 -1.006669  9.736991e-17   \n",
       "2024-01-16    2024-01-10    DAX   6 day -3.527705 -1.126053  1.097353e-16   \n",
       "2024-01-17    2024-01-10    DAX   7 day -4.040315 -1.319815  1.290002e-16   \n",
       "\n",
       "               q0.75    q0.975  \n",
       "date_time                       \n",
       "2024-01-11  0.549876  2.061167  \n",
       "2024-01-12  0.704147  2.341367  \n",
       "2024-01-15  1.006669  3.347284  \n",
       "2024-01-16  1.126053  3.527705  \n",
       "2024-01-17  1.319815  4.040315  "
      ]
     },
     "execution_count": 96,
     "metadata": {},
     "output_type": "execute_result"
    }
   ],
   "source": [
    "get_arma_garch_forecasts(opt_pq=True)"
   ]
  },
  {
   "cell_type": "code",
   "execution_count": 40,
   "metadata": {},
   "outputs": [
    {
     "name": "stderr",
     "output_type": "stream",
     "text": [
      "c:\\Users\\Maria\\Documents\\Setups\\Lib\\site-packages\\statsmodels\\tsa\\base\\tsa_model.py:473: ValueWarning: A date index has been provided, but it has no associated frequency information and so will be ignored when e.g. forecasting.\n",
      "  self._init_dates(dates, freq)\n",
      "c:\\Users\\Maria\\Documents\\Setups\\Lib\\site-packages\\statsmodels\\tsa\\base\\tsa_model.py:473: ValueWarning: A date index has been provided, but it has no associated frequency information and so will be ignored when e.g. forecasting.\n",
      "  self._init_dates(dates, freq)\n"
     ]
    },
    {
     "name": "stdout",
     "output_type": "stream",
     "text": [
      "Iteration:      1,   Func. Count:      6,   Neg. LLF: 21329.154582094467\n",
      "Iteration:      2,   Func. Count:     15,   Neg. LLF: 401485083641.05475\n",
      "Iteration:      3,   Func. Count:     23,   Neg. LLF: 2118.9392873926745\n",
      "Iteration:      4,   Func. Count:     30,   Neg. LLF: 2151.5869944546585\n",
      "Iteration:      5,   Func. Count:     36,   Neg. LLF: 1683.724922313428\n",
      "Iteration:      6,   Func. Count:     42,   Neg. LLF: 1681.7348762545657\n",
      "Iteration:      7,   Func. Count:     47,   Neg. LLF: 1681.7196036188511\n",
      "Iteration:      8,   Func. Count:     52,   Neg. LLF: 1681.719385786248\n",
      "Iteration:      9,   Func. Count:     57,   Neg. LLF: 1681.719354752845\n",
      "Iteration:     10,   Func. Count:     62,   Neg. LLF: 1681.719340292042\n",
      "Iteration:     11,   Func. Count:     66,   Neg. LLF: 1681.7193402909604\n",
      "Optimization terminated successfully    (Exit mode 0)\n",
      "            Current function value: 1681.719340292042\n",
      "            Iterations: 11\n",
      "            Function evaluations: 66\n",
      "            Gradient evaluations: 11\n",
      "<arch.univariate.base.ARCHModelForecast object at 0x000001CF0A1CAB10>\n",
      "1072    0.052642\n",
      "dtype: float64\n"
     ]
    },
    {
     "name": "stderr",
     "output_type": "stream",
     "text": [
      "c:\\Users\\Maria\\Documents\\Setups\\Lib\\site-packages\\statsmodels\\tsa\\base\\tsa_model.py:836: ValueWarning: No supported index is available. Prediction results will be given with an integer index beginning at `start`.\n",
      "  return get_prediction_index(\n",
      "c:\\Users\\Maria\\Documents\\Setups\\Lib\\site-packages\\statsmodels\\tsa\\base\\tsa_model.py:836: FutureWarning: No supported index is available. In the next version, calling this method in a model without a supported index will result in an exception.\n",
      "  return get_prediction_index(\n"
     ]
    }
   ],
   "source": [
    "arma_model = pmdarima.arima.ARIMA(order=(1,0,1))\n",
    "arma_model.fit(daxdata['LogRetLag1'])\n",
    "\n",
    "\n",
    "# Use ARMA to predict mu --> mean component\n",
    "predicted_mu = arma_model.predict(n_periods=1)\n",
    "\n",
    "# fit a GARCH(1,1) model on the residuals of the ARMA model\n",
    "garch = arch.arch_model(arma_residuals, p=1, q=1)\n",
    "garch_fitted = garch.fit()\n",
    "\n",
    "# Use GARCH to predict the residual --> variance component \n",
    "garch_variance = garch_fitted.forecast(horizon=1)\n",
    "predicted_et = garch_variance.mean['h.1'].iloc[-1]\n",
    "\n",
    "print(garch_variance)\n",
    "# Combine both models' output: yt = mu + et\n",
    "prediction = predicted_mu + predicted_et\n",
    "print(prediction)"
   ]
  },
  {
   "cell_type": "code",
   "execution_count": 23,
   "metadata": {},
   "outputs": [
    {
     "ename": "TypeError",
     "evalue": "ARIMA.fit() missing 1 required positional argument: 'y'",
     "output_type": "error",
     "traceback": [
      "\u001b[1;31m---------------------------------------------------------------------------\u001b[0m",
      "\u001b[1;31mTypeError\u001b[0m                                 Traceback (most recent call last)",
      "\u001b[1;32mc:\\Users\\Maria\\Documents\\Studium\\Pyhton Projekte\\PTSFC\\dax\\models\\ARMA_GARCH.ipynb Cell 3\u001b[0m line \u001b[0;36m5\n\u001b[0;32m      <a href='vscode-notebook-cell:/c%3A/Users/Maria/Documents/Studium/Pyhton%20Projekte/PTSFC/dax/models/ARMA_GARCH.ipynb#W5sZmlsZQ%3D%3D?line=2'>3</a>\u001b[0m \u001b[39m# automatically fit the optimal ARIMA model for given time series\u001b[39;00m\n\u001b[0;32m      <a href='vscode-notebook-cell:/c%3A/Users/Maria/Documents/Studium/Pyhton%20Projekte/PTSFC/dax/models/ARMA_GARCH.ipynb#W5sZmlsZQ%3D%3D?line=3'>4</a>\u001b[0m arima_model \u001b[39m=\u001b[39m pmdarima\u001b[39m.\u001b[39mauto_arima(daxdata[\u001b[39m'\u001b[39m\u001b[39mLogRetLag1\u001b[39m\u001b[39m'\u001b[39m])\n\u001b[1;32m----> <a href='vscode-notebook-cell:/c%3A/Users/Maria/Documents/Studium/Pyhton%20Projekte/PTSFC/dax/models/ARMA_GARCH.ipynb#W5sZmlsZQ%3D%3D?line=4'>5</a>\u001b[0m arima_model\u001b[39m.\u001b[39mfit()\n\u001b[0;32m      <a href='vscode-notebook-cell:/c%3A/Users/Maria/Documents/Studium/Pyhton%20Projekte/PTSFC/dax/models/ARMA_GARCH.ipynb#W5sZmlsZQ%3D%3D?line=5'>6</a>\u001b[0m \u001b[39m# one-step out-of sample forecast\u001b[39;00m\n\u001b[0;32m      <a href='vscode-notebook-cell:/c%3A/Users/Maria/Documents/Studium/Pyhton%20Projekte/PTSFC/dax/models/ARMA_GARCH.ipynb#W5sZmlsZQ%3D%3D?line=6'>7</a>\u001b[0m forecast \u001b[39m=\u001b[39m arima_model\u001b[39m.\u001b[39mpredict(n_periods\u001b[39m=\u001b[39m\u001b[39m1\u001b[39m)\n",
      "\u001b[1;31mTypeError\u001b[0m: ARIMA.fit() missing 1 required positional argument: 'y'"
     ]
    }
   ],
   "source": [
    "arima_residuals = arima_model.arima_res_.resid\n",
    "\n",
    "# fit a GARCH(1,1) model on the residuals of the ARIMA model\n",
    "garch = arch.arch_model(arima_residuals, p=1, q=1)\n",
    "garch_fitted = garch.fit()\n",
    "\n",
    "# Use ARIMA to predict mu\n",
    "predicted_mu = arima_model.predict(n_periods=1)[0]\n",
    "# Use GARCH to predict the residual\n",
    "garch_forecast = garch_model.forecast(horizon=1)\n",
    "predicted_et = garch_forecast.mean['h.1'].iloc[-1]\n",
    "# Combine both models' output: yt = mu + et\n",
    "prediction = predicted_mu + predicted_et"
   ]
  },
  {
   "cell_type": "markdown",
   "metadata": {},
   "source": [
    "AR(2) passt noch am besten, aber alle Modelle schlecht --> trotzdem mal ausprobieren"
   ]
  },
  {
   "cell_type": "code",
   "execution_count": 19,
   "metadata": {},
   "outputs": [
    {
     "data": {
      "text/html": [
       "<div>\n",
       "<style scoped>\n",
       "    .dataframe tbody tr th:only-of-type {\n",
       "        vertical-align: middle;\n",
       "    }\n",
       "\n",
       "    .dataframe tbody tr th {\n",
       "        vertical-align: top;\n",
       "    }\n",
       "\n",
       "    .dataframe thead th {\n",
       "        text-align: right;\n",
       "    }\n",
       "</style>\n",
       "<table border=\"1\" class=\"dataframe\">\n",
       "  <thead>\n",
       "    <tr style=\"text-align: right;\">\n",
       "      <th></th>\n",
       "      <th>h.1</th>\n",
       "    </tr>\n",
       "  </thead>\n",
       "  <tbody>\n",
       "    <tr>\n",
       "      <th>2023-11-22</th>\n",
       "      <td>0.717912</td>\n",
       "    </tr>\n",
       "  </tbody>\n",
       "</table>\n",
       "</div>"
      ],
      "text/plain": [
       "                 h.1\n",
       "2023-11-22  0.717912"
      ]
     },
     "execution_count": 19,
     "metadata": {},
     "output_type": "execute_result"
    }
   ],
   "source": [
    "from arch.univariate import ARX, GARCH\n",
    "\n",
    "# mean component \n",
    "mean_model_ar2 = ARX(daxdata['LogRetLag1'], lags=[2])\n",
    "\n",
    "# volatility component \n",
    "mean_model_ar2.volatility = GARCH(p=1, q=1)\n",
    "\n",
    "result = mean_model_ar2.fit(update_freq=0, disp=\"off\")\n",
    "\n",
    "forecast = result.forecast(horizon=1, reindex=False)\n",
    "forecast.variance"
   ]
  }
 ],
 "metadata": {
  "kernelspec": {
   "display_name": "base",
   "language": "python",
   "name": "python3"
  },
  "language_info": {
   "codemirror_mode": {
    "name": "ipython",
    "version": 3
   },
   "file_extension": ".py",
   "mimetype": "text/x-python",
   "name": "python",
   "nbconvert_exporter": "python",
   "pygments_lexer": "ipython3",
   "version": "3.11.5"
  }
 },
 "nbformat": 4,
 "nbformat_minor": 2
}
