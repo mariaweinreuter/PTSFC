{
 "cells": [
  {
   "cell_type": "code",
   "execution_count": 1,
   "metadata": {},
   "outputs": [],
   "source": [
    "import pandas as pd\n",
    "import numpy as np\n",
    "\n",
    "import statsmodels.api as sm\n",
    "from sklearn.linear_model import Lasso\n",
    "from sklearn.metrics import mean_squared_error\n",
    "\n",
    "from sklearn.linear_model import LassoCV\n",
    "from sklearn.model_selection import TimeSeriesSplit\n",
    "\n",
    "from energy_consumption.feature_selection.extract import extract_energy_data, extract_all_features\n",
    "from energy_consumption.help_functions import get_forecast_timestamps, create_submission_frame\n",
    "from energy_consumption.models.lasso import functions"
   ]
  },
  {
   "cell_type": "markdown",
   "metadata": {},
   "source": [
    "### 1. Include all desired features \n",
    "* make sure they are still reasonable\n",
    "* Assume Lasso can handle this "
   ]
  },
  {
   "cell_type": "code",
   "execution_count": 2,
   "metadata": {},
   "outputs": [
    {
     "name": "stdout",
     "output_type": "stream",
     "text": [
      "did you update weather and index?\n",
      "2016-12-26 00:00:00\n",
      "2023-11-23 12:00:00\n"
     ]
    }
   ],
   "source": [
    "# important to standardize X for lasso regression\n",
    "# use derived opt for quantReg\n",
    "energydata = extract_all_features.get_energy_and_standardized_features(\n",
    "    lasso=True)[-54027:]\n",
    "\n",
    "y = energydata[['energy_consumption']]\n",
    "X = energydata.drop(columns=['energy_consumption'])\n",
    "X.insert(loc=0, column='constant', value=1)\n",
    "X = X.drop(columns=['year_2016', 'year_2024'])"
   ]
  },
  {
   "cell_type": "code",
   "execution_count": 4,
   "metadata": {},
   "outputs": [],
   "source": [
    "correlation_matrix = X.corr()\n",
    "\n",
    "# Find pairs of variables with absolute correlation value greater than 0.1\n",
    "high_corr_pairs = [(i, j) for i in range(correlation_matrix.shape[0])\n",
    "                   for j in range(i+1, correlation_matrix.shape[1])\n",
    "                   if abs(correlation_matrix.iloc[i, j]) > 0.7]\n",
    "\n",
    "# Create a copy of the original predictor matrix\n",
    "X_pol = X.copy()\n",
    "\n",
    "# Add interaction terms for selected pairs\n",
    "for pair in high_corr_pairs:\n",
    "    col1, col2 = X.columns[pair[0]], X.columns[pair[1]]\n",
    "    name = f\"{col1}_{col2}\"\n",
    "    X_pol[name] = X_pol[col1] * \\\n",
    "        X_pol[col2]\n",
    "\n",
    "# add polynomials \n",
    "X_pol['tavg_2'] = X_pol['tavg']**2\n",
    "X_pol['wspd_2'] = X_pol['wspd']**2\n",
    "X_pol['sun_hours_2'] = X_pol['sun_hours']**2"
   ]
  },
  {
   "cell_type": "code",
   "execution_count": null,
   "metadata": {},
   "outputs": [],
   "source": [
    "X_pol"
   ]
  },
  {
   "cell_type": "code",
   "execution_count": 7,
   "metadata": {},
   "outputs": [
    {
     "name": "stderr",
     "output_type": "stream",
     "text": [
      "c:\\Users\\Maria\\Documents\\Setups\\Lib\\site-packages\\sklearn\\linear_model\\_coordinate_descent.py:1563: DataConversionWarning: A column-vector y was passed when a 1d array was expected. Please change the shape of y to (n_samples, ), for example using ravel().\n",
      "  y = column_or_1d(y, warn=True)\n"
     ]
    },
    {
     "name": "stdout",
     "output_type": "stream",
     "text": [
      "Best alpha: 0.054736124202112\n"
     ]
    }
   ],
   "source": [
    "# Time-based split for time series data\n",
    "tscv = TimeSeriesSplit(n_splits=20, test_size=100)  # Adjust the number of splits as needed\n",
    "\n",
    "# Create LassoCV model with time series cross-validation\n",
    "# let alphas = None to automatically compute best alpha\n",
    "lasso_cv = LassoCV(cv=tscv,max_iter=1000)\n",
    "\n",
    "# Fit the model on the scaled data\n",
    "lasso_cv.fit(X_pol, y)\n",
    "\n",
    "# Find the best alpha\n",
    "best_alpha = lasso_cv.alpha_\n",
    "print(f\"Best alpha: {best_alpha}\")"
   ]
  },
  {
   "cell_type": "code",
   "execution_count": 8,
   "metadata": {},
   "outputs": [
    {
     "name": "stdout",
     "output_type": "stream",
     "text": [
      "[(0.0, 'constant'), (-0.891746306574632, 'hour_1'), (-1.0687697477881355, 'hour_2'), (-1.0541987697841566, 'hour_3'), (-0.8710970840242753, 'hour_4'), (-0.40801273585393416, 'hour_5'), (0.5005753052859472, 'hour_6'), (1.3795573666523906, 'hour_7'), (1.968106586100085, 'hour_8'), (2.2641733680760225, 'hour_9'), (2.510953292175824, 'hour_10'), (2.7251044322309523, 'hour_11'), (2.641270785002751, 'hour_12'), (2.3999188638362488, 'hour_13'), (2.13410628841603, 'hour_14'), (1.9759874004057276, 'hour_15'), (1.9026254563161362, 'hour_16'), (2.1119569243881524, 'hour_17'), (2.223309088026213, 'hour_18'), (2.1005612462667544, 'hour_19'), (1.6152332052657785, 'hour_20'), (1.1035236338859926, 'hour_21'), (0.6151839487530285, 'hour_22'), (-0.0, 'hour_23'), (0.2840252695728002, 'day_1'), (0.32283511653157804, 'day_2'), (0.29597311500527573, 'day_3'), (0.007169946812920021, 'day_4'), (-2.7176591077312735, 'day_5'), (-3.914309659704672, 'day_6'), (0.49846586687725325, 'month_2'), (-0.0, 'month_3'), (0.0, 'month_4'), (0.055924950031573065, 'month_5'), (0.0, 'month_6'), (-0.09805687305824286, 'month_7'), (-0.27106007949210253, 'month_8'), (-0.10749781155225299, 'month_9'), (-0.012532562845577444, 'month_10'), (-0.0, 'month_11'), (0.13242785911305188, 'month_12'), (-0.0, 'year_2017'), (0.20768145034803595, 'year_2018'), (0.0, 'year_2019'), (-0.12829547893895463, 'year_2020'), (0.08304448285367595, 'year_2021'), (-0.0, 'year_2022'), (-0.33203487204931365, 'year_2023'), (-1.8549574461431833, 'holiday'), (-0.12597741033370113, 'abs_log_ret_weekly'), (-1.6187240021887328, 'sun_hours'), (-1.2216133138213232, 'tavg'), (0.8548540440664917, 'wspd'), (1.5901698880678983, 'index'), (-0.18701721920203426, 'population'), (0.30331893256197223, 'sun_hours_tavg'), (0.6114797338411259, 'tavg_2'), (0.03600199733617785, 'wspd_2'), (0.0, 'sun_hours_2')]\n"
     ]
    }
   ],
   "source": [
    "lasso_best = Lasso(alpha=best_alpha)\n",
    "lasso_best.fit(X_pol, y)\n",
    "print(list(zip(lasso_best.coef_, X_pol)))"
   ]
  },
  {
   "cell_type": "markdown",
   "metadata": {},
   "source": [
    "How to estimate forecast variance? \n",
    "--> estimate residuals for each forecast horizon (p=100). \n",
    "If we estimate more than 40, we can assume they are normal distributed. "
   ]
  },
  {
   "cell_type": "code",
   "execution_count": 33,
   "metadata": {},
   "outputs": [],
   "source": [
    "# Perform time series split\n",
    "tscv = TimeSeriesSplit(n_splits=200, test_size=100)\n",
    "indexes = list(range(100))\n",
    "residuals = pd.DataFrame()\n",
    "for i in indexes:\n",
    "    residuals[f'{i}'] = np.nan\n",
    "\n",
    "for train_index, test_index in tscv.split(X_pol):\n",
    "        \n",
    "        # fit Lasso Regression with best alpha\n",
    "        lasso = Lasso(alpha=0.0547)\n",
    "        \n",
    "        # make sure we have enough data to train (models stay comparable)\n",
    "        if test_index[0] >= 27014:\n",
    "            X_train, X_test = X.iloc[train_index], X.iloc[test_index]\n",
    "            y_train, y_test = y.iloc[train_index], y.iloc[test_index]\n",
    "\n",
    "            # Fit the model on the scaled data\n",
    "            lasso.fit(X_train, y_train)\n",
    "\n",
    "            # estimate forecast means\n",
    "            mean_est = lasso.predict(X_test)[indexes]\n",
    "\n",
    "            # residuals based on horizon\n",
    "            y_obs = np.array(y_test).flatten()\n",
    "            residuals_est = mean_est-y_obs\n",
    "\n",
    "            #safe \n",
    "            residuals.loc[len(residuals)] = residuals_est"
   ]
  },
  {
   "cell_type": "code",
   "execution_count": 34,
   "metadata": {},
   "outputs": [],
   "source": [
    "# export residuals to avoid additional computational effort\n",
    "residuals.to_csv(\n",
    "    'c:\\\\Users\\\\Maria\\\\Documents\\\\Studium\\\\Pyhton Projekte\\\\PTSFC\\\\energy_consumption\\\\models\\\\lasso\\\\residuals.csv', index=False)"
   ]
  },
  {
   "cell_type": "markdown",
   "metadata": {},
   "source": [
    "# check if residuals vary over time \n",
    "--> iterate over rows, check if there is trend in mean/variance of residuals\n",
    "--> works"
   ]
  },
  {
   "cell_type": "code",
   "execution_count": 36,
   "metadata": {},
   "outputs": [
    {
     "data": {
      "image/png": "[encoded data removed]",
      "text/plain": [
       "<Figure size 1000x600 with 1 Axes>"
      ]
     },
     "metadata": {},
     "output_type": "display_data"
    }
   ],
   "source": [
    "import matplotlib.pyplot as plt\n",
    "\n",
    "# Assuming your DataFrame is named df, replace the ellipsis (...) with your actual data\n",
    "# For example, df = pd.DataFrame(...) with your data\n",
    "\n",
    "# Calculate the mean of each row\n",
    "row_means = residuals.mean(axis=1)\n",
    "\n",
    "# Plot the mean values\n",
    "plt.figure(figsize=(10, 6))\n",
    "plt.plot(residuals.index, row_means, marker='o', linestyle='-',\n",
    "         color='skyblue', label='Row Means')\n",
    "plt.title('Mean Values of Each Row')\n",
    "plt.xlabel('Row Index')\n",
    "plt.ylabel('Mean Value')\n",
    "plt.legend()\n",
    "plt.show()"
   ]
  },
  {
   "cell_type": "markdown",
   "metadata": {},
   "source": [
    "# further variances to consider: temp, wspd and prodInd\n",
    "\n",
    "estimated beta-coefficients: \n",
    "tavg: -1.2216133138213232\n",
    "Wspd: 0.8548540440664917\n",
    "index: 1.5901698880678983\n",
    "\n",
    "add to variance: \n",
    "beta_hat^2 * var^2"
   ]
  },
  {
   "cell_type": "code",
   "execution_count": 19,
   "metadata": {},
   "outputs": [
    {
     "data": {
      "text/plain": [
       "0.6417705151559819"
      ]
     },
     "execution_count": 19,
     "metadata": {},
     "output_type": "execute_result"
    }
   ],
   "source": [
    "# Note: the more comparisons we have, the better. However, we started very lately with including weather data. Therefore, this  is just a proxy.\n",
    "from sklearn.preprocessing import StandardScaler\n",
    "\n",
    "# proxy for tavg and wspd: \n",
    "weather_obs = pd.read_csv(\n",
    "    'C:/Users/Maria/Documents/Studium/Pyhton Projekte/PTSFC/energy_consumption/feature_selection/data/weather_01172024.csv')\n",
    "weather_est = pd.read_csv(\n",
    "    'C:/Users/Maria/Documents/Studium/Pyhton Projekte/PTSFC/energy_consumption/feature_selection/data/weather_010824.csv')\n",
    "\n",
    "# Extract numeric columns for standardization (comparably the same length as training data for lasso regression)\n",
    "cols = ['wspd', 'tavg']\n",
    "\n",
    "# Standardize the columns\n",
    "scaler = StandardScaler()\n",
    "\n",
    "weather_est[cols] = scaler.fit_transform(\n",
    "    weather_est[cols])\n",
    "weather_obs[cols] = scaler.transform(\n",
    "    weather_obs[cols])\n",
    "\n",
    "# Rename and select relevant columns\n",
    "weather_est_date = weather_est[['date', 'wspd', 'tavg']].rename(\n",
    "    columns={'wspd': 'wspd_est', 'tavg': 'tavg_est'})\n",
    "weather_obs_date = weather_obs[-16:][['date', 'wspd', 'tavg']\n",
    "                                     ].rename(columns={'wspd': 'wspd_obs', 'tavg': 'tavg_obs'})\n",
    "\n",
    "# Merge DataFrames based on the 'date' column\n",
    "merged_df = pd.merge(weather_est_date, weather_obs_date,\n",
    "                     on='date', how='inner')\n",
    "merged_df['tavg_residual'] = merged_df['tavg_obs'] - merged_df['tavg_est']\n",
    "merged_df['wspd_residual'] = merged_df['wspd_obs'] - merged_df['wspd_est']\n",
    "\n",
    "var_to_add_wsp = merged_df['wspd_residual'].var() # (0.6418)\n",
    "var_to_add_temp = merged_df['tavg_residual'].var()  # (0.0370)\n",
    "var_to_add_wsp\n",
    "\n",
    "# residuals do not really make sense since they are higher for later periods --> just add the same portion to each horizon"
   ]
  },
  {
   "cell_type": "markdown",
   "metadata": {},
   "source": [
    "Variance proxy for production index\n",
    "--> Production index estimated with OLS --> estimate variance of OLS estimation"
   ]
  },
  {
   "cell_type": "code",
   "execution_count": 15,
   "metadata": {},
   "outputs": [
    {
     "name": "stdout",
     "output_type": "stream",
     "text": [
      "did you update weather and index?\n",
      "2016-12-26 00:00:00\n",
      "2023-11-23 12:00:00\n"
     ]
    },
    {
     "data": {
      "text/plain": [
       "0.037842703248219776"
      ]
     },
     "execution_count": 15,
     "metadata": {},
     "output_type": "execute_result"
    }
   ],
   "source": [
    "from energy_consumption.feature_selection.collect import production_index\n",
    "\n",
    "# get unscaled energydata since OLS residuals are unscaled as well\n",
    "energydata_unsc = extract_all_features.get_energy_and_features(\n",
    "    lasso=True)[-54027:]\n",
    "index_data_unsc = energydata_unsc['index']\n",
    "\n",
    "var_est = index_data_unsc.var()\n",
    "mean_est = index_data_unsc.mean()\n",
    "\n",
    "residuals = production_index.merge_production_indexes(energydata_unsc)[2]\n",
    "\n",
    "mean_res = residuals.mean()\n",
    "var_est = residuals.var()\n",
    "\n",
    "# standardize residuals\n",
    "res_standardized = (residuals-mean_res)/(var_est)\n",
    "var_to_add = res_standardized.var()\n",
    "var_to_add # (0.0378)"
   ]
  },
  {
   "cell_type": "code",
   "execution_count": 23,
   "metadata": {},
   "outputs": [
    {
     "data": {
      "text/plain": [
       "0.6198233246882933"
      ]
     },
     "execution_count": 23,
     "metadata": {},
     "output_type": "execute_result"
    }
   ],
   "source": [
    "overall_variance_to_add = var_to_add * (1.5901698880678983)**2 + \\\n",
    "    var_to_add_temp*(-1.2216133138213232)**2 + \\\n",
    "    var_to_add_wsp*(0.8548540440664917)**2\n",
    "\n",
    "overall_variance_to_add #(0.6198)"
   ]
  },
  {
   "cell_type": "markdown",
   "metadata": {},
   "source": [
    "Use alpha = 0.0547 for Lasso Regression"
   ]
  },
  {
   "cell_type": "code",
   "execution_count": 5,
   "metadata": {},
   "outputs": [],
   "source": [
    "def get_interaction_and_pol_terms(X): \n",
    "\n",
    "    # interaction term for sun_hours and tavg\n",
    "    X['sun_hours_tavg'] = X['sun_hours'] * X['tavg']\n",
    "            \n",
    "    # Add polynomials\n",
    "    X['tavg_2'] = X['tavg']**2\n",
    "    X['wspd_2'] = X['wspd']**2\n",
    "    X['sun_hours_2'] = X['sun_hours']**2\n",
    "\n",
    "    return X"
   ]
  },
  {
   "cell_type": "code",
   "execution_count": 18,
   "metadata": {},
   "outputs": [],
   "source": [
    "import pandas as pd\n",
    "import numpy as np\n",
    "\n",
    "from scipy.stats import norm\n",
    "from math import sqrt\n",
    "\n",
    "def get_quantiles(mean_est, quantiles=[0.025, 0.25, 0.5, 0.75, 0.975]):\n",
    "\n",
    "    mean_est = np.array(mean_est)\n",
    "    quantile_df = pd.DataFrame()\n",
    "\n",
    "    # lasso variance\n",
    "    residuals = pd.read_csv(\n",
    "        'c:\\\\Users\\\\Maria\\\\Documents\\\\Studium\\\\Pyhton Projekte\\\\PTSFC\\\\energy_consumption\\\\models\\\\lasso\\\\residuals.csv')\n",
    "    residual_std = np.sqrt(residuals.var(axis=0))\n",
    "\n",
    "    # add variance due to forecasts of regressors\n",
    "    std_to_add = sqrt(0.619823324688293)\n",
    "\n",
    "    for q in quantiles:\n",
    "        if q < 0.5:\n",
    "            quantile_df[f'q{q}'] = mean_est + \\\n",
    "                residual_std*norm.ppf(q, loc=0) - std_to_add\n",
    "        elif q == 0.5:\n",
    "            quantile_df[f'q{q}'] = mean_est\n",
    "        else:\n",
    "            quantile_df[f'q{q}'] = mean_est + \\\n",
    "                residual_std*norm.ppf(q, loc=0) - std_to_add\n",
    "\n",
    "    return quantile_df"
   ]
  },
  {
   "cell_type": "code",
   "execution_count": 17,
   "metadata": {},
   "outputs": [
    {
     "data": {
      "text/plain": [
       "0     3.215884\n",
       "1     3.363386\n",
       "2     3.553124\n",
       "3     3.543380\n",
       "4     3.221469\n",
       "        ...   \n",
       "95    3.423234\n",
       "96    2.996263\n",
       "97    3.077307\n",
       "98    3.241473\n",
       "99    3.628056\n",
       "Length: 100, dtype: float64"
      ]
     },
     "execution_count": 17,
     "metadata": {},
     "output_type": "execute_result"
    }
   ],
   "source": [
    "from math import sqrt\n",
    "residuals = pd.read_csv(\n",
    "    'c:\\\\Users\\\\Maria\\\\Documents\\\\Studium\\\\Pyhton Projekte\\\\PTSFC\\\\energy_consumption\\\\models\\\\lasso\\\\residuals.csv')\n",
    "np.sqrt(residuals.var(axis=0))"
   ]
  },
  {
   "cell_type": "code",
   "execution_count": 21,
   "metadata": {},
   "outputs": [
    {
     "name": "stdout",
     "output_type": "stream",
     "text": [
      "did you update weather and index?\n",
      "2016-12-26 00:00:00\n",
      "2023-11-23 12:00:00\n",
      "did you update weather and index?\n",
      "2023-11-22 13:00:00\n",
      "2023-11-27 16:00:00\n"
     ]
    },
    {
     "data": {
      "text/html": [
       "<div>\n",
       "<style scoped>\n",
       "    .dataframe tbody tr th:only-of-type {\n",
       "        vertical-align: middle;\n",
       "    }\n",
       "\n",
       "    .dataframe tbody tr th {\n",
       "        vertical-align: top;\n",
       "    }\n",
       "\n",
       "    .dataframe thead th {\n",
       "        text-align: right;\n",
       "    }\n",
       "</style>\n",
       "<table border=\"1\" class=\"dataframe\">\n",
       "  <thead>\n",
       "    <tr style=\"text-align: right;\">\n",
       "      <th></th>\n",
       "      <th>date_time</th>\n",
       "      <th>q0.025</th>\n",
       "      <th>q0.25</th>\n",
       "      <th>q0.5</th>\n",
       "      <th>q0.75</th>\n",
       "      <th>q0.975</th>\n",
       "    </tr>\n",
       "  </thead>\n",
       "  <tbody>\n",
       "    <tr>\n",
       "      <th>47</th>\n",
       "      <td>2023-11-24 12:00:00</td>\n",
       "      <td>58.329632</td>\n",
       "      <td>62.785605</td>\n",
       "      <td>65.910947</td>\n",
       "      <td>67.461712</td>\n",
       "      <td>71.917685</td>\n",
       "    </tr>\n",
       "    <tr>\n",
       "      <th>51</th>\n",
       "      <td>2023-11-24 16:00:00</td>\n",
       "      <td>53.234229</td>\n",
       "      <td>57.917417</td>\n",
       "      <td>61.161979</td>\n",
       "      <td>62.831964</td>\n",
       "      <td>67.515152</td>\n",
       "    </tr>\n",
       "    <tr>\n",
       "      <th>55</th>\n",
       "      <td>2023-11-24 20:00:00</td>\n",
       "      <td>52.565125</td>\n",
       "      <td>57.367740</td>\n",
       "      <td>60.674966</td>\n",
       "      <td>62.407616</td>\n",
       "      <td>67.210231</td>\n",
       "    </tr>\n",
       "    <tr>\n",
       "      <th>71</th>\n",
       "      <td>2023-11-25 12:00:00</td>\n",
       "      <td>53.813827</td>\n",
       "      <td>58.454742</td>\n",
       "      <td>61.677124</td>\n",
       "      <td>63.324929</td>\n",
       "      <td>67.965844</td>\n",
       "    </tr>\n",
       "    <tr>\n",
       "      <th>75</th>\n",
       "      <td>2023-11-25 16:00:00</td>\n",
       "      <td>49.070691</td>\n",
       "      <td>53.707781</td>\n",
       "      <td>56.928156</td>\n",
       "      <td>58.573954</td>\n",
       "      <td>63.211045</td>\n",
       "    </tr>\n",
       "    <tr>\n",
       "      <th>79</th>\n",
       "      <td>2023-11-25 20:00:00</td>\n",
       "      <td>48.262595</td>\n",
       "      <td>53.110273</td>\n",
       "      <td>56.441144</td>\n",
       "      <td>58.197437</td>\n",
       "      <td>63.045115</td>\n",
       "    </tr>\n",
       "  </tbody>\n",
       "</table>\n",
       "</div>"
      ],
      "text/plain": [
       "             date_time     q0.025      q0.25       q0.5      q0.75     q0.975\n",
       "47 2023-11-24 12:00:00  58.329632  62.785605  65.910947  67.461712  71.917685\n",
       "51 2023-11-24 16:00:00  53.234229  57.917417  61.161979  62.831964  67.515152\n",
       "55 2023-11-24 20:00:00  52.565125  57.367740  60.674966  62.407616  67.210231\n",
       "71 2023-11-25 12:00:00  53.813827  58.454742  61.677124  63.324929  67.965844\n",
       "75 2023-11-25 16:00:00  49.070691  53.707781  56.928156  58.573954  63.211045\n",
       "79 2023-11-25 20:00:00  48.262595  53.110273  56.441144  58.197437  63.045115"
      ]
     },
     "execution_count": 21,
     "metadata": {},
     "output_type": "execute_result"
    }
   ],
   "source": [
    "import pandas as pd\n",
    "import numpy as np\n",
    "\n",
    "import statsmodels.api as sm\n",
    "from sklearn.linear_model import Lasso\n",
    "from sklearn.metrics import mean_squared_error\n",
    "\n",
    "from energy_consumption.feature_selection.extract import extract_energy_data, extract_all_features\n",
    "from energy_consumption.help_functions import get_forecast_timestamps, create_submission_frame\n",
    "\n",
    "def get_Lasso_forecasts(energydata=pd.DataFrame(), indexes=[47, 51, 55, 71, 75, 79],\n",
    "                        quantiles=[0.025, 0.25, 0.5, 0.75, 0.975], periods=100):\n",
    "\n",
    "    # get standardized features\n",
    "    energydata = extract_all_features.get_energy_and_standardized_features(\n",
    "        lasso=True)[-54027:]\n",
    "\n",
    "    # split df\n",
    "    y = energydata[['energy_consumption']]\n",
    "    X = energydata.drop(columns=['energy_consumption'])\n",
    "    X.insert(loc=0, column='constant', value=1)\n",
    "    X = get_interaction_and_pol_terms(X)\n",
    "\n",
    "    # fit Lasso Regression with best alpha \n",
    "    lasso = Lasso(alpha=0.0547)\n",
    "\n",
    "    # Fit the model on the scaled data\n",
    "    lasso.fit(X, y)\n",
    "\n",
    "    # create dataframe to store forecast quantiles\n",
    "    X_fc = get_forecast_timestamps.forecast_timestamps(\n",
    "        energydata.index[-1])\n",
    "    X_fc = extract_all_features.get_energy_and_standardized_features(\n",
    "        X_fc, lasso=True)\n",
    "    X_fc = get_interaction_and_pol_terms(X_fc)\n",
    "    X_fc.insert(loc=0, column='constant', value=1)\n",
    "\n",
    "    # estimate forecast means\n",
    "    mean_est = lasso.predict(X_fc).flatten()\n",
    "\n",
    "    # estimate quantile forecasts\n",
    "    quantile_forecasts = get_quantiles(\n",
    "        mean_est, quantiles).iloc[indexes]\n",
    "    \n",
    "\n",
    "    # return quantile forecasts in terms of absolute evaluation\n",
    "    abs_eval = len(quantiles) != 6\n",
    "    if abs_eval == True:\n",
    "        horizon = pd.date_range(start=energydata.index[-1] + pd.DateOffset(\n",
    "            hours=1), periods=periods, freq='H')\n",
    "        quantile_forecasts.insert(\n",
    "            0, 'date_time', [horizon[i] for i in indexes])\n",
    "\n",
    "        return quantile_forecasts\n",
    "\n",
    "    # else: create submission frame\n",
    "    else:\n",
    "        forecast_frame = create_submission_frame.get_frame(\n",
    "            quantile_forecasts, indexes)\n",
    "        forecast_frame = forecast_frame.drop(columns={'index'})\n",
    "        horizon = pd.date_range(start=energydata.index[-1] + pd.DateOffset(\n",
    "            hours=1), periods=periods, freq='H')\n",
    "        forecast_frame.insert(\n",
    "            0, 'date_time', [horizon[i] for i in indexes])\n",
    "\n",
    "        return forecast_frame\n",
    "\n",
    "\n",
    "forecast_frame = get_Lasso_forecasts()\n",
    "forecast_frame"
   ]
  }
 ],
 "metadata": {
  "kernelspec": {
   "display_name": "base",
   "language": "python",
   "name": "python3"
  },
  "language_info": {
   "codemirror_mode": {
    "name": "ipython",
    "version": 3
   },
   "file_extension": ".py",
   "mimetype": "text/x-python",
   "name": "python",
   "nbconvert_exporter": "python",
   "pygments_lexer": "ipython3",
   "version": "3.11.5"
  }
 },
 "nbformat": 4,
 "nbformat_minor": 2
}
