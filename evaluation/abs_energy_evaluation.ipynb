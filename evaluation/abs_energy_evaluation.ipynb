{
 "cells": [
  {
   "cell_type": "code",
   "execution_count": 1,
   "metadata": {},
   "outputs": [],
   "source": [
    "import pandas as pd\n",
    "import numpy as np\n",
    "import matplotlib.pyplot as plt\n",
    "\n",
    "from energy_consumption.feature_selection.clean.impute_outliers import impute_outliers\n",
    "\n",
    "from energy_consumption.models.lasso.lasso import get_Lasso_forecasts\n",
    "from energy_consumption.models.quantreg.quantreg import get_QuantReg_forecasts\n",
    "from energy_consumption.models.baseline import get_baseline_forecasts\n",
    "from energy_consumption.models.knn.knn import get_KNNRegression_forecasts\n",
    "from energy_consumption.models.XGBoost.XGBoost import get_XGBoost_forecasts"
   ]
  },
  {
   "cell_type": "code",
   "execution_count": null,
   "metadata": {},
   "outputs": [],
   "source": [
    "energydata = pd.read_csv(\n",
    "    'c:\\\\Users\\\\Maria\\\\Documents\\\\Studium\\\\Pyhton Projekte\\\\PTSFC\\\\energy_consumption\\\\feature_selection\\\\data\\\\historical_data.csv')\n",
    "energydata['date_time'] = pd.to_datetime(\n",
    "    energydata['date_time'], format='%Y-%m-%d %H:%M:%S')\n",
    "energydata = energydata.set_index(\"date_time\")\n",
    "energydata = impute_outliers(energydata)"
   ]
  }
 ],
 "metadata": {
  "kernelspec": {
   "display_name": "base",
   "language": "python",
   "name": "python3"
  },
  "language_info": {
   "codemirror_mode": {
    "name": "ipython",
    "version": 3
   },
   "file_extension": ".py",
   "mimetype": "text/x-python",
   "name": "python",
   "nbconvert_exporter": "python",
   "pygments_lexer": "ipython3",
   "version": "3.11.5"
  }
 },
 "nbformat": 4,
 "nbformat_minor": 2
}
