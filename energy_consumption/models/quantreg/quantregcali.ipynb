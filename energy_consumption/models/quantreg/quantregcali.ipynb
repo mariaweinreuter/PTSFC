{
 "cells": [
  {
   "cell_type": "code",
   "execution_count": 1,
   "metadata": {},
   "outputs": [],
   "source": [
    "import pandas as pd \n",
    "import numpy as np\n",
    "\n",
    "from energy_consumption.feature_selection.extract.extract_energy_data import get_data"
   ]
  },
  {
   "cell_type": "code",
   "execution_count": 2,
   "metadata": {},
   "outputs": [
    {
     "name": "stderr",
     "output_type": "stream",
     "text": [
      "100%|██████████| 364/364 [04:07<00:00,  1.47it/s]\n"
     ]
    }
   ],
   "source": [
    "energydata = get_data()"
   ]
  },
  {
   "cell_type": "code",
   "execution_count": 3,
   "metadata": {},
   "outputs": [],
   "source": [
    "from energy_consumption.models.quantreg.quantreg_end import get_QuantRegEndShort_forecasts\n",
    "from energy_consumption.models.quantreg.quantreg_ex import get_QuantRegExLong_forecasts, get_QuantRegExShort_forecasts"
   ]
  },
  {
   "cell_type": "code",
   "execution_count": 33,
   "metadata": {},
   "outputs": [
    {
     "name": "stdout",
     "output_type": "stream",
     "text": [
      "start of round 1\n",
      "2017-02-13 00:00:00\n",
      "2024-01-18 12:00:00\n",
      "2024-01-17 13:00:00\n",
      "2024-01-22 16:00:00\n",
      "start of round 2\n",
      "2017-02-13 00:00:00\n",
      "2024-01-11 12:00:00\n",
      "2024-01-10 13:00:00\n",
      "2024-01-15 16:00:00\n"
     ]
    },
    {
     "name": "stderr",
     "output_type": "stream",
     "text": [
      "c:\\Users\\Maria\\Documents\\Setups\\Lib\\site-packages\\statsmodels\\regression\\quantile_regression.py:191: IterationLimitWarning: Maximum number of iterations (1000) reached.\n",
      "  warnings.warn(\"Maximum number of iterations (\" + str(max_iter) +\n"
     ]
    },
    {
     "name": "stdout",
     "output_type": "stream",
     "text": [
      "start of round 3\n",
      "2017-02-13 00:00:00\n",
      "2024-01-04 12:00:00\n",
      "2024-01-03 13:00:00\n",
      "2024-01-08 16:00:00\n",
      "start of round 4\n",
      "2017-02-13 00:00:00\n",
      "2023-12-28 12:00:00\n",
      "2023-12-27 13:00:00\n",
      "2024-01-01 16:00:00\n",
      "start of round 5\n",
      "2017-02-13 00:00:00\n",
      "2023-12-21 12:00:00\n",
      "2023-12-20 13:00:00\n",
      "2023-12-25 16:00:00\n"
     ]
    },
    {
     "name": "stderr",
     "output_type": "stream",
     "text": [
      "c:\\Users\\Maria\\Documents\\Setups\\Lib\\site-packages\\statsmodels\\regression\\quantile_regression.py:191: IterationLimitWarning: Maximum number of iterations (1000) reached.\n",
      "  warnings.warn(\"Maximum number of iterations (\" + str(max_iter) +\n"
     ]
    },
    {
     "name": "stdout",
     "output_type": "stream",
     "text": [
      "start of round 6\n",
      "2017-02-13 00:00:00\n",
      "2023-12-14 12:00:00\n",
      "2023-12-13 13:00:00\n",
      "2023-12-18 16:00:00\n",
      "start of round 7\n",
      "2017-02-13 00:00:00\n",
      "2023-12-07 12:00:00\n",
      "2023-12-06 13:00:00\n",
      "2023-12-11 16:00:00\n",
      "start of round 8\n",
      "2017-02-13 00:00:00\n",
      "2023-11-30 12:00:00\n",
      "2023-11-29 13:00:00\n",
      "2023-12-04 16:00:00\n",
      "start of round 9\n",
      "2017-02-13 00:00:00\n",
      "2023-11-23 12:00:00\n",
      "2023-11-22 13:00:00\n",
      "2023-11-27 16:00:00\n"
     ]
    },
    {
     "name": "stderr",
     "output_type": "stream",
     "text": [
      "c:\\Users\\Maria\\Documents\\Setups\\Lib\\site-packages\\statsmodels\\regression\\quantile_regression.py:191: IterationLimitWarning: Maximum number of iterations (1000) reached.\n",
      "  warnings.warn(\"Maximum number of iterations (\" + str(max_iter) +\n",
      "c:\\Users\\Maria\\Documents\\Setups\\Lib\\site-packages\\statsmodels\\regression\\quantile_regression.py:191: IterationLimitWarning: Maximum number of iterations (1000) reached.\n",
      "  warnings.warn(\"Maximum number of iterations (\" + str(max_iter) +\n"
     ]
    },
    {
     "name": "stdout",
     "output_type": "stream",
     "text": [
      "start of round 10\n",
      "2017-02-13 00:00:00\n",
      "2023-11-16 12:00:00\n",
      "2023-11-15 13:00:00\n",
      "2023-11-20 16:00:00\n",
      "start of round 11\n",
      "2017-02-13 00:00:00\n",
      "2023-11-09 12:00:00\n",
      "2023-11-08 13:00:00\n",
      "2023-11-13 16:00:00\n"
     ]
    },
    {
     "name": "stderr",
     "output_type": "stream",
     "text": [
      "c:\\Users\\Maria\\Documents\\Setups\\Lib\\site-packages\\statsmodels\\regression\\quantile_regression.py:191: IterationLimitWarning: Maximum number of iterations (1000) reached.\n",
      "  warnings.warn(\"Maximum number of iterations (\" + str(max_iter) +\n"
     ]
    }
   ],
   "source": [
    "import matplotlib.pyplot as plt\n",
    "pit_merged = pd.DataFrame(columns=['date_time', 'q0.1', 'q0.2', 'q0.3', 'q0.4', 'q0.5', 'q0.6',\n",
    "                                   'q0.7', 'q0.8', 'q0.9', 'energy_consumption'])\n",
    "quantiles = [0.1, 0.2, 0.3, 0.4, 0.5, 0.6, 0.7, 0.8, 0.9]\n",
    "for i in range(1, 12):\n",
    "    print(f'start of round {i}')\n",
    "    forecasts = get_QuantRegEndShort_forecasts(energydata[:i*(-168)],\n",
    "                                       indexes=list(range(100)),\n",
    "                                       quantiles=quantiles, abs_eval=True)\n",
    "    obs = energydata[i*(-168):i*(-168)+100].reset_index()\n",
    "    forecasts_obs = forecasts.merge(obs, how='left', on='date_time')\n",
    "    pit_merged = pd.concat([pit_merged, forecasts_obs])\n",
    "\n",
    "# Insert a column 'q1' with inf values after 'q0.9'\n",
    "column_index = pit_merged.columns.get_loc('q0.9') + 1\n",
    "if 'q1' not in pit_merged.columns:\n",
    "    pit_merged.insert(column_index, 'q1', float('inf'))\n",
    "\n",
    "\n",
    "def find_first_quantile(row):\n",
    "    quantile_columns = [f'q{quantile}' for quantile in quantiles]\n",
    "    for quantile_col in quantile_columns:\n",
    "        if row['energy_consumption'] < row[quantile_col]:\n",
    "            return quantile_col\n",
    "    return 'q1'\n",
    "\n",
    "\n",
    "# Apply the function to each row\n",
    "pit_merged['first_quantile'] = pit_merged.apply(find_first_quantile, axis=1)\n",
    "quantile_counts = pit_merged['first_quantile'].value_counts()\n",
    "# order quantiles for final plot\n",
    "ordered_quantile_counts = {}\n",
    "for q in quantiles:\n",
    "    if f'q{q}' in quantile_counts.index:\n",
    "        ordered_quantile_counts[q] = quantile_counts.loc[f'q{q}']\n",
    "    else:\n",
    "        ordered_quantile_counts[q] = 0"
   ]
  },
  {
   "cell_type": "code",
   "execution_count": 37,
   "metadata": {},
   "outputs": [],
   "source": [
    "# Insert a column 'q1' with inf values after 'q0.9'\n",
    "column_index = pit_merged.columns.get_loc('q0.9') + 1\n",
    "if 'q1' not in pit_merged.columns:\n",
    "    pit_merged.insert(column_index, 'q1', float('inf'))"
   ]
  },
  {
   "cell_type": "code",
   "execution_count": 38,
   "metadata": {},
   "outputs": [],
   "source": [
    "for q in quantiles:\n",
    "    if f'q{q}' in quantile_counts.index:\n",
    "        ordered_quantile_counts[q] = quantile_counts.loc[f'q{q}']\n",
    "    else:\n",
    "        ordered_quantile_counts[q] = 0"
   ]
  },
  {
   "cell_type": "code",
   "execution_count": 39,
   "metadata": {},
   "outputs": [
    {
     "data": {
      "text/plain": [
       "{0.1: 72,\n",
       " 0.2: 40,\n",
       " 0.3: 125,\n",
       " 0.4: 150,\n",
       " 0.5: 182,\n",
       " 0.6: 195,\n",
       " 0.7: 133,\n",
       " 0.8: 104,\n",
       " 0.9: 69,\n",
       " 1: 30}"
      ]
     },
     "execution_count": 39,
     "metadata": {},
     "output_type": "execute_result"
    }
   ],
   "source": [
    "ordered_quantile_counts"
   ]
  },
  {
   "cell_type": "code",
   "execution_count": 40,
   "metadata": {},
   "outputs": [
    {
     "data": {
      "image/png": "[encoded data removed]",
      "text/plain": [
       "<Figure size 640x480 with 1 Axes>"
      ]
     },
     "metadata": {},
     "output_type": "display_data"
    }
   ],
   "source": [
    "counts = list(ordered_quantile_counts.values())\n",
    "bar_width = 0.1\n",
    "\n",
    "quantiles = [0.1, 0.2, 0.3, 0.4, 0.5, 0.6, 0.7, 0.8, 0.9, 1]\n",
    "# Centering the bars on the left-hand side of their ticks\n",
    "plt.bar([q - bar_width for q in quantiles], counts,\n",
    "        width=bar_width, color='lightgrey', alpha=0.7, align='edge', edgecolor='black')\n",
    "\n",
    "# Calculate the mean of the y-values\n",
    "mean_value = sum(counts) / len(counts)\n",
    "plt.axhline(y=mean_value, color='darkblue', linestyle='--', label='Mean')\n",
    "plt.xlabel('Quantile')\n",
    "plt.yticks([])\n",
    "# Alternatively: observed counts in each quantile range\n",
    "plt.title('Quantile Regression n = 1000, End. Predictors')\n",
    "plt.box(False)\n",
    "plt.show()"
   ]
  },
  {
   "cell_type": "code",
   "execution_count": 11,
   "metadata": {},
   "outputs": [
    {
     "data": {
      "text/html": [
       "<div>\n",
       "<style scoped>\n",
       "    .dataframe tbody tr th:only-of-type {\n",
       "        vertical-align: middle;\n",
       "    }\n",
       "\n",
       "    .dataframe tbody tr th {\n",
       "        vertical-align: top;\n",
       "    }\n",
       "\n",
       "    .dataframe thead th {\n",
       "        text-align: right;\n",
       "    }\n",
       "</style>\n",
       "<table border=\"1\" class=\"dataframe\">\n",
       "  <thead>\n",
       "    <tr style=\"text-align: right;\">\n",
       "      <th></th>\n",
       "      <th>date_time</th>\n",
       "      <th>q0.1</th>\n",
       "      <th>q0.2</th>\n",
       "      <th>q0.3</th>\n",
       "      <th>q0.4</th>\n",
       "      <th>q0.5</th>\n",
       "      <th>q0.6</th>\n",
       "      <th>q0.7</th>\n",
       "      <th>q0.8</th>\n",
       "      <th>q0.9</th>\n",
       "      <th>q1</th>\n",
       "      <th>energy_consumption</th>\n",
       "      <th>first_quantile</th>\n",
       "    </tr>\n",
       "  </thead>\n",
       "  <tbody>\n",
       "    <tr>\n",
       "      <th>0</th>\n",
       "      <td>2024-01-17 13:00:00</td>\n",
       "      <td>67.477496</td>\n",
       "      <td>70.031557</td>\n",
       "      <td>70.427966</td>\n",
       "      <td>71.076425</td>\n",
       "      <td>71.725251</td>\n",
       "      <td>73.083608</td>\n",
       "      <td>73.914599</td>\n",
       "      <td>74.690310</td>\n",
       "      <td>74.854638</td>\n",
       "      <td>inf</td>\n",
       "      <td>71.60325</td>\n",
       "      <td>q0.5</td>\n",
       "    </tr>\n",
       "    <tr>\n",
       "      <th>1</th>\n",
       "      <td>2024-01-17 14:00:00</td>\n",
       "      <td>66.321045</td>\n",
       "      <td>69.219174</td>\n",
       "      <td>69.843965</td>\n",
       "      <td>70.882925</td>\n",
       "      <td>71.516929</td>\n",
       "      <td>72.311108</td>\n",
       "      <td>73.175901</td>\n",
       "      <td>73.638190</td>\n",
       "      <td>74.502062</td>\n",
       "      <td>inf</td>\n",
       "      <td>70.62675</td>\n",
       "      <td>q0.4</td>\n",
       "    </tr>\n",
       "    <tr>\n",
       "      <th>2</th>\n",
       "      <td>2024-01-17 15:00:00</td>\n",
       "      <td>66.321045</td>\n",
       "      <td>69.219174</td>\n",
       "      <td>69.843965</td>\n",
       "      <td>70.882925</td>\n",
       "      <td>71.516929</td>\n",
       "      <td>72.311108</td>\n",
       "      <td>73.175901</td>\n",
       "      <td>73.638190</td>\n",
       "      <td>74.502062</td>\n",
       "      <td>inf</td>\n",
       "      <td>69.26850</td>\n",
       "      <td>q0.3</td>\n",
       "    </tr>\n",
       "    <tr>\n",
       "      <th>3</th>\n",
       "      <td>2024-01-17 16:00:00</td>\n",
       "      <td>66.321045</td>\n",
       "      <td>69.219174</td>\n",
       "      <td>69.843965</td>\n",
       "      <td>70.882925</td>\n",
       "      <td>71.516929</td>\n",
       "      <td>72.311108</td>\n",
       "      <td>73.175901</td>\n",
       "      <td>73.638190</td>\n",
       "      <td>74.502062</td>\n",
       "      <td>inf</td>\n",
       "      <td>69.43150</td>\n",
       "      <td>q0.3</td>\n",
       "    </tr>\n",
       "    <tr>\n",
       "      <th>4</th>\n",
       "      <td>2024-01-17 17:00:00</td>\n",
       "      <td>66.321045</td>\n",
       "      <td>69.219174</td>\n",
       "      <td>69.843965</td>\n",
       "      <td>70.882925</td>\n",
       "      <td>71.516929</td>\n",
       "      <td>72.311108</td>\n",
       "      <td>73.175901</td>\n",
       "      <td>73.638190</td>\n",
       "      <td>74.502062</td>\n",
       "      <td>inf</td>\n",
       "      <td>71.15625</td>\n",
       "      <td>q0.5</td>\n",
       "    </tr>\n",
       "    <tr>\n",
       "      <th>...</th>\n",
       "      <td>...</td>\n",
       "      <td>...</td>\n",
       "      <td>...</td>\n",
       "      <td>...</td>\n",
       "      <td>...</td>\n",
       "      <td>...</td>\n",
       "      <td>...</td>\n",
       "      <td>...</td>\n",
       "      <td>...</td>\n",
       "      <td>...</td>\n",
       "      <td>...</td>\n",
       "      <td>...</td>\n",
       "      <td>...</td>\n",
       "    </tr>\n",
       "    <tr>\n",
       "      <th>75</th>\n",
       "      <td>2023-11-11 16:00:00</td>\n",
       "      <td>50.684042</td>\n",
       "      <td>51.711463</td>\n",
       "      <td>52.639446</td>\n",
       "      <td>53.386571</td>\n",
       "      <td>54.391699</td>\n",
       "      <td>55.210969</td>\n",
       "      <td>56.092539</td>\n",
       "      <td>57.615659</td>\n",
       "      <td>58.446173</td>\n",
       "      <td>inf</td>\n",
       "      <td>53.56700</td>\n",
       "      <td>q0.5</td>\n",
       "    </tr>\n",
       "    <tr>\n",
       "      <th>76</th>\n",
       "      <td>2023-11-11 17:00:00</td>\n",
       "      <td>50.684042</td>\n",
       "      <td>51.711463</td>\n",
       "      <td>52.639446</td>\n",
       "      <td>53.386571</td>\n",
       "      <td>54.391699</td>\n",
       "      <td>55.210969</td>\n",
       "      <td>56.092539</td>\n",
       "      <td>57.615659</td>\n",
       "      <td>58.446173</td>\n",
       "      <td>inf</td>\n",
       "      <td>56.28250</td>\n",
       "      <td>q0.8</td>\n",
       "    </tr>\n",
       "    <tr>\n",
       "      <th>77</th>\n",
       "      <td>2023-11-11 18:00:00</td>\n",
       "      <td>50.684042</td>\n",
       "      <td>51.711463</td>\n",
       "      <td>52.639446</td>\n",
       "      <td>53.386571</td>\n",
       "      <td>54.391699</td>\n",
       "      <td>55.210969</td>\n",
       "      <td>56.092539</td>\n",
       "      <td>57.615659</td>\n",
       "      <td>58.446173</td>\n",
       "      <td>inf</td>\n",
       "      <td>56.33500</td>\n",
       "      <td>q0.8</td>\n",
       "    </tr>\n",
       "    <tr>\n",
       "      <th>78</th>\n",
       "      <td>2023-11-11 19:00:00</td>\n",
       "      <td>50.684042</td>\n",
       "      <td>51.711463</td>\n",
       "      <td>52.639446</td>\n",
       "      <td>53.386571</td>\n",
       "      <td>54.391699</td>\n",
       "      <td>55.210969</td>\n",
       "      <td>56.092539</td>\n",
       "      <td>57.615659</td>\n",
       "      <td>58.446173</td>\n",
       "      <td>inf</td>\n",
       "      <td>54.33125</td>\n",
       "      <td>q0.5</td>\n",
       "    </tr>\n",
       "    <tr>\n",
       "      <th>79</th>\n",
       "      <td>2023-11-11 20:00:00</td>\n",
       "      <td>46.933749</td>\n",
       "      <td>48.659414</td>\n",
       "      <td>50.587167</td>\n",
       "      <td>52.065010</td>\n",
       "      <td>53.020175</td>\n",
       "      <td>53.733505</td>\n",
       "      <td>54.737053</td>\n",
       "      <td>55.698427</td>\n",
       "      <td>56.566235</td>\n",
       "      <td>inf</td>\n",
       "      <td>51.06100</td>\n",
       "      <td>q0.4</td>\n",
       "    </tr>\n",
       "  </tbody>\n",
       "</table>\n",
       "<p>880 rows × 13 columns</p>\n",
       "</div>"
      ],
      "text/plain": [
       "             date_time       q0.1       q0.2       q0.3       q0.4       q0.5  \\\n",
       "0  2024-01-17 13:00:00  67.477496  70.031557  70.427966  71.076425  71.725251   \n",
       "1  2024-01-17 14:00:00  66.321045  69.219174  69.843965  70.882925  71.516929   \n",
       "2  2024-01-17 15:00:00  66.321045  69.219174  69.843965  70.882925  71.516929   \n",
       "3  2024-01-17 16:00:00  66.321045  69.219174  69.843965  70.882925  71.516929   \n",
       "4  2024-01-17 17:00:00  66.321045  69.219174  69.843965  70.882925  71.516929   \n",
       "..                 ...        ...        ...        ...        ...        ...   \n",
       "75 2023-11-11 16:00:00  50.684042  51.711463  52.639446  53.386571  54.391699   \n",
       "76 2023-11-11 17:00:00  50.684042  51.711463  52.639446  53.386571  54.391699   \n",
       "77 2023-11-11 18:00:00  50.684042  51.711463  52.639446  53.386571  54.391699   \n",
       "78 2023-11-11 19:00:00  50.684042  51.711463  52.639446  53.386571  54.391699   \n",
       "79 2023-11-11 20:00:00  46.933749  48.659414  50.587167  52.065010  53.020175   \n",
       "\n",
       "         q0.6       q0.7       q0.8       q0.9   q1  energy_consumption  \\\n",
       "0   73.083608  73.914599  74.690310  74.854638  inf            71.60325   \n",
       "1   72.311108  73.175901  73.638190  74.502062  inf            70.62675   \n",
       "2   72.311108  73.175901  73.638190  74.502062  inf            69.26850   \n",
       "3   72.311108  73.175901  73.638190  74.502062  inf            69.43150   \n",
       "4   72.311108  73.175901  73.638190  74.502062  inf            71.15625   \n",
       "..        ...        ...        ...        ...  ...                 ...   \n",
       "75  55.210969  56.092539  57.615659  58.446173  inf            53.56700   \n",
       "76  55.210969  56.092539  57.615659  58.446173  inf            56.28250   \n",
       "77  55.210969  56.092539  57.615659  58.446173  inf            56.33500   \n",
       "78  55.210969  56.092539  57.615659  58.446173  inf            54.33125   \n",
       "79  53.733505  54.737053  55.698427  56.566235  inf            51.06100   \n",
       "\n",
       "   first_quantile  \n",
       "0            q0.5  \n",
       "1            q0.4  \n",
       "2            q0.3  \n",
       "3            q0.3  \n",
       "4            q0.5  \n",
       "..            ...  \n",
       "75           q0.5  \n",
       "76           q0.8  \n",
       "77           q0.8  \n",
       "78           q0.5  \n",
       "79           q0.4  \n",
       "\n",
       "[880 rows x 13 columns]"
      ]
     },
     "execution_count": 11,
     "metadata": {},
     "output_type": "execute_result"
    }
   ],
   "source": [
    "pit_merged"
   ]
  },
  {
   "cell_type": "code",
   "execution_count": 13,
   "metadata": {},
   "outputs": [
    {
     "data": {
      "image/png": "[encoded data removed]",
      "text/plain": [
       "<Figure size 640x480 with 1 Axes>"
      ]
     },
     "metadata": {},
     "output_type": "display_data"
    }
   ],
   "source": [
    "def find_first_quantile(row):\n",
    "    quantile_columns = [f'q{quantile}' for quantile in quantiles]\n",
    "    for quantile_col in quantile_columns:\n",
    "        if row['energy_consumption'] < row[quantile_col]:\n",
    "            return quantile_col\n",
    "    return 'q1'\n",
    "\n",
    "\n",
    "# Apply the function to each row\n",
    "pit_merged['first_quantile'] = pit_merged.apply(find_first_quantile, axis=1)\n",
    "quantile_counts = pit_merged['first_quantile'].value_counts()\n",
    "\n",
    "# order quantiles for final plot\n",
    "ordered_quantile_counts = {}\n",
    "for q in quantiles:\n",
    "    if f'q{q}' in quantile_counts.index:\n",
    "        ordered_quantile_counts[q] = quantile_counts.loc[f'q{q}']\n",
    "    else:\n",
    "        ordered_quantile_counts[q] = 0\n",
    "\n",
    "counts = list(ordered_quantile_counts.values())\n",
    "bar_width = 0.1\n",
    "\n",
    "quantiles = [0.1, 0.2, 0.3, 0.4, 0.5, 0.6, 0.7, 0.8, 0.9, 1]\n",
    "# Centering the bars on the left-hand side of their ticks\n",
    "plt.bar([q - bar_width for q in quantiles], counts,\n",
    "        width=bar_width, color='lightgrey', alpha=0.7, align='edge', edgecolor='black')\n",
    "\n",
    "# Calculate the mean of the y-values\n",
    "mean_value = sum(counts) / len(counts)\n",
    "plt.axhline(y=mean_value, color='darkblue', linestyle='--', label='Mean')\n",
    "plt.xlabel('Quantile')\n",
    "plt.yticks([])\n",
    "# Alternatively: observed counts in each quantile range\n",
    "plt.title('Quantile Regression n = 1000')\n",
    "plt.box(False)\n",
    "plt.show()"
   ]
  },
  {
   "cell_type": "code",
   "execution_count": 26,
   "metadata": {},
   "outputs": [
    {
     "name": "stdout",
     "output_type": "stream",
     "text": [
      "start of round 1\n",
      "2017-02-13 00:00:00\n",
      "2024-01-18 12:00:00\n",
      "2024-01-17 13:00:00\n",
      "2024-01-22 16:00:00\n",
      "start of round 2\n",
      "2017-02-13 00:00:00\n",
      "2024-01-11 12:00:00\n",
      "2024-01-10 13:00:00\n",
      "2024-01-15 16:00:00\n",
      "start of round 3\n",
      "2017-02-13 00:00:00\n",
      "2024-01-04 12:00:00\n",
      "2024-01-03 13:00:00\n",
      "2024-01-08 16:00:00\n",
      "start of round 4\n",
      "2017-02-13 00:00:00\n",
      "2023-12-28 12:00:00\n",
      "2023-12-27 13:00:00\n",
      "2024-01-01 16:00:00\n",
      "start of round 5\n",
      "2017-02-13 00:00:00\n",
      "2023-12-21 12:00:00\n",
      "2023-12-20 13:00:00\n",
      "2023-12-25 16:00:00\n",
      "start of round 6\n",
      "2017-02-13 00:00:00\n",
      "2023-12-14 12:00:00\n",
      "2023-12-13 13:00:00\n",
      "2023-12-18 16:00:00\n"
     ]
    },
    {
     "name": "stderr",
     "output_type": "stream",
     "text": [
      "c:\\Users\\Maria\\Documents\\Setups\\Lib\\site-packages\\statsmodels\\regression\\quantile_regression.py:191: IterationLimitWarning: Maximum number of iterations (1000) reached.\n",
      "  warnings.warn(\"Maximum number of iterations (\" + str(max_iter) +\n"
     ]
    },
    {
     "name": "stdout",
     "output_type": "stream",
     "text": [
      "start of round 7\n",
      "2017-02-13 00:00:00\n",
      "2023-12-07 12:00:00\n",
      "2023-12-06 13:00:00\n",
      "2023-12-11 16:00:00\n",
      "start of round 8\n",
      "2017-02-13 00:00:00\n",
      "2023-11-30 12:00:00\n",
      "2023-11-29 13:00:00\n",
      "2023-12-04 16:00:00\n",
      "start of round 9\n",
      "2017-02-13 00:00:00\n",
      "2023-11-23 12:00:00\n",
      "2023-11-22 13:00:00\n",
      "2023-11-27 16:00:00\n",
      "start of round 10\n",
      "2017-02-13 00:00:00\n",
      "2023-11-16 12:00:00\n",
      "2023-11-15 13:00:00\n",
      "2023-11-20 16:00:00\n",
      "start of round 11\n",
      "2017-02-13 00:00:00\n",
      "2023-11-09 12:00:00\n",
      "2023-11-08 13:00:00\n",
      "2023-11-13 16:00:00\n"
     ]
    }
   ],
   "source": [
    "import matplotlib.pyplot as plt\n",
    "pit_merged = pd.DataFrame(columns=['date_time', 'q0.1', 'q0.2', 'q0.3', 'q0.4', 'q0.5', 'q0.6',\n",
    "                                   'q0.7', 'q0.8', 'q0.9', 'energy_consumption'])\n",
    "quantiles = [0.1, 0.2, 0.3, 0.4, 0.5, 0.6, 0.7, 0.8, 0.9]\n",
    "for i in range(1, 12):\n",
    "    print(f'start of round {i}')\n",
    "    forecasts = get_QuantRegExLong_forecasts(energydata[:i*(-168)],\n",
    "                                               indexes=list(range(100)),\n",
    "                                               quantiles=quantiles, abs_eval=True)\n",
    "    obs = energydata[i*(-168):i*(-168)+100].reset_index()\n",
    "    forecasts_obs = forecasts.merge(obs, how='left', on='date_time')\n",
    "    pit_merged = pd.concat([pit_merged, forecasts_obs])\n",
    "\n",
    "# Insert a column 'q1' with inf values after 'q0.9'\n",
    "column_index = pit_merged.columns.get_loc('q0.9') + 1"
   ]
  },
  {
   "cell_type": "code",
   "execution_count": 29,
   "metadata": {},
   "outputs": [],
   "source": [
    "# Insert a column 'q1' with inf values after 'q0.9'\n",
    "column_index = pit_merged.columns.get_loc('q0.9') + 1\n",
    "if 'q1' not in pit_merged.columns:\n",
    "    pit_merged.insert(column_index, 'q1', float('inf'))"
   ]
  },
  {
   "cell_type": "code",
   "execution_count": 30,
   "metadata": {},
   "outputs": [
    {
     "data": {
      "text/plain": [
       "[198, 170, 142, 123, 122, 91, 73, 36, 30, 115]"
      ]
     },
     "execution_count": 30,
     "metadata": {},
     "output_type": "execute_result"
    }
   ],
   "source": [
    "def find_first_quantile(row):\n",
    "    quantile_columns = [f'q{quantile}' for quantile in quantiles]\n",
    "    for quantile_col in quantile_columns:\n",
    "        if row['energy_consumption'] < row[quantile_col]:\n",
    "            return quantile_col\n",
    "    return 'q1'\n",
    "\n",
    "\n",
    "# Apply the function to each row\n",
    "pit_merged['first_quantile'] = pit_merged.apply(find_first_quantile, axis=1)\n",
    "quantile_counts = pit_merged['first_quantile'].value_counts()\n",
    "\n",
    "# order quantiles for final plot\n",
    "ordered_quantile_counts = {}\n",
    "for q in quantiles:\n",
    "    if f'q{q}' in quantile_counts.index:\n",
    "        ordered_quantile_counts[q] = quantile_counts.loc[f'q{q}']\n",
    "    else:\n",
    "        ordered_quantile_counts[q] = 0\n",
    "\n",
    "counts = list(ordered_quantile_counts.values())\n",
    "counts"
   ]
  },
  {
   "cell_type": "code",
   "execution_count": 32,
   "metadata": {},
   "outputs": [
    {
     "data": {
      "image/png": "[encoded data removed]",
      "text/plain": [
       "<Figure size 640x480 with 1 Axes>"
      ]
     },
     "metadata": {},
     "output_type": "display_data"
    }
   ],
   "source": [
    "bar_width = 0.1\n",
    "\n",
    "quantiles = [0.1, 0.2, 0.3, 0.4, 0.5, 0.6, 0.7, 0.8, 0.9, 1]\n",
    "# Centering the bars on the left-hand side of their ticks\n",
    "plt.bar([q - bar_width for q in quantiles], counts,\n",
    "        width=bar_width, color='lightgrey', alpha=0.7, align='edge', edgecolor='black')\n",
    "\n",
    "# Calculate the mean of the y-values\n",
    "mean_value = sum(counts) / len(counts)\n",
    "plt.axhline(y=mean_value, color='darkblue', linestyle='--', label='Mean')\n",
    "plt.xlabel('Quantile')\n",
    "plt.yticks([])\n",
    "# Alternatively: observed counts in each quantile range\n",
    "plt.title('Quantile Regression n = 54027')\n",
    "plt.box(False)\n",
    "plt.show()"
   ]
  }
 ],
 "metadata": {
  "kernelspec": {
   "display_name": "base",
   "language": "python",
   "name": "python3"
  },
  "language_info": {
   "codemirror_mode": {
    "name": "ipython",
    "version": 3
   },
   "file_extension": ".py",
   "mimetype": "text/x-python",
   "name": "python",
   "nbconvert_exporter": "python",
   "pygments_lexer": "ipython3",
   "version": "3.11.5"
  }
 },
 "nbformat": 4,
 "nbformat_minor": 2
}
