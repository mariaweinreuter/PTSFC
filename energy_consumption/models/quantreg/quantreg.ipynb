{
 "cells": [
  {
   "cell_type": "code",
   "execution_count": 1,
   "metadata": {},
   "outputs": [],
   "source": [
    "import numpy as np\n",
    "import pandas as pd\n",
    "import matplotlib.pyplot as plt\n",
    "\n",
    "import statsmodels.api as sm\n",
    "from sklearn.model_selection import train_test_split\n",
    "from sklearn.metrics import mean_squared_error\n",
    "\n",
    "from energy_consumption.feature_selection.extract import extract_all_features"
   ]
  },
  {
   "cell_type": "markdown",
   "metadata": {},
   "source": [
    "## Comparison based on MSPE"
   ]
  },
  {
   "cell_type": "code",
   "execution_count": 14,
   "metadata": {},
   "outputs": [
    {
     "name": "stdout",
     "output_type": "stream",
     "text": [
      "did you update weather and index?\n"
     ]
    }
   ],
   "source": [
    "energydata_fm = extract_all_features.get_energy_and_features(lasso=True)\n",
    "energydata_ts = extract_all_features.get_energy_and_features(ts = True)\n",
    "\n",
    "# make sure both dfs have same length\n",
    "energydata_ts = energydata_ts.loc[energydata_fm.index[0]:]"
   ]
  },
  {
   "cell_type": "code",
   "execution_count": 3,
   "metadata": {},
   "outputs": [
    {
     "data": {
      "text/html": [
       "<div>\n",
       "<style scoped>\n",
       "    .dataframe tbody tr th:only-of-type {\n",
       "        vertical-align: middle;\n",
       "    }\n",
       "\n",
       "    .dataframe tbody tr th {\n",
       "        vertical-align: top;\n",
       "    }\n",
       "\n",
       "    .dataframe thead th {\n",
       "        text-align: right;\n",
       "    }\n",
       "</style>\n",
       "<table border=\"1\" class=\"dataframe\">\n",
       "  <thead>\n",
       "    <tr style=\"text-align: right;\">\n",
       "      <th></th>\n",
       "      <th>energy_consumption</th>\n",
       "      <th>winter</th>\n",
       "      <th>spring_autumn</th>\n",
       "      <th>saturday</th>\n",
       "      <th>working_day</th>\n",
       "      <th>period1</th>\n",
       "      <th>period2</th>\n",
       "      <th>period3</th>\n",
       "      <th>period4</th>\n",
       "      <th>period5</th>\n",
       "      <th>period6</th>\n",
       "      <th>holiday</th>\n",
       "      <th>abs_log_ret_weekly</th>\n",
       "      <th>tavg</th>\n",
       "      <th>wspd</th>\n",
       "      <th>tsun</th>\n",
       "      <th>index</th>\n",
       "      <th>population</th>\n",
       "    </tr>\n",
       "    <tr>\n",
       "      <th>date_time</th>\n",
       "      <th></th>\n",
       "      <th></th>\n",
       "      <th></th>\n",
       "      <th></th>\n",
       "      <th></th>\n",
       "      <th></th>\n",
       "      <th></th>\n",
       "      <th></th>\n",
       "      <th></th>\n",
       "      <th></th>\n",
       "      <th></th>\n",
       "      <th></th>\n",
       "      <th></th>\n",
       "      <th></th>\n",
       "      <th></th>\n",
       "      <th></th>\n",
       "      <th></th>\n",
       "      <th></th>\n",
       "    </tr>\n",
       "  </thead>\n",
       "  <tbody>\n",
       "    <tr>\n",
       "      <th>2016-12-28 00:00:00</th>\n",
       "      <td>45.54875</td>\n",
       "      <td>1</td>\n",
       "      <td>0</td>\n",
       "      <td>0</td>\n",
       "      <td>1</td>\n",
       "      <td>0</td>\n",
       "      <td>0</td>\n",
       "      <td>0</td>\n",
       "      <td>0</td>\n",
       "      <td>0</td>\n",
       "      <td>0</td>\n",
       "      <td>0</td>\n",
       "      <td>0.083182</td>\n",
       "      <td>4.1</td>\n",
       "      <td>18.7</td>\n",
       "      <td>48.0</td>\n",
       "      <td>89.200000</td>\n",
       "      <td>82.350</td>\n",
       "    </tr>\n",
       "    <tr>\n",
       "      <th>2016-12-28 01:00:00</th>\n",
       "      <td>43.06450</td>\n",
       "      <td>1</td>\n",
       "      <td>0</td>\n",
       "      <td>0</td>\n",
       "      <td>1</td>\n",
       "      <td>0</td>\n",
       "      <td>1</td>\n",
       "      <td>0</td>\n",
       "      <td>0</td>\n",
       "      <td>0</td>\n",
       "      <td>0</td>\n",
       "      <td>0</td>\n",
       "      <td>0.083182</td>\n",
       "      <td>4.1</td>\n",
       "      <td>18.7</td>\n",
       "      <td>48.0</td>\n",
       "      <td>89.200000</td>\n",
       "      <td>82.350</td>\n",
       "    </tr>\n",
       "    <tr>\n",
       "      <th>2016-12-28 02:00:00</th>\n",
       "      <td>41.96000</td>\n",
       "      <td>1</td>\n",
       "      <td>0</td>\n",
       "      <td>0</td>\n",
       "      <td>1</td>\n",
       "      <td>0</td>\n",
       "      <td>1</td>\n",
       "      <td>0</td>\n",
       "      <td>0</td>\n",
       "      <td>0</td>\n",
       "      <td>0</td>\n",
       "      <td>0</td>\n",
       "      <td>0.083182</td>\n",
       "      <td>4.1</td>\n",
       "      <td>18.7</td>\n",
       "      <td>48.0</td>\n",
       "      <td>89.200000</td>\n",
       "      <td>82.350</td>\n",
       "    </tr>\n",
       "    <tr>\n",
       "      <th>2016-12-28 03:00:00</th>\n",
       "      <td>41.95750</td>\n",
       "      <td>1</td>\n",
       "      <td>0</td>\n",
       "      <td>0</td>\n",
       "      <td>1</td>\n",
       "      <td>0</td>\n",
       "      <td>1</td>\n",
       "      <td>0</td>\n",
       "      <td>0</td>\n",
       "      <td>0</td>\n",
       "      <td>0</td>\n",
       "      <td>0</td>\n",
       "      <td>0.083182</td>\n",
       "      <td>4.1</td>\n",
       "      <td>18.7</td>\n",
       "      <td>48.0</td>\n",
       "      <td>89.200000</td>\n",
       "      <td>82.350</td>\n",
       "    </tr>\n",
       "    <tr>\n",
       "      <th>2016-12-28 04:00:00</th>\n",
       "      <td>43.31375</td>\n",
       "      <td>1</td>\n",
       "      <td>0</td>\n",
       "      <td>0</td>\n",
       "      <td>1</td>\n",
       "      <td>0</td>\n",
       "      <td>1</td>\n",
       "      <td>0</td>\n",
       "      <td>0</td>\n",
       "      <td>0</td>\n",
       "      <td>0</td>\n",
       "      <td>0</td>\n",
       "      <td>0.083182</td>\n",
       "      <td>4.1</td>\n",
       "      <td>18.7</td>\n",
       "      <td>48.0</td>\n",
       "      <td>89.200000</td>\n",
       "      <td>82.350</td>\n",
       "    </tr>\n",
       "    <tr>\n",
       "      <th>...</th>\n",
       "      <td>...</td>\n",
       "      <td>...</td>\n",
       "      <td>...</td>\n",
       "      <td>...</td>\n",
       "      <td>...</td>\n",
       "      <td>...</td>\n",
       "      <td>...</td>\n",
       "      <td>...</td>\n",
       "      <td>...</td>\n",
       "      <td>...</td>\n",
       "      <td>...</td>\n",
       "      <td>...</td>\n",
       "      <td>...</td>\n",
       "      <td>...</td>\n",
       "      <td>...</td>\n",
       "      <td>...</td>\n",
       "      <td>...</td>\n",
       "      <td>...</td>\n",
       "    </tr>\n",
       "    <tr>\n",
       "      <th>2023-11-22 08:00:00</th>\n",
       "      <td>65.75125</td>\n",
       "      <td>0</td>\n",
       "      <td>1</td>\n",
       "      <td>0</td>\n",
       "      <td>1</td>\n",
       "      <td>0</td>\n",
       "      <td>0</td>\n",
       "      <td>1</td>\n",
       "      <td>0</td>\n",
       "      <td>0</td>\n",
       "      <td>0</td>\n",
       "      <td>0</td>\n",
       "      <td>0.311336</td>\n",
       "      <td>-1.2</td>\n",
       "      <td>11.2</td>\n",
       "      <td>NaN</td>\n",
       "      <td>79.457567</td>\n",
       "      <td>84.581</td>\n",
       "    </tr>\n",
       "    <tr>\n",
       "      <th>2023-11-22 09:00:00</th>\n",
       "      <td>67.40950</td>\n",
       "      <td>0</td>\n",
       "      <td>1</td>\n",
       "      <td>0</td>\n",
       "      <td>1</td>\n",
       "      <td>0</td>\n",
       "      <td>0</td>\n",
       "      <td>0</td>\n",
       "      <td>0</td>\n",
       "      <td>0</td>\n",
       "      <td>0</td>\n",
       "      <td>0</td>\n",
       "      <td>0.311336</td>\n",
       "      <td>-1.2</td>\n",
       "      <td>11.2</td>\n",
       "      <td>NaN</td>\n",
       "      <td>79.457567</td>\n",
       "      <td>84.581</td>\n",
       "    </tr>\n",
       "    <tr>\n",
       "      <th>2023-11-22 10:00:00</th>\n",
       "      <td>68.26775</td>\n",
       "      <td>0</td>\n",
       "      <td>1</td>\n",
       "      <td>0</td>\n",
       "      <td>1</td>\n",
       "      <td>0</td>\n",
       "      <td>0</td>\n",
       "      <td>0</td>\n",
       "      <td>0</td>\n",
       "      <td>0</td>\n",
       "      <td>1</td>\n",
       "      <td>0</td>\n",
       "      <td>0.311336</td>\n",
       "      <td>-1.2</td>\n",
       "      <td>11.2</td>\n",
       "      <td>NaN</td>\n",
       "      <td>79.457567</td>\n",
       "      <td>84.581</td>\n",
       "    </tr>\n",
       "    <tr>\n",
       "      <th>2023-11-22 11:00:00</th>\n",
       "      <td>69.76200</td>\n",
       "      <td>0</td>\n",
       "      <td>1</td>\n",
       "      <td>0</td>\n",
       "      <td>1</td>\n",
       "      <td>0</td>\n",
       "      <td>0</td>\n",
       "      <td>0</td>\n",
       "      <td>0</td>\n",
       "      <td>0</td>\n",
       "      <td>1</td>\n",
       "      <td>0</td>\n",
       "      <td>0.311336</td>\n",
       "      <td>-1.2</td>\n",
       "      <td>11.2</td>\n",
       "      <td>NaN</td>\n",
       "      <td>79.457567</td>\n",
       "      <td>84.581</td>\n",
       "    </tr>\n",
       "    <tr>\n",
       "      <th>2023-11-22 12:00:00</th>\n",
       "      <td>69.99975</td>\n",
       "      <td>0</td>\n",
       "      <td>1</td>\n",
       "      <td>0</td>\n",
       "      <td>1</td>\n",
       "      <td>0</td>\n",
       "      <td>0</td>\n",
       "      <td>0</td>\n",
       "      <td>0</td>\n",
       "      <td>0</td>\n",
       "      <td>1</td>\n",
       "      <td>0</td>\n",
       "      <td>0.311336</td>\n",
       "      <td>-1.2</td>\n",
       "      <td>11.2</td>\n",
       "      <td>NaN</td>\n",
       "      <td>79.457567</td>\n",
       "      <td>84.581</td>\n",
       "    </tr>\n",
       "  </tbody>\n",
       "</table>\n",
       "<p>60493 rows × 18 columns</p>\n",
       "</div>"
      ],
      "text/plain": [
       "                     energy_consumption  winter  spring_autumn  saturday  \\\n",
       "date_time                                                                  \n",
       "2016-12-28 00:00:00            45.54875       1              0         0   \n",
       "2016-12-28 01:00:00            43.06450       1              0         0   \n",
       "2016-12-28 02:00:00            41.96000       1              0         0   \n",
       "2016-12-28 03:00:00            41.95750       1              0         0   \n",
       "2016-12-28 04:00:00            43.31375       1              0         0   \n",
       "...                                 ...     ...            ...       ...   \n",
       "2023-11-22 08:00:00            65.75125       0              1         0   \n",
       "2023-11-22 09:00:00            67.40950       0              1         0   \n",
       "2023-11-22 10:00:00            68.26775       0              1         0   \n",
       "2023-11-22 11:00:00            69.76200       0              1         0   \n",
       "2023-11-22 12:00:00            69.99975       0              1         0   \n",
       "\n",
       "                     working_day  period1  period2  period3  period4  period5  \\\n",
       "date_time                                                                       \n",
       "2016-12-28 00:00:00            1        0        0        0        0        0   \n",
       "2016-12-28 01:00:00            1        0        1        0        0        0   \n",
       "2016-12-28 02:00:00            1        0        1        0        0        0   \n",
       "2016-12-28 03:00:00            1        0        1        0        0        0   \n",
       "2016-12-28 04:00:00            1        0        1        0        0        0   \n",
       "...                          ...      ...      ...      ...      ...      ...   \n",
       "2023-11-22 08:00:00            1        0        0        1        0        0   \n",
       "2023-11-22 09:00:00            1        0        0        0        0        0   \n",
       "2023-11-22 10:00:00            1        0        0        0        0        0   \n",
       "2023-11-22 11:00:00            1        0        0        0        0        0   \n",
       "2023-11-22 12:00:00            1        0        0        0        0        0   \n",
       "\n",
       "                     period6  holiday  abs_log_ret_weekly  tavg  wspd  tsun  \\\n",
       "date_time                                                                     \n",
       "2016-12-28 00:00:00        0        0            0.083182   4.1  18.7  48.0   \n",
       "2016-12-28 01:00:00        0        0            0.083182   4.1  18.7  48.0   \n",
       "2016-12-28 02:00:00        0        0            0.083182   4.1  18.7  48.0   \n",
       "2016-12-28 03:00:00        0        0            0.083182   4.1  18.7  48.0   \n",
       "2016-12-28 04:00:00        0        0            0.083182   4.1  18.7  48.0   \n",
       "...                      ...      ...                 ...   ...   ...   ...   \n",
       "2023-11-22 08:00:00        0        0            0.311336  -1.2  11.2   NaN   \n",
       "2023-11-22 09:00:00        0        0            0.311336  -1.2  11.2   NaN   \n",
       "2023-11-22 10:00:00        1        0            0.311336  -1.2  11.2   NaN   \n",
       "2023-11-22 11:00:00        1        0            0.311336  -1.2  11.2   NaN   \n",
       "2023-11-22 12:00:00        1        0            0.311336  -1.2  11.2   NaN   \n",
       "\n",
       "                         index  population  \n",
       "date_time                                   \n",
       "2016-12-28 00:00:00  89.200000      82.350  \n",
       "2016-12-28 01:00:00  89.200000      82.350  \n",
       "2016-12-28 02:00:00  89.200000      82.350  \n",
       "2016-12-28 03:00:00  89.200000      82.350  \n",
       "2016-12-28 04:00:00  89.200000      82.350  \n",
       "...                        ...         ...  \n",
       "2023-11-22 08:00:00  79.457567      84.581  \n",
       "2023-11-22 09:00:00  79.457567      84.581  \n",
       "2023-11-22 10:00:00  79.457567      84.581  \n",
       "2023-11-22 11:00:00  79.457567      84.581  \n",
       "2023-11-22 12:00:00  79.457567      84.581  \n",
       "\n",
       "[60493 rows x 18 columns]"
      ]
     },
     "execution_count": 3,
     "metadata": {},
     "output_type": "execute_result"
    }
   ],
   "source": [
    "energydata_fm"
   ]
  },
  {
   "cell_type": "markdown",
   "metadata": {},
   "source": [
    "### QuantReg Model for Energy Data based on its Time Series\n",
    "\n",
    "Adjust length of training data set for final model, \n",
    "* shrunkate data set on upper front for different predictions\n",
    "* take small intervals to get more precice results"
   ]
  },
  {
   "cell_type": "code",
   "execution_count": 17,
   "metadata": {},
   "outputs": [
    {
     "name": "stdout",
     "output_type": "stream",
     "text": [
      "----------l =  1 -----------\n",
      "MSPE on Test Set: 25.33235427814565\n",
      "----------l =  0.95 -----------\n",
      "MSPE on Test Set: 35.324528854225925\n",
      "----------l =  0.9 -----------\n",
      "MSPE on Test Set: 41.34129039894503\n",
      "----------l =  0.85 -----------\n",
      "MSPE on Test Set: 27.75459170745743\n",
      "----------l =  0.8 -----------\n",
      "MSPE on Test Set: 15.65545517703802\n",
      "----------l =  0.75 -----------\n",
      "MSPE on Test Set: 22.39724697606716\n",
      "----------l =  0.7 -----------\n",
      "MSPE on Test Set: 13.519450507709555\n",
      "----------l =  0.65 -----------\n",
      "MSPE on Test Set: 13.387812184649295\n",
      "----------l =  0.6 -----------\n",
      "MSPE on Test Set: 30.00985207123193\n",
      "----------l =  0.55 -----------\n",
      "MSPE on Test Set: 15.479322914748725\n",
      "----------l =  0.5 -----------\n",
      "MSPE on Test Set: 44.918419522386465\n",
      "----------l =  0.45 -----------\n",
      "MSPE on Test Set: 33.682594702799236\n",
      "----------l =  0.4 -----------\n",
      "MSPE on Test Set: 12.331162003608455\n",
      "----------l =  0.35 -----------\n",
      "MSPE on Test Set: 18.037751344604317\n",
      "----------l =  0.3 -----------\n",
      "MSPE on Test Set: 35.509393550422786\n",
      "----------l =  0.25 -----------\n",
      "MSPE on Test Set: 9.581223351565969\n",
      "----------l =  0.2 -----------\n",
      "MSPE on Test Set: 15.193782620879999\n",
      "----------l =  0.16 -----------\n",
      "MSPE on Test Set: 10.484997241695604\n",
      "----------l =  0.1 -----------\n",
      "MSPE on Test Set: 12.835261507493277\n",
      "----------l =  0.05 -----------\n",
      "MSPE on Test Set: 19.69863852906907\n"
     ]
    }
   ],
   "source": [
    "length_adjuster = [1, 0.95, 0.9, 0.85, 0.8, 0.75, 0.7, \n",
    "                   0.65, 0.6, 0.55, 0.5, 0.45, 0.4, 0.35, \n",
    "                   0.3, 0.25, 0.2, 0.16, 0.1, 0.05]\n",
    "max_length = len(energydata_ts)\n",
    "mspes = {}\n",
    "\n",
    "for l in length_adjuster: \n",
    "\n",
    "    energydata_temp = energydata_ts[:int(l*max_length)]\n",
    "\n",
    "    X = energydata_temp.drop(columns=['energy_consumption'])\n",
    "    y = energydata_temp['energy_consumption']\n",
    "\n",
    "    # no shuffle --> time series\n",
    "    X_train, X_test, y_train, y_test = train_test_split(\n",
    "        X, y, test_size=0.05, shuffle=False)\n",
    "    \n",
    "    # add constants\n",
    "    X_train = sm.add_constant(X_train)\n",
    "    X_test.insert(loc=0, column='constant', value=1)\n",
    "\n",
    "    # Initialize QuantReg model \n",
    "    quantreg_model = sm.QuantReg(y_train, X_train)\n",
    "\n",
    "    # Fit the initial model\n",
    "    quantreg_results = quantreg_model.fit()\n",
    "\n",
    "    # predict \n",
    "    y_pred = quantreg_results.predict(X_test)\n",
    "\n",
    "    mspe_ts = mean_squared_error(y_test, y_pred)\n",
    "    print('----------l = ', l, '-----------')\n",
    "    print(\"MSPE on Test Set:\", mspe_ts)\n",
    "    mspes.update({l: mspe_ts})"
   ]
  },
  {
   "cell_type": "code",
   "execution_count": 20,
   "metadata": {},
   "outputs": [],
   "source": [
    "opt_num_obs = int(0.25*max_length)\n",
    "opt_rmse = mspes[0.25]"
   ]
  },
  {
   "cell_type": "code",
   "execution_count": 21,
   "metadata": {},
   "outputs": [
    {
     "data": {
      "text/plain": [
       "([<matplotlib.axis.XTick at 0x296eee69090>,\n",
       "  <matplotlib.axis.XTick at 0x296eee68d10>,\n",
       "  <matplotlib.axis.XTick at 0x296eee659d0>,\n",
       "  <matplotlib.axis.XTick at 0x296e4f5bb50>,\n",
       "  <matplotlib.axis.XTick at 0x296e4f51d10>],\n",
       " [Text(0.1, 0, '6049'),\n",
       "  Text(0.3, 0, '18148'),\n",
       "  Text(0.5, 0, '30246'),\n",
       "  Text(0.7, 0, '42345'),\n",
       "  Text(0.9, 0, '54444')])"
      ]
     },
     "execution_count": 21,
     "metadata": {},
     "output_type": "execute_result"
    },
    {
     "data": {
      "image/png": "[encoded data removed]",
      "text/plain": [
       "<Figure size 640x480 with 1 Axes>"
      ]
     },
     "metadata": {},
     "output_type": "display_data"
    }
   ],
   "source": [
    "# Extract keys and values from the dictionary\n",
    "lengths = list(mspes.keys())\n",
    "mse_values = list(mspes.values())\n",
    "\n",
    "# Plot the MSEs\n",
    "plt.plot(lengths, mse_values, marker='o')\n",
    "plt.title('MSPE vs. Number of Observations')\n",
    "plt.xlabel('Number of Observations')\n",
    "plt.ylabel('Mean Squared Prediction Error (MSPE)')\n",
    "plt.axvspan(0.16,0.4, color='lightgrey', alpha=0.5)\n",
    "\n",
    "plt.axhline(y=9.51, color='red', linestyle='--',\n",
    "            label='15123 observations ~ 1.73 years')\n",
    "plt.legend(loc='upper right')\n",
    "\n",
    "xticks = [0.1 * 60493, 0.3 * 60493, 0.5 * 60493, 0.7 * 60493, 0.9 * 60493]\n",
    "plt.xticks(ticks = [0.1, 0.3, 0.5, 0.7, 0.9], labels=[f'{val:.0f}' for val in xticks])"
   ]
  },
  {
   "cell_type": "code",
   "execution_count": 10,
   "metadata": {},
   "outputs": [],
   "source": [
    "max_length = 15123"
   ]
  },
  {
   "cell_type": "code",
   "execution_count": 24,
   "metadata": {},
   "outputs": [],
   "source": [
    "energydata_comp = energydata_ts[-opt_num_obs:]\n",
    "\n",
    "X = energydata_comp.drop(columns=['energy_consumption'])\n",
    "y = energydata_comp['energy_consumption']\n",
    "\n",
    "# no shuffle --> time series\n",
    "X_train, X_test, y_train, y_test = train_test_split(\n",
    "    X, y, test_size=0.05, shuffle=False)\n",
    "    \n",
    "# add constants\n",
    "X_train = sm.add_constant(X_train)\n",
    "X_test.insert(loc=0, column='constant', value=1)\n",
    "\n",
    "# Initialize QuantReg model \n",
    "quantreg_model = sm.QuantReg(y_train, X_train)\n",
    "\n",
    "# Fit the initial model\n",
    "quantreg_results = quantreg_model.fit()\n",
    "\n",
    "# predict \n",
    "y_pred = quantreg_results.predict(X_test)\n",
    "\n",
    "mspe_ts = mean_squared_error(y_test, y_pred)\n",
    "mspe_all = {'QuantReg based on time series': mspe_ts}"
   ]
  },
  {
   "cell_type": "markdown",
   "metadata": {},
   "source": [
    "### QuantReg Model for EnergyData based on Features"
   ]
  },
  {
   "cell_type": "code",
   "execution_count": 25,
   "metadata": {},
   "outputs": [
    {
     "name": "stderr",
     "output_type": "stream",
     "text": [
      "c:\\Users\\Maria\\Documents\\Setups\\Lib\\site-packages\\statsmodels\\regression\\quantile_regression.py:191: IterationLimitWarning: Maximum number of iterations (1000) reached.\n",
      "  warnings.warn(\"Maximum number of iterations (\" + str(max_iter) +\n"
     ]
    },
    {
     "name": "stdout",
     "output_type": "stream",
     "text": [
      "----------n =  1 -----------\n",
      "Mean Squared Error on Test Set: 81.02341615706342\n",
      "Selected_features:  ['period6']\n"
     ]
    },
    {
     "name": "stderr",
     "output_type": "stream",
     "text": [
      "c:\\Users\\Maria\\Documents\\Setups\\Lib\\site-packages\\statsmodels\\regression\\quantile_regression.py:191: IterationLimitWarning: Maximum number of iterations (1000) reached.\n",
      "  warnings.warn(\"Maximum number of iterations (\" + str(max_iter) +\n"
     ]
    },
    {
     "name": "stdout",
     "output_type": "stream",
     "text": [
      "----------n =  2 -----------\n",
      "Mean Squared Error on Test Set: 64.00245437061889\n",
      "Selected_features:  ['period3', 'period6']\n"
     ]
    },
    {
     "name": "stderr",
     "output_type": "stream",
     "text": [
      "c:\\Users\\Maria\\Documents\\Setups\\Lib\\site-packages\\statsmodels\\regression\\quantile_regression.py:191: IterationLimitWarning: Maximum number of iterations (1000) reached.\n",
      "  warnings.warn(\"Maximum number of iterations (\" + str(max_iter) +\n"
     ]
    },
    {
     "name": "stdout",
     "output_type": "stream",
     "text": [
      "----------n =  3 -----------\n",
      "Mean Squared Error on Test Set: 48.72307288265738\n",
      "Selected_features:  ['period2', 'period3', 'period6']\n"
     ]
    },
    {
     "name": "stderr",
     "output_type": "stream",
     "text": [
      "c:\\Users\\Maria\\Documents\\Setups\\Lib\\site-packages\\statsmodels\\regression\\quantile_regression.py:191: IterationLimitWarning: Maximum number of iterations (1000) reached.\n",
      "  warnings.warn(\"Maximum number of iterations (\" + str(max_iter) +\n"
     ]
    },
    {
     "name": "stdout",
     "output_type": "stream",
     "text": [
      "----------n =  5 -----------\n",
      "Mean Squared Error on Test Set: 23.956568682923642\n",
      "Selected_features:  ['tavg', 'working_day', 'period2', 'period3', 'period6']\n"
     ]
    },
    {
     "name": "stderr",
     "output_type": "stream",
     "text": [
      "c:\\Users\\Maria\\Documents\\Setups\\Lib\\site-packages\\statsmodels\\regression\\quantile_regression.py:191: IterationLimitWarning: Maximum number of iterations (1000) reached.\n",
      "  warnings.warn(\"Maximum number of iterations (\" + str(max_iter) +\n"
     ]
    },
    {
     "name": "stdout",
     "output_type": "stream",
     "text": [
      "----------n =  6 -----------\n",
      "Mean Squared Error on Test Set: 23.67657948497723\n",
      "Selected_features:  ['tavg', 'working_day', 'period2', 'period3', 'period6', 'holiday']\n"
     ]
    },
    {
     "name": "stderr",
     "output_type": "stream",
     "text": [
      "c:\\Users\\Maria\\Documents\\Setups\\Lib\\site-packages\\statsmodels\\regression\\quantile_regression.py:191: IterationLimitWarning: Maximum number of iterations (1000) reached.\n",
      "  warnings.warn(\"Maximum number of iterations (\" + str(max_iter) +\n"
     ]
    },
    {
     "name": "stdout",
     "output_type": "stream",
     "text": [
      "----------n =  7 -----------\n",
      "Mean Squared Error on Test Set: 20.918180658031222\n",
      "Selected_features:  ['tavg', 'working_day', 'period1', 'period2', 'period3', 'period6', 'holiday']\n"
     ]
    },
    {
     "name": "stderr",
     "output_type": "stream",
     "text": [
      "c:\\Users\\Maria\\Documents\\Setups\\Lib\\site-packages\\statsmodels\\regression\\quantile_regression.py:191: IterationLimitWarning: Maximum number of iterations (1000) reached.\n",
      "  warnings.warn(\"Maximum number of iterations (\" + str(max_iter) +\n"
     ]
    },
    {
     "name": "stdout",
     "output_type": "stream",
     "text": [
      "----------n =  8 -----------\n",
      "Mean Squared Error on Test Set: 18.960767465454236\n",
      "Selected_features:  ['tavg', 'working_day', 'period1', 'period2', 'period3', 'period5', 'period6', 'holiday']\n"
     ]
    },
    {
     "name": "stderr",
     "output_type": "stream",
     "text": [
      "c:\\Users\\Maria\\Documents\\Setups\\Lib\\site-packages\\statsmodels\\regression\\quantile_regression.py:191: IterationLimitWarning: Maximum number of iterations (1000) reached.\n",
      "  warnings.warn(\"Maximum number of iterations (\" + str(max_iter) +\n"
     ]
    },
    {
     "name": "stdout",
     "output_type": "stream",
     "text": [
      "----------n =  9 -----------\n",
      "Mean Squared Error on Test Set: 23.633262563617777\n",
      "Selected_features:  ['tavg', 'working_day', 'period1', 'period2', 'period3', 'period5', 'period6', 'holiday', 'index']\n"
     ]
    },
    {
     "name": "stderr",
     "output_type": "stream",
     "text": [
      "c:\\Users\\Maria\\Documents\\Setups\\Lib\\site-packages\\statsmodels\\regression\\quantile_regression.py:191: IterationLimitWarning: Maximum number of iterations (1000) reached.\n",
      "  warnings.warn(\"Maximum number of iterations (\" + str(max_iter) +\n"
     ]
    },
    {
     "name": "stdout",
     "output_type": "stream",
     "text": [
      "----------n =  10 -----------\n",
      "Mean Squared Error on Test Set: 24.45000325924111\n",
      "Selected_features:  ['tavg', 'working_day', 'period1', 'period2', 'period3', 'period4', 'period5', 'period6', 'holiday', 'index']\n"
     ]
    },
    {
     "name": "stderr",
     "output_type": "stream",
     "text": [
      "c:\\Users\\Maria\\Documents\\Setups\\Lib\\site-packages\\statsmodels\\regression\\quantile_regression.py:191: IterationLimitWarning: Maximum number of iterations (1000) reached.\n",
      "  warnings.warn(\"Maximum number of iterations (\" + str(max_iter) +\n"
     ]
    },
    {
     "name": "stdout",
     "output_type": "stream",
     "text": [
      "----------n =  11 -----------\n",
      "Mean Squared Error on Test Set: 33.68893184935105\n",
      "Selected_features:  ['tavg', 'winter', 'working_day', 'period1', 'period2', 'period3', 'period4', 'period5', 'period6', 'holiday', 'index']\n"
     ]
    },
    {
     "name": "stderr",
     "output_type": "stream",
     "text": [
      "c:\\Users\\Maria\\Documents\\Setups\\Lib\\site-packages\\statsmodels\\regression\\quantile_regression.py:191: IterationLimitWarning: Maximum number of iterations (1000) reached.\n",
      "  warnings.warn(\"Maximum number of iterations (\" + str(max_iter) +\n"
     ]
    },
    {
     "name": "stdout",
     "output_type": "stream",
     "text": [
      "----------n =  12 -----------\n",
      "Mean Squared Error on Test Set: 25.340829378333225\n",
      "Selected_features:  ['tavg', 'sun_hours', 'winter', 'working_day', 'period1', 'period2', 'period3', 'period4', 'period5', 'period6', 'holiday', 'index']\n"
     ]
    },
    {
     "name": "stderr",
     "output_type": "stream",
     "text": [
      "c:\\Users\\Maria\\Documents\\Setups\\Lib\\site-packages\\statsmodels\\regression\\quantile_regression.py:191: IterationLimitWarning: Maximum number of iterations (1000) reached.\n",
      "  warnings.warn(\"Maximum number of iterations (\" + str(max_iter) +\n"
     ]
    },
    {
     "name": "stdout",
     "output_type": "stream",
     "text": [
      "----------n =  13 -----------\n",
      "Mean Squared Error on Test Set: 25.09341626499816\n",
      "Selected_features:  ['tavg', 'sun_hours', 'winter', 'saturday', 'working_day', 'period1', 'period2', 'period3', 'period4', 'period5', 'period6', 'holiday', 'index']\n"
     ]
    },
    {
     "name": "stderr",
     "output_type": "stream",
     "text": [
      "c:\\Users\\Maria\\Documents\\Setups\\Lib\\site-packages\\statsmodels\\regression\\quantile_regression.py:191: IterationLimitWarning: Maximum number of iterations (1000) reached.\n",
      "  warnings.warn(\"Maximum number of iterations (\" + str(max_iter) +\n"
     ]
    },
    {
     "name": "stdout",
     "output_type": "stream",
     "text": [
      "----------n =  14 -----------\n",
      "Mean Squared Error on Test Set: 23.04776556376275\n",
      "Selected_features:  ['tavg', 'wspd', 'sun_hours', 'winter', 'saturday', 'working_day', 'period1', 'period2', 'period3', 'period4', 'period5', 'period6', 'holiday', 'index']\n"
     ]
    },
    {
     "name": "stderr",
     "output_type": "stream",
     "text": [
      "c:\\Users\\Maria\\Documents\\Setups\\Lib\\site-packages\\statsmodels\\regression\\quantile_regression.py:191: IterationLimitWarning: Maximum number of iterations (1000) reached.\n",
      "  warnings.warn(\"Maximum number of iterations (\" + str(max_iter) +\n"
     ]
    },
    {
     "name": "stdout",
     "output_type": "stream",
     "text": [
      "----------n =  15 -----------\n",
      "Mean Squared Error on Test Set: 24.126587571249786\n",
      "Selected_features:  ['tavg', 'wspd', 'sun_hours', 'winter', 'saturday', 'working_day', 'period1', 'period2', 'period3', 'period4', 'period5', 'period6', 'holiday', 'index', 'population']\n"
     ]
    },
    {
     "name": "stderr",
     "output_type": "stream",
     "text": [
      "c:\\Users\\Maria\\Documents\\Setups\\Lib\\site-packages\\statsmodels\\regression\\quantile_regression.py:191: IterationLimitWarning: Maximum number of iterations (1000) reached.\n",
      "  warnings.warn(\"Maximum number of iterations (\" + str(max_iter) +\n"
     ]
    },
    {
     "name": "stdout",
     "output_type": "stream",
     "text": [
      "----------n =  16 -----------\n",
      "Mean Squared Error on Test Set: 25.6235588394366\n",
      "Selected_features:  ['tavg', 'wspd', 'sun_hours', 'winter', 'spring_autumn', 'saturday', 'working_day', 'period1', 'period2', 'period3', 'period4', 'period5', 'period6', 'holiday', 'index', 'population']\n",
      "----------n =  17 -----------\n",
      "Mean Squared Error on Test Set: 25.549452437027885\n",
      "Selected_features:  ['tavg', 'wspd', 'sun_hours', 'winter', 'spring_autumn', 'saturday', 'working_day', 'period1', 'period2', 'period3', 'period4', 'period5', 'period6', 'holiday', 'abs_log_ret_weekly', 'index', 'population']\n",
      "----------n =  18 -----------\n",
      "Mean Squared Error on Test Set: 25.549452437027885\n",
      "Selected_features:  ['tavg', 'wspd', 'sun_hours', 'winter', 'spring_autumn', 'saturday', 'working_day', 'period1', 'period2', 'period3', 'period4', 'period5', 'period6', 'holiday', 'abs_log_ret_weekly', 'index', 'population']\n"
     ]
    }
   ],
   "source": [
    "# contuniue with optimal length\n",
    "energydata_fm = energydata_fm[-opt_num_obs:]\n",
    "\n",
    "X = energydata_fm.drop(columns=['energy_consumption'])\n",
    "y = energydata_fm['energy_consumption']\n",
    "\n",
    "X_train, X_test, y_train, y_test = train_test_split(\n",
    "    X, y, test_size=0.05, shuffle=False)\n",
    "\n",
    "# Initialize QuantReg model\n",
    "quantreg_model = sm.QuantReg(y_train, sm.add_constant(X_train))\n",
    "\n",
    "# Fit the initial model\n",
    "quantreg_results = quantreg_model.fit()\n",
    "\n",
    "# Define a function to perform RFE using QuantReg\n",
    "def recursive_feature_elimination(model, X, y, n_features_to_select):\n",
    "    selected_features = list(X.columns)\n",
    "    while len(selected_features) > n_features_to_select:\n",
    "        model = sm.QuantReg(y, sm.add_constant(X[selected_features]))\n",
    "        results = model.fit()\n",
    "        p_values = results.pvalues[1:]\n",
    "        worst_feature = p_values.idxmax()\n",
    "        selected_features.remove(worst_feature)\n",
    "    return selected_features\n",
    "\n",
    "# Set the number of features you want to select\n",
    "n_features_to_select = [1, 2, 3, 5, 6, 7, 8,\n",
    "                        9, 10, 11, 12, 13, 14, \n",
    "                        15, 16, 17, 18]\n",
    "mspes_fs = {}\n",
    "\n",
    "for n in n_features_to_select:\n",
    "    # Perform RFE using QuantReg\n",
    "    selected_features_rfe = recursive_feature_elimination(\n",
    "        quantreg_model, X_train, y_train, n)\n",
    "\n",
    "    # Train the final model using the selected features\n",
    "    final_quantreg_model = sm.QuantReg(\n",
    "        y_train, sm.add_constant(X_train[selected_features_rfe]))\n",
    "    final_quantreg_results = final_quantreg_model.fit()\n",
    "\n",
    "    X_test_temp = X_test[selected_features_rfe]\n",
    "    X_test_temp.insert(loc=0, column='constant', value=1)\n",
    "    # Make predictions on the test set\n",
    "    y_pred = final_quantreg_results.predict(X_test_temp)\n",
    "\n",
    "    # Evaluate the model\n",
    "    mspe = mean_squared_error(y_test, y_pred)\n",
    "    print('----------n = ', n, '-----------')\n",
    "    print(\"Mean Squared Error on Test Set:\", mspe)\n",
    "    print('Selected_features: ', selected_features_rfe)\n",
    "    mspes_fs.update({n: mspe})"
   ]
  },
  {
   "cell_type": "code",
   "execution_count": 26,
   "metadata": {},
   "outputs": [
    {
     "data": {
      "text/plain": [
       "<matplotlib.legend.Legend at 0x296e4f67550>"
      ]
     },
     "execution_count": 26,
     "metadata": {},
     "output_type": "execute_result"
    },
    {
     "data": {
      "image/png": "[encoded data removed]",
      "text/plain": [
       "<Figure size 640x480 with 1 Axes>"
      ]
     },
     "metadata": {},
     "output_type": "display_data"
    }
   ],
   "source": [
    "import matplotlib.pyplot as plt\n",
    "\n",
    "# Extract keys and values from the dictionary\n",
    "n_features = list(mspes_fs.keys())\n",
    "mspe_values = list(mspes_fs.values())\n",
    "\n",
    "# Plot the MSEs\n",
    "plt.plot(n_features, mspe_values, marker='o')\n",
    "plt.title('Recursive Feature Elimination')\n",
    "plt.xlabel('Number of Features')\n",
    "plt.ylabel('Mean Squared Error')\n",
    "plt.axvspan(8, 14, color='lightgrey', alpha=0.5)\n",
    "plt.xticks(range(min(n_features), max(n_features) + 1))\n",
    "\n",
    "# Add a horizontal line for the specific MSE value\n",
    "plt.axhline(y=mspe_ts, color='red', linestyle='--',\n",
    "            label=f'Score QuantReg with Seasonal Dummies ({mspe_ts:.2f})')\n",
    "\n",
    "# Display legend\n",
    "plt.legend()"
   ]
  },
  {
   "cell_type": "code",
   "execution_count": 27,
   "metadata": {},
   "outputs": [],
   "source": [
    "mspe_all.update({'QuantReg based on clustered TS and tavg (n=8)': 18.9607,\n",
    "                 'QuantReg based on clustered TS and tavg, wspd, index and sun_hours (n=12)': 23.0478})"
   ]
  },
  {
   "cell_type": "markdown",
   "metadata": {},
   "source": [
    "Interpretation: \n",
    "* kommt nicht an TS-Modell dran\n",
    "* Für n = 8 wird noch 'tavg' hinzugefügt (außer TS Dummies)\n",
    "* mit n = 14 verringert sich Vorhersageunsicherheit (nahezu eine Linie), hier werden noch 'sun_hours', 'wspd' und 'index' hinzugefügt \n",
    "\n",
    "Fazit:\n",
    "* Versuche, Finales Modell mit TS-Model, ergänzt um die drei Variablen zu generieren\n",
    "* nutze es, falls MSPE am kleinsten \n"
   ]
  },
  {
   "cell_type": "markdown",
   "metadata": {},
   "source": [
    "Try to merge both data since features are not enough"
   ]
  },
  {
   "cell_type": "code",
   "execution_count": 28,
   "metadata": {},
   "outputs": [
    {
     "name": "stdout",
     "output_type": "stream",
     "text": [
      "did you update weather and index?\n"
     ]
    },
    {
     "data": {
      "text/plain": [
       "{'QuantReg based on time series': 14.73056340597483,\n",
       " 'QuantReg based on clustered TS and tavg (n=8)': 18.9607,\n",
       " 'QuantReg based on clustered TS and tavg, wspd, index and sun_hours (n=12)': 23.0478,\n",
       " 'QuantReg based time series and all features': 17.1046}"
      ]
     },
     "execution_count": 28,
     "metadata": {},
     "output_type": "execute_result"
    }
   ],
   "source": [
    "energydata_advanced = extract_all_features.get_energy_and_features(\n",
    "    quantReg_advanced=True)[-15123:]\n",
    "X = energydata_advanced.drop(columns=['energy_consumption'])\n",
    "y = energydata_advanced['energy_consumption']\n",
    "\n",
    "# no shuffle --> time series\n",
    "X_train, X_test, y_train, y_test = train_test_split(\n",
    "    X, y, test_size=0.05, shuffle=False)\n",
    "\n",
    "# add constants\n",
    "X_train = sm.add_constant(X_train)\n",
    "X_test.insert(loc=0, column='constant', value=1)\n",
    "\n",
    "# Initialize QuantReg model\n",
    "quantreg_model = sm.QuantReg(y_train, X_train)\n",
    "\n",
    "# Fit the initial model\n",
    "quantreg_results = quantreg_model.fit()\n",
    "\n",
    "# predict\n",
    "y_pred = quantreg_results.predict(X_test)\n",
    "\n",
    "mspe_ts = mean_squared_error(y_test, y_pred)\n",
    "\n",
    "mspe_all.update({'QuantReg based time series and all features': 17.1046})"
   ]
  },
  {
   "cell_type": "code",
   "execution_count": 14,
   "metadata": {},
   "outputs": [
    {
     "name": "stdout",
     "output_type": "stream",
     "text": [
      "did you update weather?\n"
     ]
    },
    {
     "data": {
      "text/plain": [
       "12.157213161038179"
      ]
     },
     "execution_count": 14,
     "metadata": {},
     "output_type": "execute_result"
    }
   ],
   "source": [
    "energydata_final = extract_all_features.get_energy_and_features(\n",
    "    quantReg_final=True)[-15123:]\n",
    "X = energydata_final.drop(columns=['energy_consumption'])\n",
    "y = energydata_final['energy_consumption']\n",
    "\n",
    "# no shuffle --> time series\n",
    "X_train, X_test, y_train, y_test = train_test_split(\n",
    "    X, y, test_size=0.05, shuffle=False)\n",
    "\n",
    "# add constants\n",
    "X_train = sm.add_constant(X_train)\n",
    "X_test.insert(loc=0, column='constant', value=1)\n",
    "\n",
    "# Initialize QuantReg model\n",
    "quantreg_model = sm.QuantReg(y_train, X_train)\n",
    "\n",
    "# Fit the initial model\n",
    "quantreg_results = quantreg_model.fit()\n",
    "\n",
    "# predict\n",
    "y_pred = quantreg_results.predict(X_test)\n",
    "\n",
    "mspe_ts = mean_squared_error(y_test, y_pred)\n",
    "mspe_ts\n",
    "\n",
    "#mspe_all.update({'QuantReg based time series and tavg': 12.1411})"
   ]
  },
  {
   "cell_type": "markdown",
   "metadata": {},
   "source": [
    "Kleinster MSPE! \n",
    "--> Nur sun_hours weil kein zusätzliches rauschen und hohe Korrelation zu tavg\n",
    "--> Index erhöht MSPE, deshalb raus \n",
    "\n",
    "{'QuantReg based on time series': 14.73056340597483,\n",
    " 'QuantReg based on clustered TS and tavg (n=8)': 18.9607,\n",
    " 'QuantReg based on clustered TS and tavg, wspd, index and sun_hours (n=12)': 23.0478,\n",
    " 'QuantReg based time series and all features': 17.1046,\n",
    " 'QuantReg based time series and tavg': 12.1572}"
   ]
  },
  {
   "cell_type": "code",
   "execution_count": 21,
   "metadata": {},
   "outputs": [
    {
     "name": "stdout",
     "output_type": "stream",
     "text": [
      "1 day, 8:22:04.991211\n",
      "<class 'datetime.timedelta'>\n"
     ]
    },
    {
     "data": {
      "text/plain": [
       "8.367777777777778"
      ]
     },
     "execution_count": 21,
     "metadata": {},
     "output_type": "execute_result"
    }
   ],
   "source": [
    "import ephem\n",
    "def calculate_sun_hours(date):\n",
    "    observer = ephem.Observer()\n",
    "    observer.lat = str(50.1109)\n",
    "    observer.lon = str(8.6821)\n",
    "    observer.date = date\n",
    "\n",
    "    sunrise = observer.previous_rising(ephem.Sun()).datetime()\n",
    "    sunset = observer.next_setting(ephem.Sun()).datetime()\n",
    "\n",
    "    print(sunset-sunrise)\n",
    "    print(type(sunset-sunrise))\n",
    "\n",
    "    # Calculate the duration between sunrise and sunset\n",
    "    sun_hours = (sunset - sunrise).seconds/(60*60)\n",
    "\n",
    "    return sun_hours\n",
    "\n",
    "\n",
    "calculate_sun_hours('2024-01-10')"
   ]
  }
 ],
 "metadata": {
  "kernelspec": {
   "display_name": "base",
   "language": "python",
   "name": "python3"
  },
  "language_info": {
   "codemirror_mode": {
    "name": "ipython",
    "version": 3
   },
   "file_extension": ".py",
   "mimetype": "text/x-python",
   "name": "python",
   "nbconvert_exporter": "python",
   "pygments_lexer": "ipython3",
   "version": "3.11.5"
  }
 },
 "nbformat": 4,
 "nbformat_minor": 2
}
