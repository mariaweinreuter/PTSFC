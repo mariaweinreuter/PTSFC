{
 "cells": [
  {
   "cell_type": "code",
   "execution_count": 16,
   "metadata": {},
   "outputs": [],
   "source": [
    "import pandas as pd\n",
    "import numpy as np\n",
    "\n",
    "import statsmodels.api as sm\n",
    "from sklearn.preprocessing import PolynomialFeatures\n",
    "from scipy.stats import norm\n",
    "\n",
    "from energy_consumption.help_functions import get_energy_data, dummy_mapping, handle_outstanding_dp, get_forecast_timestamps, create_submission_frame"
   ]
  },
  {
   "cell_type": "code",
   "execution_count": 2,
   "metadata": {},
   "outputs": [
    {
     "name": "stderr",
     "output_type": "stream",
     "text": [
      "100%|██████████| 102/102 [01:36<00:00,  1.05it/s]\n"
     ]
    }
   ],
   "source": [
    "energydata = get_energy_data.get_data()\n"
   ]
  },
  {
   "cell_type": "code",
   "execution_count": 3,
   "metadata": {},
   "outputs": [],
   "source": [
    "# get dummies\n",
    "energydata = dummy_mapping.get_mappings(energydata)\n",
    "\n",
    "# quantile regression data\n",
    "y_ec = energydata['energy_consumption']    \n",
    "X_ec = energydata.drop(\n",
    "    columns=['energy_consumption'])\n",
    "X_ec = sm.add_constant(X_ec, has_constant=\"add\")\n",
    "\n",
    "# include interaction terms\n",
    "poly_input = PolynomialFeatures(interaction_only=True, include_bias=False)    \n",
    "X_interaction = poly_input.fit_transform(X_ec)"
   ]
  },
  {
   "cell_type": "markdown",
   "metadata": {},
   "source": [
    "Lasso regression to see which interaction terms to include"
   ]
  },
  {
   "cell_type": "code",
   "execution_count": 7,
   "metadata": {},
   "outputs": [
    {
     "name": "stdout",
     "output_type": "stream",
     "text": [
      "Lasso best alpha: 0.001\n",
      "Ridge best alpha: 1\n"
     ]
    }
   ],
   "source": [
    "from sklearn.metrics import mean_squared_error, r2_score\n",
    "from sklearn.linear_model import Lasso, Ridge\n",
    "from sklearn.model_selection import GridSearchCV\n",
    "from sklearn.model_selection import train_test_split\n",
    "\n",
    "# Split the data into training and testing sets\n",
    "X_train, X_test, y_train, y_test = train_test_split(\n",
    "    X_interaction, y_ec, test_size=0.2, random_state=42)\n",
    "\n",
    "# Lasso Regression\n",
    "lasso = Lasso()\n",
    "parameters = {'alpha': [0.001, 0.01, 0.1, 1, 10, 100]}\n",
    "lasso_cv = GridSearchCV(\n",
    "    lasso, parameters, scoring='neg_mean_squared_error', cv=5)\n",
    "lasso_cv.fit(X_train, y_train)\n",
    "\n",
    "# Ridge Regression\n",
    "ridge = Ridge()\n",
    "parameters = {'alpha': [0.001, 0.01, 0.1, 1, 10, 100]}\n",
    "ridge_cv = GridSearchCV(\n",
    "    ridge, parameters, scoring='neg_mean_squared_error', cv=5)\n",
    "ridge_cv.fit(X_train, y_train)\n",
    "\n",
    "print(\"Lasso best alpha:\", lasso_cv.best_params_['alpha'])\n",
    "print(\"Ridge best alpha:\", ridge_cv.best_params_['alpha'])"
   ]
  },
  {
   "cell_type": "code",
   "execution_count": 10,
   "metadata": {},
   "outputs": [
    {
     "name": "stdout",
     "output_type": "stream",
     "text": [
      "Ridge MSE: 40.25381462393384\n",
      "Lasso MSE: 40.256890471954584\n",
      "Ridge R-squared: 0.5509094963411375\n",
      "Lasso R-squared: 0.5508751807327978\n"
     ]
    }
   ],
   "source": [
    "# best alpha = 0.001\n",
    "# Train the final Ridge model\n",
    "final_ridge_model = Ridge(alpha=1)\n",
    "final_ridge_model.fit(X_train, y_train)\n",
    "final_lasso_model = Lasso(alpha=0.001)\n",
    "final_lasso_model.fit(X_train, y_train)\n",
    "\n",
    "ridge_predictions = final_ridge_model.predict(X_test)\n",
    "lasso_predictions = final_lasso_model.predict(X_test)\n",
    "\n",
    "print(\"Ridge MSE:\", mean_squared_error(y_test, ridge_predictions))\n",
    "print(\"Lasso MSE:\", mean_squared_error(y_test, lasso_predictions))\n",
    "\n",
    "print(\"Ridge R-squared:\", r2_score(y_test, ridge_predictions))\n",
    "print(\"Lasso R-squared:\", r2_score(y_test, lasso_predictions))"
   ]
  },
  {
   "cell_type": "markdown",
   "metadata": {},
   "source": [
    "Both perform well --> Use Lasso since its more \"State-of-the-art\""
   ]
  },
  {
   "cell_type": "code",
   "execution_count": 15,
   "metadata": {},
   "outputs": [
    {
     "data": {
      "text/plain": [
       "array([41.79213777, 54.38432277, 65.26871332, ..., 50.72383265,\n",
       "       57.64757856, 52.66868956])"
      ]
     },
     "execution_count": 15,
     "metadata": {},
     "output_type": "execute_result"
    }
   ],
   "source": [
    "lasso_predictions"
   ]
  },
  {
   "cell_type": "code",
   "execution_count": 11,
   "metadata": {},
   "outputs": [
    {
     "data": {
      "text/plain": [
       "array([ 0.        ,  6.94399521,  3.14395605,  1.41762974,  0.        ,\n",
       "        8.01187088,  1.18842084, -6.39048859,  5.53509663,  0.36281287,\n",
       "        2.92382257,  9.94147023, -5.38539594,  1.61784196,  1.17902223,\n",
       "        0.78093919,  0.        ,  2.29415089,  2.34844043, -0.        ,\n",
       "        2.44837177,  0.63161457,  2.41456359,  1.33889014, -0.37297866,\n",
       "        0.        ,  0.        ,  0.        , -0.        , -0.        ,\n",
       "       -0.27363192,  1.14785783,  0.12797521,  0.72275381, -0.12787228,\n",
       "       -6.85469507,  0.        ,  0.        , -0.65090629,  0.46318139,\n",
       "       -0.01805078, -0.65240003,  0.46659967,  0.35895686, -0.3022292 ,\n",
       "       -3.91474295,  0.        ,  0.34400786,  0.53240499, -0.41679695,\n",
       "        1.06468686,  0.64254106,  1.40080312,  0.92696576, -0.        ,\n",
       "        0.        ,  0.        ,  0.        ,  0.        ,  0.        ,\n",
       "        0.        ,  0.        ,  0.        ,  0.        ,  0.        ,\n",
       "        0.        ,  0.        ,  0.        ,  0.        , -3.78371019,\n",
       "        0.        ,  0.        ,  0.        ,  0.        ,  0.        ,\n",
       "        0.03000857,  0.        ,  0.        ,  0.        ,  0.        ,\n",
       "        2.85168174,  0.        ,  0.        ,  0.        , -2.80721293,\n",
       "        0.        ,  0.        , -0.27527465,  0.        , -3.15172702,\n",
       "       -3.72888136])"
      ]
     },
     "execution_count": 11,
     "metadata": {},
     "output_type": "execute_result"
    }
   ],
   "source": [
    "coefficient_summary = { \n",
    "    final_lasso_model.coef_"
   ]
  },
  {
   "cell_type": "code",
   "execution_count": 6,
   "metadata": {},
   "outputs": [
    {
     "ename": "AttributeError",
     "evalue": "'Lasso' object has no attribute 'summary'",
     "output_type": "error",
     "traceback": [
      "\u001b[1;31m---------------------------------------------------------------------------\u001b[0m",
      "\u001b[1;31mAttributeError\u001b[0m                            Traceback (most recent call last)",
      "\u001b[1;32mc:\\Users\\Maria\\Documents\\Studium\\Pyhton Projekte\\PTSFC\\energy_consumption\\models\\forecasts_interaction.ipynb Cell 6\u001b[0m line \u001b[0;36m1\n\u001b[1;32m----> <a href='vscode-notebook-cell:/c%3A/Users/Maria/Documents/Studium/Pyhton%20Projekte/PTSFC/energy_consumption/models/forecasts_interaction.ipynb#X10sZmlsZQ%3D%3D?line=0'>1</a>\u001b[0m final_lasso_model\u001b[39m.\u001b[39msummary()\n",
      "\u001b[1;31mAttributeError\u001b[0m: 'Lasso' object has no attribute 'summary'"
     ]
    }
   ],
   "source": [
    "final_lasso_model.summary()"
   ]
  },
  {
   "cell_type": "code",
   "execution_count": null,
   "metadata": {},
   "outputs": [],
   "source": [
    "indexes = [47, 51, 55, 71, 75, 79]\n",
    "# create dataframe to store forecast quantiles\n",
    "energyforecast = get_forecast_timestamps.forecast_timestamps(\n",
    "    energydata.index[-1])\n",
    "energyforecast = dummy_mapping.get_mappings(energyforecast)\n",
    "X_fc = sm.add_constant(energyforecast, has_constant='add')\n",
    "\n",
    "poly_forecast = PolynomialFeatures(\n",
    "    interaction_only=True, include_bias=False)\n",
    "X_fc_interaction = poly_forecast.fit_transform(X_fc)\n",
    "\n",
    "# model\n",
    "quantiles = [0.025, 0.25, 0.5, 0.75, 0.975]\n",
    "model_qr = sm.QuantReg(y_ec, X_interaction)\n",
    "\n",
    "for q in quantiles:\n",
    "    model_temp = model_qr.fit(q=q)\n",
    "    forecast_temp = model_temp.predict(X_fc_interaction)\n",
    "    energyforecast[f'forecast{q}'] = forecast_temp\n",
    "\n",
    "selected_forecasts = energyforecast.loc[energyforecast.index[indexes],\n",
    "                                        'forecast0.025':'forecast0.975']\n",
    "selected_forecasts_frame = create_submission_frame.get_frame(\n",
    "    selected_forecasts)\n",
    "selected_forecasts\n",
    "model_qr.fit(q=0.025).summary()"
   ]
  }
 ],
 "metadata": {
  "kernelspec": {
   "display_name": "base",
   "language": "python",
   "name": "python3"
  },
  "language_info": {
   "codemirror_mode": {
    "name": "ipython",
    "version": 3
   },
   "file_extension": ".py",
   "mimetype": "text/x-python",
   "name": "python",
   "nbconvert_exporter": "python",
   "pygments_lexer": "ipython3",
   "version": "3.11.5"
  }
 },
 "nbformat": 4,
 "nbformat_minor": 2
}
