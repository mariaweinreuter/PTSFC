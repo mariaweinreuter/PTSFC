{
 "cells": [
  {
   "cell_type": "code",
   "execution_count": 1,
   "metadata": {},
   "outputs": [],
   "source": [
    "import pandas as pd\n",
    "import numpy as np\n",
    "import matplotlib.pyplot as plt\n",
    "from statsmodels.tsa.statespace.sarimax import SARIMAX\n",
    "from statsmodels.tsa.stattools import adfuller\n",
    "from pmdarima import auto_arima"
   ]
  },
  {
   "cell_type": "code",
   "execution_count": 4,
   "metadata": {},
   "outputs": [],
   "source": [
    "energydata = pd.read_csv(\n",
    "    'c:\\\\Users\\\\Maria\\\\Documents\\\\Studium\\\\Pyhton Projekte\\\\PTSFC\\\\energy_consumption\\\\historical_data.csv')\n",
    "energydata['date_time'] = pd.to_datetime(\n",
    "    energydata['date_time'], format='%Y-%m-%d %H:%M:%S')\n",
    "energydata = energydata.set_index(\"date_time\")"
   ]
  },
  {
   "cell_type": "code",
   "execution_count": 5,
   "metadata": {},
   "outputs": [
    {
     "name": "stdout",
     "output_type": "stream",
     "text": [
      "ADF Statistic: -19.611034768904275\n",
      "p-value: 0.0\n",
      "Critical Values: {'1%': -3.430458127935979, '5%': -2.86158779050955, '10%': -2.566795437275878}\n"
     ]
    }
   ],
   "source": [
    "# Check for stationarity using Augmented Dickey-Fuller test\n",
    "def test_stationarity(timeseries):\n",
    "    result = adfuller(timeseries, autolag='AIC')\n",
    "    print('ADF Statistic:', result[0])\n",
    "    print('p-value:', result[1])\n",
    "    print('Critical Values:', result[4])\n",
    "\n",
    "test_stationarity(energydata)"
   ]
  },
  {
   "cell_type": "code",
   "execution_count": 6,
   "metadata": {},
   "outputs": [
    {
     "name": "stdout",
     "output_type": "stream",
     "text": [
      "Performing stepwise search to minimize aic\n"
     ]
    },
    {
     "ename": "MemoryError",
     "evalue": "Unable to allocate 362. MiB for an array with shape (28, 28, 60541) and data type float64",
     "output_type": "error",
     "traceback": [
      "\u001b[1;31m---------------------------------------------------------------------------\u001b[0m",
      "\u001b[1;31mMemoryError\u001b[0m                               Traceback (most recent call last)",
      "File \u001b[1;32mstatsmodels\\tsa\\statespace\\_kalman_smoother.pyx:1000\u001b[0m, in \u001b[0;36mstatsmodels.tsa.statespace._kalman_smoother.dKalmanSmoother.allocate_arrays\u001b[1;34m()\u001b[0m\n",
      "\u001b[1;31mMemoryError\u001b[0m: Unable to allocate 362. MiB for an array with shape (28, 28, 60541) and data type float64"
     ]
    },
    {
     "name": "stderr",
     "output_type": "stream",
     "text": [
      "Exception ignored in: 'statsmodels.tsa.statespace._kalman_smoother.dKalmanSmoother.reset_filter_method'\n",
      "Traceback (most recent call last):\n",
      "  File \"statsmodels\\tsa\\statespace\\_kalman_smoother.pyx\", line 1000, in statsmodels.tsa.statespace._kalman_smoother.dKalmanSmoother.allocate_arrays\n",
      "numpy.core._exceptions._ArrayMemoryError: Unable to allocate 362. MiB for an array with shape (28, 28, 60541) and data type float64\n"
     ]
    },
    {
     "ename": "AttributeError",
     "evalue": "Memoryview is not initialized",
     "output_type": "error",
     "traceback": [
      "\u001b[1;31m---------------------------------------------------------------------------\u001b[0m",
      "\u001b[1;31mAttributeError\u001b[0m                            Traceback (most recent call last)",
      "\u001b[1;32mc:\\Users\\Maria\\Documents\\Studium\\Pyhton Projekte\\PTSFC\\energy_consumption\\models\\time_series_models\\Auto_ARIMA.ipynb Cell 4\u001b[0m line \u001b[0;36m2\n\u001b[0;32m      <a href='vscode-notebook-cell:/c%3A/Users/Maria/Documents/Studium/Pyhton%20Projekte/PTSFC/energy_consumption/models/time_series_models/Auto_ARIMA.ipynb#W2sZmlsZQ%3D%3D?line=0'>1</a>\u001b[0m \u001b[39m# Find the best ARIMA model using auto_arima\u001b[39;00m\n\u001b[1;32m----> <a href='vscode-notebook-cell:/c%3A/Users/Maria/Documents/Studium/Pyhton%20Projekte/PTSFC/energy_consumption/models/time_series_models/Auto_ARIMA.ipynb#W2sZmlsZQ%3D%3D?line=1'>2</a>\u001b[0m stepwise_fit \u001b[39m=\u001b[39m auto_arima(energydata, seasonal\u001b[39m=\u001b[39m\u001b[39mTrue\u001b[39;00m, m\u001b[39m=\u001b[39m\u001b[39m24\u001b[39m, trace\u001b[39m=\u001b[39m\u001b[39mTrue\u001b[39;00m)\n\u001b[0;32m      <a href='vscode-notebook-cell:/c%3A/Users/Maria/Documents/Studium/Pyhton%20Projekte/PTSFC/energy_consumption/models/time_series_models/Auto_ARIMA.ipynb#W2sZmlsZQ%3D%3D?line=3'>4</a>\u001b[0m \u001b[39m# Get the best model's order\u001b[39;00m\n\u001b[0;32m      <a href='vscode-notebook-cell:/c%3A/Users/Maria/Documents/Studium/Pyhton%20Projekte/PTSFC/energy_consumption/models/time_series_models/Auto_ARIMA.ipynb#W2sZmlsZQ%3D%3D?line=4'>5</a>\u001b[0m best_order \u001b[39m=\u001b[39m stepwise_fit\u001b[39m.\u001b[39mget_params()[\u001b[39m'\u001b[39m\u001b[39morder\u001b[39m\u001b[39m'\u001b[39m]\n",
      "File \u001b[1;32mc:\\Users\\Maria\\Documents\\Setups\\Lib\\site-packages\\pmdarima\\arima\\auto.py:701\u001b[0m, in \u001b[0;36mauto_arima\u001b[1;34m(y, X, start_p, d, start_q, max_p, max_d, max_q, start_P, D, start_Q, max_P, max_D, max_Q, max_order, m, seasonal, stationary, information_criterion, alpha, test, seasonal_test, stepwise, n_jobs, start_params, trend, method, maxiter, offset_test_args, seasonal_test_args, suppress_warnings, error_action, trace, random, random_state, n_fits, return_valid_fits, out_of_sample_size, scoring, scoring_args, with_intercept, sarimax_kwargs, **fit_args)\u001b[0m\n\u001b[0;32m    669\u001b[0m     \u001b[39m# init the stepwise model wrapper\u001b[39;00m\n\u001b[0;32m    670\u001b[0m     search \u001b[39m=\u001b[39m solvers\u001b[39m.\u001b[39m_StepwiseFitWrapper(\n\u001b[0;32m    671\u001b[0m         y,\n\u001b[0;32m    672\u001b[0m         X\u001b[39m=\u001b[39mX,\n\u001b[1;32m   (...)\u001b[0m\n\u001b[0;32m    698\u001b[0m         \u001b[39m*\u001b[39m\u001b[39m*\u001b[39msarimax_kwargs,\n\u001b[0;32m    699\u001b[0m     )\n\u001b[1;32m--> 701\u001b[0m sorted_res \u001b[39m=\u001b[39m search\u001b[39m.\u001b[39msolve()\n\u001b[0;32m    702\u001b[0m \u001b[39mreturn\u001b[39;00m _return_wrapper(sorted_res, return_valid_fits, start, trace)\n",
      "File \u001b[1;32mc:\\Users\\Maria\\Documents\\Setups\\Lib\\site-packages\\pmdarima\\arima\\_auto_solvers.py:288\u001b[0m, in \u001b[0;36m_StepwiseFitWrapper.solve\u001b[1;34m(self)\u001b[0m\n\u001b[0;32m    284\u001b[0m     \u001b[39mprint\u001b[39m(\u001b[39m\"\u001b[39m\u001b[39mPerforming stepwise search to minimize \u001b[39m\u001b[39m%s\u001b[39;00m\u001b[39m\"\u001b[39m\n\u001b[0;32m    285\u001b[0m           \u001b[39m%\u001b[39m \u001b[39mself\u001b[39m\u001b[39m.\u001b[39minformation_criterion)\n\u001b[0;32m    287\u001b[0m \u001b[39m# fit a baseline p, d, q model\u001b[39;00m\n\u001b[1;32m--> 288\u001b[0m \u001b[39mself\u001b[39m\u001b[39m.\u001b[39m_do_fit((p, d, q), (P, D, Q, m))\n\u001b[0;32m    290\u001b[0m \u001b[39m# null model with possible constant\u001b[39;00m\n\u001b[0;32m    291\u001b[0m \u001b[39mif\u001b[39;00m \u001b[39mself\u001b[39m\u001b[39m.\u001b[39m_do_fit((\u001b[39m0\u001b[39m, d, \u001b[39m0\u001b[39m), (\u001b[39m0\u001b[39m, D, \u001b[39m0\u001b[39m, m)):\n",
      "File \u001b[1;32mc:\\Users\\Maria\\Documents\\Setups\\Lib\\site-packages\\pmdarima\\arima\\_auto_solvers.py:235\u001b[0m, in \u001b[0;36m_StepwiseFitWrapper._do_fit\u001b[1;34m(self, order, seasonal_order, constant)\u001b[0m\n\u001b[0;32m    230\u001b[0m \u001b[39mif\u001b[39;00m (order, seasonal_order, constant) \u001b[39mnot\u001b[39;00m \u001b[39min\u001b[39;00m \u001b[39mself\u001b[39m\u001b[39m.\u001b[39mresults_dict:\n\u001b[0;32m    231\u001b[0m \n\u001b[0;32m    232\u001b[0m     \u001b[39m# increment the number of fits\u001b[39;00m\n\u001b[0;32m    233\u001b[0m     \u001b[39mself\u001b[39m\u001b[39m.\u001b[39mk \u001b[39m+\u001b[39m\u001b[39m=\u001b[39m \u001b[39m1\u001b[39m\n\u001b[1;32m--> 235\u001b[0m     fit, fit_time, new_ic \u001b[39m=\u001b[39m \u001b[39mself\u001b[39m\u001b[39m.\u001b[39m_fit_arima(\n\u001b[0;32m    236\u001b[0m         order\u001b[39m=\u001b[39morder,\n\u001b[0;32m    237\u001b[0m         seasonal_order\u001b[39m=\u001b[39mseasonal_order,\n\u001b[0;32m    238\u001b[0m         with_intercept\u001b[39m=\u001b[39mconstant)\n\u001b[0;32m    240\u001b[0m     \u001b[39m# use the orders as a key to be hashed for\u001b[39;00m\n\u001b[0;32m    241\u001b[0m     \u001b[39m# the dictionary (pointing to fit)\u001b[39;00m\n\u001b[0;32m    242\u001b[0m     \u001b[39mself\u001b[39m\u001b[39m.\u001b[39mresults_dict[(order, seasonal_order, constant)] \u001b[39m=\u001b[39m fit\n",
      "File \u001b[1;32mc:\\Users\\Maria\\Documents\\Setups\\Lib\\site-packages\\pmdarima\\arima\\_auto_solvers.py:508\u001b[0m, in \u001b[0;36m_fit_candidate_model\u001b[1;34m(y, X, order, seasonal_order, start_params, trend, method, maxiter, fit_params, suppress_warnings, trace, error_action, out_of_sample_size, scoring, scoring_args, with_intercept, information_criterion, **kwargs)\u001b[0m\n\u001b[0;32m    500\u001b[0m fit \u001b[39m=\u001b[39m ARIMA(order\u001b[39m=\u001b[39morder, seasonal_order\u001b[39m=\u001b[39mseasonal_order,\n\u001b[0;32m    501\u001b[0m             start_params\u001b[39m=\u001b[39mstart_params, trend\u001b[39m=\u001b[39mtrend, method\u001b[39m=\u001b[39mmethod,\n\u001b[0;32m    502\u001b[0m             maxiter\u001b[39m=\u001b[39mmaxiter, suppress_warnings\u001b[39m=\u001b[39msuppress_warnings,\n\u001b[0;32m    503\u001b[0m             out_of_sample_size\u001b[39m=\u001b[39mout_of_sample_size, scoring\u001b[39m=\u001b[39mscoring,\n\u001b[0;32m    504\u001b[0m             scoring_args\u001b[39m=\u001b[39mscoring_args,\n\u001b[0;32m    505\u001b[0m             with_intercept\u001b[39m=\u001b[39mwith_intercept, \u001b[39m*\u001b[39m\u001b[39m*\u001b[39mkwargs)\n\u001b[0;32m    507\u001b[0m \u001b[39mtry\u001b[39;00m:\n\u001b[1;32m--> 508\u001b[0m     fit\u001b[39m.\u001b[39mfit(y, X\u001b[39m=\u001b[39mX, \u001b[39m*\u001b[39m\u001b[39m*\u001b[39mfit_params)\n\u001b[0;32m    510\u001b[0m \u001b[39m# for non-stationarity errors or singular matrices, return None\u001b[39;00m\n\u001b[0;32m    511\u001b[0m \u001b[39mexcept\u001b[39;00m (LinAlgError, \u001b[39mValueError\u001b[39;00m) \u001b[39mas\u001b[39;00m v:\n",
      "File \u001b[1;32mc:\\Users\\Maria\\Documents\\Setups\\Lib\\site-packages\\pmdarima\\arima\\arima.py:603\u001b[0m, in \u001b[0;36mARIMA.fit\u001b[1;34m(self, y, X, **fit_args)\u001b[0m\n\u001b[0;32m    600\u001b[0m         X \u001b[39m=\u001b[39m safe_indexing(X, \u001b[39mslice\u001b[39m(\u001b[39m0\u001b[39m, n_exog \u001b[39m-\u001b[39m cv))\n\u001b[0;32m    602\u001b[0m \u001b[39m# Internal call\u001b[39;00m\n\u001b[1;32m--> 603\u001b[0m \u001b[39mself\u001b[39m\u001b[39m.\u001b[39m_fit(y, X, \u001b[39m*\u001b[39m\u001b[39m*\u001b[39mfit_args)\n\u001b[0;32m    605\u001b[0m \u001b[39m# now make a forecast if we're validating to compute the\u001b[39;00m\n\u001b[0;32m    606\u001b[0m \u001b[39m# out-of-sample score\u001b[39;00m\n\u001b[0;32m    607\u001b[0m \u001b[39mif\u001b[39;00m cv_samples \u001b[39mis\u001b[39;00m \u001b[39mnot\u001b[39;00m \u001b[39mNone\u001b[39;00m:\n\u001b[0;32m    608\u001b[0m     \u001b[39m# get the predictions (use self.predict, which calls forecast\u001b[39;00m\n\u001b[0;32m    609\u001b[0m     \u001b[39m# from statsmodels internally)\u001b[39;00m\n",
      "File \u001b[1;32mc:\\Users\\Maria\\Documents\\Setups\\Lib\\site-packages\\pmdarima\\arima\\arima.py:524\u001b[0m, in \u001b[0;36mARIMA._fit\u001b[1;34m(self, y, X, **fit_args)\u001b[0m\n\u001b[0;32m    522\u001b[0m     \u001b[39mwith\u001b[39;00m warnings\u001b[39m.\u001b[39mcatch_warnings(record\u001b[39m=\u001b[39m\u001b[39mFalse\u001b[39;00m):\n\u001b[0;32m    523\u001b[0m         warnings\u001b[39m.\u001b[39msimplefilter(\u001b[39m'\u001b[39m\u001b[39mignore\u001b[39m\u001b[39m'\u001b[39m)\n\u001b[1;32m--> 524\u001b[0m         fit, \u001b[39mself\u001b[39m\u001b[39m.\u001b[39marima_res_ \u001b[39m=\u001b[39m _fit_wrapper()\n\u001b[0;32m    525\u001b[0m \u001b[39melse\u001b[39;00m:\n\u001b[0;32m    526\u001b[0m     fit, \u001b[39mself\u001b[39m\u001b[39m.\u001b[39marima_res_ \u001b[39m=\u001b[39m _fit_wrapper()\n",
      "File \u001b[1;32mc:\\Users\\Maria\\Documents\\Setups\\Lib\\site-packages\\pmdarima\\arima\\arima.py:510\u001b[0m, in \u001b[0;36mARIMA._fit.<locals>._fit_wrapper\u001b[1;34m()\u001b[0m\n\u001b[0;32m    507\u001b[0m _maxiter \u001b[39m=\u001b[39m fit_args\u001b[39m.\u001b[39mpop(\u001b[39m\"\u001b[39m\u001b[39mmaxiter\u001b[39m\u001b[39m\"\u001b[39m, _maxiter)\n\u001b[0;32m    509\u001b[0m disp \u001b[39m=\u001b[39m fit_args\u001b[39m.\u001b[39mpop(\u001b[39m\"\u001b[39m\u001b[39mdisp\u001b[39m\u001b[39m\"\u001b[39m, \u001b[39m0\u001b[39m)\n\u001b[1;32m--> 510\u001b[0m fitted \u001b[39m=\u001b[39m arima\u001b[39m.\u001b[39mfit(\n\u001b[0;32m    511\u001b[0m     start_params\u001b[39m=\u001b[39mstart_params,\n\u001b[0;32m    512\u001b[0m     method\u001b[39m=\u001b[39mmethod,\n\u001b[0;32m    513\u001b[0m     maxiter\u001b[39m=\u001b[39m_maxiter,\n\u001b[0;32m    514\u001b[0m     disp\u001b[39m=\u001b[39mdisp,\n\u001b[0;32m    515\u001b[0m     \u001b[39m*\u001b[39m\u001b[39m*\u001b[39mfit_args,\n\u001b[0;32m    516\u001b[0m )\n\u001b[0;32m    518\u001b[0m \u001b[39mreturn\u001b[39;00m arima, fitted\n",
      "File \u001b[1;32mc:\\Users\\Maria\\Documents\\Setups\\Lib\\site-packages\\statsmodels\\tsa\\statespace\\mlemodel.py:728\u001b[0m, in \u001b[0;36mMLEModel.fit\u001b[1;34m(self, start_params, transformed, includes_fixed, cov_type, cov_kwds, method, maxiter, full_output, disp, callback, return_params, optim_score, optim_complex_step, optim_hessian, flags, low_memory, **kwargs)\u001b[0m\n\u001b[0;32m    726\u001b[0m \u001b[39melse\u001b[39;00m:\n\u001b[0;32m    727\u001b[0m     func \u001b[39m=\u001b[39m \u001b[39mself\u001b[39m\u001b[39m.\u001b[39msmooth\n\u001b[1;32m--> 728\u001b[0m res \u001b[39m=\u001b[39m func(mlefit\u001b[39m.\u001b[39mparams, transformed\u001b[39m=\u001b[39m\u001b[39mFalse\u001b[39;00m, includes_fixed\u001b[39m=\u001b[39m\u001b[39mFalse\u001b[39;00m,\n\u001b[0;32m    729\u001b[0m            cov_type\u001b[39m=\u001b[39mcov_type, cov_kwds\u001b[39m=\u001b[39mcov_kwds)\n\u001b[0;32m    731\u001b[0m res\u001b[39m.\u001b[39mmlefit \u001b[39m=\u001b[39m mlefit\n\u001b[0;32m    732\u001b[0m res\u001b[39m.\u001b[39mmle_retvals \u001b[39m=\u001b[39m mlefit\u001b[39m.\u001b[39mmle_retvals\n",
      "File \u001b[1;32mc:\\Users\\Maria\\Documents\\Setups\\Lib\\site-packages\\statsmodels\\tsa\\statespace\\mlemodel.py:886\u001b[0m, in \u001b[0;36mMLEModel.smooth\u001b[1;34m(self, params, transformed, includes_fixed, complex_step, cov_type, cov_kwds, return_ssm, results_class, results_wrapper_class, **kwargs)\u001b[0m\n\u001b[0;32m    883\u001b[0m     kwargs[\u001b[39m'\u001b[39m\u001b[39minversion_method\u001b[39m\u001b[39m'\u001b[39m] \u001b[39m=\u001b[39m INVERT_UNIVARIATE \u001b[39m|\u001b[39m SOLVE_LU\n\u001b[0;32m    885\u001b[0m \u001b[39m# Get the state space output\u001b[39;00m\n\u001b[1;32m--> 886\u001b[0m result \u001b[39m=\u001b[39m \u001b[39mself\u001b[39m\u001b[39m.\u001b[39mssm\u001b[39m.\u001b[39msmooth(complex_step\u001b[39m=\u001b[39mcomplex_step, \u001b[39m*\u001b[39m\u001b[39m*\u001b[39mkwargs)\n\u001b[0;32m    888\u001b[0m \u001b[39m# Wrap in a results object\u001b[39;00m\n\u001b[0;32m    889\u001b[0m \u001b[39mreturn\u001b[39;00m \u001b[39mself\u001b[39m\u001b[39m.\u001b[39m_wrap_results(params, result, return_ssm, cov_type,\n\u001b[0;32m    890\u001b[0m                           cov_kwds, results_class,\n\u001b[0;32m    891\u001b[0m                           results_wrapper_class)\n",
      "File \u001b[1;32mc:\\Users\\Maria\\Documents\\Setups\\Lib\\site-packages\\statsmodels\\tsa\\statespace\\kalman_smoother.py:419\u001b[0m, in \u001b[0;36mKalmanSmoother.smooth\u001b[1;34m(self, smoother_output, smooth_method, results, run_filter, prefix, complex_step, update_representation, update_filter, update_smoother, **kwargs)\u001b[0m\n\u001b[0;32m    417\u001b[0m \u001b[39mif\u001b[39;00m smoother_output \u001b[39mis\u001b[39;00m \u001b[39mNone\u001b[39;00m:\n\u001b[0;32m    418\u001b[0m     smoother_output \u001b[39m=\u001b[39m \u001b[39mself\u001b[39m\u001b[39m.\u001b[39msmoother_output\n\u001b[1;32m--> 419\u001b[0m smoother \u001b[39m=\u001b[39m \u001b[39mself\u001b[39m\u001b[39m.\u001b[39m_smooth(smoother_output, results\u001b[39m=\u001b[39mresults, \u001b[39m*\u001b[39m\u001b[39m*\u001b[39mkwargs)\n\u001b[0;32m    421\u001b[0m \u001b[39m# Update the results\u001b[39;00m\n\u001b[0;32m    422\u001b[0m \u001b[39mif\u001b[39;00m update_smoother:\n",
      "File \u001b[1;32mc:\\Users\\Maria\\Documents\\Setups\\Lib\\site-packages\\statsmodels\\tsa\\statespace\\kalman_smoother.py:369\u001b[0m, in \u001b[0;36mKalmanSmoother._smooth\u001b[1;34m(self, smoother_output, smooth_method, prefix, complex_step, results, **kwargs)\u001b[0m\n\u001b[0;32m    366\u001b[0m smoother \u001b[39m=\u001b[39m \u001b[39mself\u001b[39m\u001b[39m.\u001b[39m_kalman_smoothers[prefix]\n\u001b[0;32m    368\u001b[0m \u001b[39m# Run the smoother\u001b[39;00m\n\u001b[1;32m--> 369\u001b[0m smoother()\n\u001b[0;32m    371\u001b[0m \u001b[39mreturn\u001b[39;00m smoother\n",
      "File \u001b[1;32mstatsmodels\\tsa\\statespace\\_kalman_smoother.pyx:1214\u001b[0m, in \u001b[0;36mstatsmodels.tsa.statespace._kalman_smoother.dKalmanSmoother.__call__\u001b[1;34m()\u001b[0m\n",
      "File \u001b[1;32mstatsmodels\\tsa\\statespace\\_kalman_smoother.pyx:1239\u001b[0m, in \u001b[0;36mstatsmodels.tsa.statespace._kalman_smoother.dKalmanSmoother.__next__\u001b[1;34m()\u001b[0m\n",
      "File \u001b[1;32mstatsmodels\\tsa\\statespace\\_kalman_smoother.pyx:1435\u001b[0m, in \u001b[0;36mstatsmodels.tsa.statespace._kalman_smoother.dKalmanSmoother.initialize_smoother_object_pointers\u001b[1;34m()\u001b[0m\n",
      "\u001b[1;31mAttributeError\u001b[0m: Memoryview is not initialized"
     ]
    }
   ],
   "source": [
    "# Find the best ARIMA model using auto_arima\n",
    "stepwise_fit = auto_arima(energydata, seasonal=True, m=24, trace=True)\n",
    "\n",
    "# Get the best model's order\n",
    "best_order = stepwise_fit.get_params()['order']\n",
    "best_seasonal_order = stepwise_fit.get_params()['seasonal_order']"
   ]
  }
 ],
 "metadata": {
  "kernelspec": {
   "display_name": "base",
   "language": "python",
   "name": "python3"
  },
  "language_info": {
   "codemirror_mode": {
    "name": "ipython",
    "version": 3
   },
   "file_extension": ".py",
   "mimetype": "text/x-python",
   "name": "python",
   "nbconvert_exporter": "python",
   "pygments_lexer": "ipython3",
   "version": "3.11.5"
  }
 },
 "nbformat": 4,
 "nbformat_minor": 2
}
