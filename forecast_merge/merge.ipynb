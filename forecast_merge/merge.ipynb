{
 "cells": [
  {
   "cell_type": "code",
   "execution_count": 1,
   "metadata": {},
   "outputs": [],
   "source": [
    "import numpy as np\n",
    "import pandas as pd"
   ]
  },
  {
   "cell_type": "code",
   "execution_count": 2,
   "metadata": {},
   "outputs": [
    {
     "name": "stderr",
     "output_type": "stream",
     "text": [
      "100%|██████████| 256/256 [02:57<00:00,  1.44it/s]\n"
     ]
    }
   ],
   "source": [
    "from energy_consumption.models.ec_model1 import get_ec_forecasts_model1\n",
    "\n",
    "energy_forecasts_m1 = get_ec_forecasts_model1()\n",
    "\n",
    "if 'date_time' in energy_forecasts_m1.columns:\n",
    "    energy_forecasts_m1 = energy_forecasts_m1.drop(columns=['date_time'])"
   ]
  },
  {
   "cell_type": "code",
   "execution_count": 3,
   "metadata": {},
   "outputs": [
    {
     "data": {
      "text/html": [
       "<div>\n",
       "<style scoped>\n",
       "    .dataframe tbody tr th:only-of-type {\n",
       "        vertical-align: middle;\n",
       "    }\n",
       "\n",
       "    .dataframe tbody tr th {\n",
       "        vertical-align: top;\n",
       "    }\n",
       "\n",
       "    .dataframe thead th {\n",
       "        text-align: right;\n",
       "    }\n",
       "</style>\n",
       "<table border=\"1\" class=\"dataframe\">\n",
       "  <thead>\n",
       "    <tr style=\"text-align: right;\">\n",
       "      <th></th>\n",
       "      <th>forecast_date</th>\n",
       "      <th>target</th>\n",
       "      <th>horizon</th>\n",
       "      <th>q0.025</th>\n",
       "      <th>q0.25</th>\n",
       "      <th>q0.5</th>\n",
       "      <th>q0.75</th>\n",
       "      <th>q0.975</th>\n",
       "    </tr>\n",
       "  </thead>\n",
       "  <tbody>\n",
       "    <tr>\n",
       "      <th>0</th>\n",
       "      <td>2023-11-13</td>\n",
       "      <td>energy</td>\n",
       "      <td>36 hour</td>\n",
       "      <td>48.929369</td>\n",
       "      <td>57.491332</td>\n",
       "      <td>59.923923</td>\n",
       "      <td>62.483252</td>\n",
       "      <td>70.495715</td>\n",
       "    </tr>\n",
       "    <tr>\n",
       "      <th>1</th>\n",
       "      <td>2023-11-13</td>\n",
       "      <td>energy</td>\n",
       "      <td>40 hour</td>\n",
       "      <td>49.559434</td>\n",
       "      <td>56.678865</td>\n",
       "      <td>57.988762</td>\n",
       "      <td>60.082022</td>\n",
       "      <td>67.115966</td>\n",
       "    </tr>\n",
       "    <tr>\n",
       "      <th>2</th>\n",
       "      <td>2023-11-13</td>\n",
       "      <td>energy</td>\n",
       "      <td>44 hour</td>\n",
       "      <td>39.901500</td>\n",
       "      <td>44.766501</td>\n",
       "      <td>46.955923</td>\n",
       "      <td>49.420344</td>\n",
       "      <td>56.955538</td>\n",
       "    </tr>\n",
       "    <tr>\n",
       "      <th>3</th>\n",
       "      <td>2023-11-13</td>\n",
       "      <td>energy</td>\n",
       "      <td>60 hour</td>\n",
       "      <td>48.929369</td>\n",
       "      <td>57.491332</td>\n",
       "      <td>59.923923</td>\n",
       "      <td>62.483252</td>\n",
       "      <td>70.495715</td>\n",
       "    </tr>\n",
       "    <tr>\n",
       "      <th>4</th>\n",
       "      <td>2023-11-13</td>\n",
       "      <td>energy</td>\n",
       "      <td>64 hour</td>\n",
       "      <td>49.559434</td>\n",
       "      <td>56.678865</td>\n",
       "      <td>57.988762</td>\n",
       "      <td>60.082022</td>\n",
       "      <td>67.115966</td>\n",
       "    </tr>\n",
       "    <tr>\n",
       "      <th>5</th>\n",
       "      <td>2023-11-13</td>\n",
       "      <td>energy</td>\n",
       "      <td>68 hour</td>\n",
       "      <td>39.901500</td>\n",
       "      <td>44.766501</td>\n",
       "      <td>46.955923</td>\n",
       "      <td>49.420344</td>\n",
       "      <td>56.955538</td>\n",
       "    </tr>\n",
       "  </tbody>\n",
       "</table>\n",
       "</div>"
      ],
      "text/plain": [
       "  forecast_date  target  horizon     q0.025      q0.25       q0.5      q0.75  \\\n",
       "0    2023-11-13  energy  36 hour  48.929369  57.491332  59.923923  62.483252   \n",
       "1    2023-11-13  energy  40 hour  49.559434  56.678865  57.988762  60.082022   \n",
       "2    2023-11-13  energy  44 hour  39.901500  44.766501  46.955923  49.420344   \n",
       "3    2023-11-13  energy  60 hour  48.929369  57.491332  59.923923  62.483252   \n",
       "4    2023-11-13  energy  64 hour  49.559434  56.678865  57.988762  60.082022   \n",
       "5    2023-11-13  energy  68 hour  39.901500  44.766501  46.955923  49.420344   \n",
       "\n",
       "      q0.975  \n",
       "0  70.495715  \n",
       "1  67.115966  \n",
       "2  56.955538  \n",
       "3  70.495715  \n",
       "4  67.115966  \n",
       "5  56.955538  "
      ]
     },
     "execution_count": 3,
     "metadata": {},
     "output_type": "execute_result"
    }
   ],
   "source": [
    "energy_forecasts_m1"
   ]
  },
  {
   "cell_type": "code",
   "execution_count": 8,
   "metadata": {},
   "outputs": [],
   "source": [
    "from dax.models.dax_model1 import get_dax_forecasts_model1\n",
    "df_sub_dax = get_dax_forecasts_model1()"
   ]
  },
  {
   "cell_type": "code",
   "execution_count": 9,
   "metadata": {},
   "outputs": [],
   "source": [
    "from datetime import datetime\n",
    "date_st = (datetime.today().strftime('%Y-%m-%d'))\n",
    "\n",
    "df_sub_dax.insert(0, 'forecast_date', date_st)"
   ]
  },
  {
   "cell_type": "code",
   "execution_count": 10,
   "metadata": {},
   "outputs": [],
   "source": [
    "import pandas as pd \n",
    "\n",
    "weeks = ['0 week', '1 week', '2 week', '3 week', '4 week']\n",
    "\n",
    "df_sub_inf = pd.DataFrame({\n",
    "    \"forecast_date\": date_st,\n",
    "    \"target\": \"infections\",\n",
    "    \"horizon\": weeks,\n",
    "    \"q0.025\": np.nan,\n",
    "    \"q0.25\": np.nan,\n",
    "    \"q0.5\": np.nan,\n",
    "    \"q0.75\": np.nan,\n",
    "    \"q0.975\": np.nan})"
   ]
  },
  {
   "cell_type": "code",
   "execution_count": 11,
   "metadata": {},
   "outputs": [],
   "source": [
    "\n",
    "submission_frame = pd.merge(df_sub_dax, energy_forecasts_m1, how='outer')\n",
    "submission_frame = pd.merge(submission_frame, df_sub_inf, how='outer')"
   ]
  },
  {
   "cell_type": "code",
   "execution_count": 12,
   "metadata": {},
   "outputs": [],
   "source": [
    "date_string = date_st\n",
    "date_obj = datetime.strptime(date_string, \"%Y-%m-%d\")\n",
    "formatted_date = date_obj.strftime(\"%Y%m%d\")\n",
    "\n",
    "submission_frame.to_csv(\n",
    "    str('C:/Users/Maria/Documents/Studium/Pyhton Projekte/PTSFC/submission_files/' +\n",
    "        formatted_date + '_BrienneVonTarth'),\n",
    "    index=False, na_rep=\"NA\")"
   ]
  }
 ],
 "metadata": {
  "kernelspec": {
   "display_name": "base",
   "language": "python",
   "name": "python3"
  },
  "language_info": {
   "codemirror_mode": {
    "name": "ipython",
    "version": 3
   },
   "file_extension": ".py",
   "mimetype": "text/x-python",
   "name": "python",
   "nbconvert_exporter": "python",
   "pygments_lexer": "ipython3",
   "version": "3.11.5"
  }
 },
 "nbformat": 4,
 "nbformat_minor": 2
}
