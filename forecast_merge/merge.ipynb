{
 "cells": [
  {
   "cell_type": "code",
   "execution_count": 2,
   "metadata": {},
   "outputs": [],
   "source": [
    "import numpy as np\n",
    "import pandas as pd\n",
    "\n",
    "from dax.models.combination.combined_new import combine_models\n",
    "from energy_consumption.models.combination import combine_selected_models.py"
   ]
  },
  {
   "cell_type": "code",
   "execution_count": null,
   "metadata": {},
   "outputs": [],
   "source": [
    "from energy_consumption.feature_selection.clean.impute_outliers import impute_outliers\n",
    "energydata = pd.read_csv(\n",
    "    'c:\\\\Users\\\\Maria\\\\Documents\\\\Studium\\\\Pyhton Projekte\\\\PTSFC\\\\energy_consumption\\\\feature_selection\\\\data\\\\historical_data.csv')\n",
    "energydata['date_time'] = pd.to_datetime(\n",
    "    energydata['date_time'], format='%Y-%m-%d %H:%M:%S')\n",
    "energydata = energydata.set_index(\"date_time\")\n",
    "energydata = impute_outliers(energydata)\n",
    "energydata"
   ]
  },
  {
   "cell_type": "code",
   "execution_count": 3,
   "metadata": {},
   "outputs": [
    {
     "name": "stderr",
     "output_type": "stream",
     "text": [
      "100%|██████████| 364/364 [04:14<00:00,  1.43it/s]\n"
     ]
    }
   ],
   "source": [
    "from energy_consumption.feature_selection.extract import extract_energy_data\n",
    "energydata = extract_energy_data.get_data(num_years=7)"
   ]
  },
  {
   "cell_type": "code",
   "execution_count": null,
   "metadata": {},
   "outputs": [],
   "source": [
    "energyforecasts = combine_selected_models()\n",
    "energyforecasts"
   ]
  },
  {
   "cell_type": "code",
   "execution_count": 41,
   "metadata": {},
   "outputs": [
    {
     "data": {
      "text/html": [
       "<div>\n",
       "<style scoped>\n",
       "    .dataframe tbody tr th:only-of-type {\n",
       "        vertical-align: middle;\n",
       "    }\n",
       "\n",
       "    .dataframe tbody tr th {\n",
       "        vertical-align: top;\n",
       "    }\n",
       "\n",
       "    .dataframe thead th {\n",
       "        text-align: right;\n",
       "    }\n",
       "</style>\n",
       "<table border=\"1\" class=\"dataframe\">\n",
       "  <thead>\n",
       "    <tr style=\"text-align: right;\">\n",
       "      <th></th>\n",
       "      <th>forecast_date</th>\n",
       "      <th>target</th>\n",
       "      <th>horizon</th>\n",
       "      <th>q0.025</th>\n",
       "      <th>q0.25</th>\n",
       "      <th>q0.5</th>\n",
       "      <th>q0.75</th>\n",
       "      <th>q0.975</th>\n",
       "    </tr>\n",
       "  </thead>\n",
       "  <tbody>\n",
       "    <tr>\n",
       "      <th>0</th>\n",
       "      <td>2024-01-24</td>\n",
       "      <td>energy</td>\n",
       "      <td>36 hour</td>\n",
       "      <td>65.347606</td>\n",
       "      <td>68.980251</td>\n",
       "      <td>71.155358</td>\n",
       "      <td>72.621076</td>\n",
       "      <td>76.296573</td>\n",
       "    </tr>\n",
       "    <tr>\n",
       "      <th>1</th>\n",
       "      <td>2024-01-24</td>\n",
       "      <td>energy</td>\n",
       "      <td>40 hour</td>\n",
       "      <td>61.644648</td>\n",
       "      <td>66.413324</td>\n",
       "      <td>68.665489</td>\n",
       "      <td>70.351177</td>\n",
       "      <td>73.364357</td>\n",
       "    </tr>\n",
       "    <tr>\n",
       "      <th>2</th>\n",
       "      <td>2024-01-24</td>\n",
       "      <td>energy</td>\n",
       "      <td>44 hour</td>\n",
       "      <td>52.804364</td>\n",
       "      <td>58.197704</td>\n",
       "      <td>61.28367</td>\n",
       "      <td>64.113562</td>\n",
       "      <td>69.506902</td>\n",
       "    </tr>\n",
       "    <tr>\n",
       "      <th>3</th>\n",
       "      <td>2024-01-24</td>\n",
       "      <td>energy</td>\n",
       "      <td>60 hour</td>\n",
       "      <td>54.471166</td>\n",
       "      <td>58.233566</td>\n",
       "      <td>61.560305</td>\n",
       "      <td>63.586773</td>\n",
       "      <td>68.015767</td>\n",
       "    </tr>\n",
       "    <tr>\n",
       "      <th>4</th>\n",
       "      <td>2024-01-24</td>\n",
       "      <td>energy</td>\n",
       "      <td>64 hour</td>\n",
       "      <td>52.132285</td>\n",
       "      <td>58.283413</td>\n",
       "      <td>62.672756</td>\n",
       "      <td>64.055436</td>\n",
       "      <td>70.137054</td>\n",
       "    </tr>\n",
       "    <tr>\n",
       "      <th>5</th>\n",
       "      <td>2024-01-24</td>\n",
       "      <td>energy</td>\n",
       "      <td>68 hour</td>\n",
       "      <td>45.963818</td>\n",
       "      <td>52.499909</td>\n",
       "      <td>57.387819</td>\n",
       "      <td>58.449715</td>\n",
       "      <td>68.388625</td>\n",
       "    </tr>\n",
       "  </tbody>\n",
       "</table>\n",
       "</div>"
      ],
      "text/plain": [
       "  forecast_date  target  horizon     q0.025      q0.25       q0.5      q0.75  \\\n",
       "0    2024-01-24  energy  36 hour  65.347606  68.980251  71.155358  72.621076   \n",
       "1    2024-01-24  energy  40 hour  61.644648  66.413324  68.665489  70.351177   \n",
       "2    2024-01-24  energy  44 hour  52.804364  58.197704   61.28367  64.113562   \n",
       "3    2024-01-24  energy  60 hour  54.471166  58.233566  61.560305  63.586773   \n",
       "4    2024-01-24  energy  64 hour  52.132285  58.283413  62.672756  64.055436   \n",
       "5    2024-01-24  energy  68 hour  45.963818  52.499909  57.387819  58.449715   \n",
       "\n",
       "      q0.975  \n",
       "0  76.296573  \n",
       "1  73.364357  \n",
       "2  69.506902  \n",
       "3  68.015767  \n",
       "4  70.137054  \n",
       "5  68.388625  "
      ]
     },
     "execution_count": 41,
     "metadata": {},
     "output_type": "execute_result"
    }
   ],
   "source": [
    "if 'date_time' in energyforecasts.columns:\n",
    "    energyforecasts_m2 = energyforecasts.drop(columns=['date_time'])\n",
    "energyforecasts_m2"
   ]
  },
  {
   "cell_type": "code",
   "execution_count": null,
   "metadata": {},
   "outputs": [],
   "source": [
    "df_sub_dax = combine_models()\n",
    "df_sub_dax"
   ]
  },
  {
   "cell_type": "code",
   "execution_count": 42,
   "metadata": {},
   "outputs": [],
   "source": [
    "from datetime import datetime\n",
    "import pandas as pd \n",
    "\n",
    "weeks = ['0 week', '1 week', '2 week', '3 week', '4 week']\n",
    "date_st = (datetime.today().strftime('%Y-%m-%d'))\n",
    "\n",
    "df_sub_inf = pd.DataFrame({\n",
    "    \"forecast_date\": date_st,\n",
    "    \"target\": \"infections\",\n",
    "    \"horizon\": weeks,\n",
    "    \"q0.025\": np.nan,\n",
    "    \"q0.25\": np.nan,\n",
    "    \"q0.5\": np.nan,\n",
    "    \"q0.75\": np.nan,\n",
    "    \"q0.975\": np.nan})"
   ]
  },
  {
   "cell_type": "code",
   "execution_count": 43,
   "metadata": {},
   "outputs": [],
   "source": [
    "submission_frame = pd.merge(df_sub_dax, energyforecasts_m2, how='outer')\n",
    "submission_frame = pd.merge(submission_frame, df_sub_inf, how='outer')"
   ]
  },
  {
   "cell_type": "code",
   "execution_count": null,
   "metadata": {},
   "outputs": [],
   "source": [
    "submission_frame = submission_frame.drop(columns={'date_time'})"
   ]
  },
  {
   "cell_type": "code",
   "execution_count": null,
   "metadata": {},
   "outputs": [],
   "source": [
    "submission_frame"
   ]
  },
  {
   "cell_type": "code",
   "execution_count": 46,
   "metadata": {},
   "outputs": [],
   "source": [
    "date_string = date_st\n",
    "date_obj = datetime.strptime(date_string, \"%Y-%m-%d\")\n",
    "formatted_date = date_obj.strftime(\"%Y%m%d\")\n",
    "\n",
    "submission_frame.to_csv(\n",
    "    str('C:/Users/Maria/Documents/Studium/Pyhton Projekte/PTSFC/submission_files/' +\n",
    "        formatted_date + '_BrienneVonTarth'),\n",
    "    index=False, na_rep=\"NA\")"
   ]
  }
 ],
 "metadata": {
  "kernelspec": {
   "display_name": "base",
   "language": "python",
   "name": "python3"
  },
  "language_info": {
   "codemirror_mode": {
    "name": "ipython",
    "version": 3
   },
   "file_extension": ".py",
   "mimetype": "text/x-python",
   "name": "python",
   "nbconvert_exporter": "python",
   "pygments_lexer": "ipython3",
   "version": "3.11.5"
  }
 },
 "nbformat": 4,
 "nbformat_minor": 2
}
